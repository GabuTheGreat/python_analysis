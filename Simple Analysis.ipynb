{
 "cells": [
  {
   "cell_type": "markdown",
   "metadata": {},
   "source": [
    "### WHO TB DATA ANALYSIS\n",
    "\n",
    "### 1. Introduction\n",
    "\n",
    "WHO provide a rich source of data on TB(Tuberculosis) and the effectiveness of efforts to reduce this burden. However, the available data are often underused. This may reflect the absence of clear guidance on recommended approaches to the analysis of such data. This project is going to address the gap through detailed practical examples of the analysis of TB data.\n",
    "\n",
    "This project has five major objectives;\n",
    "   \n",
    "   1. To get and analyze descriptive statistics for the WHO TB data set.\n",
    "   2. To measure the rate of TB(all incurrences) in country population.\n",
    "   3. To compare the rate of TB incurrence in country population of people living with HIV and those living without HIV.\n",
    "   4. To analyze the incurrence of TB grouped by Countries and by Continents.\n",
    "   5. To analyze the impact of a countries GDP on TB \n",
    "   \n",
    "### 2. Abbreviations \n",
    "\n",
    "    e_inc_num           Estimated number of incident cases (all forms)\n",
    "    e_pop_num           Estimated total population number\n",
    "    e_inc_tbhiv_num     Estimated incidence of TB cases who are HIV-positive\n",
    "\n",
    "\n",
    "###### Loading the necessary packages\n"
   ]
  },
  {
   "cell_type": "code",
<<<<<<< HEAD
   "execution_count": 2,
=======
   "execution_count": 1,
>>>>>>> f6d97e422a326c5bff0aad48c2b6f7ac930742ea
   "metadata": {},
   "outputs": [],
   "source": [
    "# Importing pandas \n",
    "\n",
    "import pandas as pd\n",
    "\n",
    "# Importing matplotlib and setting aeshetics for plotting later\n",
    "\n",
    "import matplotlib.pyplot as plt\n",
    "plt.style.use('ggplot')\n",
    "\n"
   ]
  },
  {
   "cell_type": "markdown",
   "metadata": {},
   "source": [
    "###### Reading in the WHO TB dataset"
   ]
  },
  {
   "cell_type": "code",
<<<<<<< HEAD
   "execution_count": 3,
   "metadata": {},
   "outputs": [
    {
     "data": {
      "text/html": [
       "<div>\n",
       "<style scoped>\n",
       "    .dataframe tbody tr th:only-of-type {\n",
       "        vertical-align: middle;\n",
       "    }\n",
       "\n",
       "    .dataframe tbody tr th {\n",
       "        vertical-align: top;\n",
       "    }\n",
       "\n",
       "    .dataframe thead th {\n",
       "        text-align: right;\n",
       "    }\n",
       "</style>\n",
       "<table border=\"1\" class=\"dataframe\">\n",
       "  <thead>\n",
       "    <tr style=\"text-align: right;\">\n",
       "      <th></th>\n",
       "      <th>country</th>\n",
       "      <th>iso2</th>\n",
       "      <th>iso3</th>\n",
       "      <th>iso_numeric</th>\n",
       "      <th>g_whoregion</th>\n",
       "      <th>year</th>\n",
       "      <th>e_pop_num</th>\n",
       "      <th>e_inc_100k</th>\n",
       "      <th>e_inc_100k_lo</th>\n",
       "      <th>e_inc_100k_hi</th>\n",
       "      <th>...</th>\n",
       "      <th>e_mort_num</th>\n",
       "      <th>e_mort_num_lo</th>\n",
       "      <th>e_mort_num_hi</th>\n",
       "      <th>cfr</th>\n",
       "      <th>cfr_lo</th>\n",
       "      <th>cfr_hi</th>\n",
       "      <th>c_newinc_100k</th>\n",
       "      <th>c_cdr</th>\n",
       "      <th>c_cdr_lo</th>\n",
       "      <th>c_cdr_hi</th>\n",
       "    </tr>\n",
       "  </thead>\n",
       "  <tbody>\n",
       "    <tr>\n",
       "      <th>0</th>\n",
       "      <td>Afghanistan</td>\n",
       "      <td>AF</td>\n",
       "      <td>AFG</td>\n",
       "      <td>4</td>\n",
       "      <td>EMR</td>\n",
       "      <td>2000</td>\n",
       "      <td>20093756</td>\n",
       "      <td>190.0</td>\n",
       "      <td>123.0</td>\n",
       "      <td>271.0</td>\n",
       "      <td>...</td>\n",
       "      <td>14000</td>\n",
       "      <td>7800</td>\n",
       "      <td>21000</td>\n",
       "      <td>NaN</td>\n",
       "      <td>NaN</td>\n",
       "      <td>NaN</td>\n",
       "      <td>35.0</td>\n",
       "      <td>19.0</td>\n",
       "      <td>13.0</td>\n",
       "      <td>29.0</td>\n",
       "    </tr>\n",
       "    <tr>\n",
       "      <th>1</th>\n",
       "      <td>Afghanistan</td>\n",
       "      <td>AF</td>\n",
       "      <td>AFG</td>\n",
       "      <td>4</td>\n",
       "      <td>EMR</td>\n",
       "      <td>2001</td>\n",
       "      <td>20966463</td>\n",
       "      <td>189.0</td>\n",
       "      <td>123.0</td>\n",
       "      <td>271.0</td>\n",
       "      <td>...</td>\n",
       "      <td>13000</td>\n",
       "      <td>7600</td>\n",
       "      <td>20000</td>\n",
       "      <td>NaN</td>\n",
       "      <td>NaN</td>\n",
       "      <td>NaN</td>\n",
       "      <td>48.0</td>\n",
       "      <td>26.0</td>\n",
       "      <td>18.0</td>\n",
       "      <td>39.0</td>\n",
       "    </tr>\n",
       "    <tr>\n",
       "      <th>2</th>\n",
       "      <td>Afghanistan</td>\n",
       "      <td>AF</td>\n",
       "      <td>AFG</td>\n",
       "      <td>4</td>\n",
       "      <td>EMR</td>\n",
       "      <td>2002</td>\n",
       "      <td>21979923</td>\n",
       "      <td>189.0</td>\n",
       "      <td>122.0</td>\n",
       "      <td>270.0</td>\n",
       "      <td>...</td>\n",
       "      <td>12000</td>\n",
       "      <td>7200</td>\n",
       "      <td>19000</td>\n",
       "      <td>NaN</td>\n",
       "      <td>NaN</td>\n",
       "      <td>NaN</td>\n",
       "      <td>63.0</td>\n",
       "      <td>33.0</td>\n",
       "      <td>23.0</td>\n",
       "      <td>51.0</td>\n",
       "    </tr>\n",
       "    <tr>\n",
       "      <th>3</th>\n",
       "      <td>Afghanistan</td>\n",
       "      <td>AF</td>\n",
       "      <td>AFG</td>\n",
       "      <td>4</td>\n",
       "      <td>EMR</td>\n",
       "      <td>2003</td>\n",
       "      <td>23064851</td>\n",
       "      <td>189.0</td>\n",
       "      <td>122.0</td>\n",
       "      <td>270.0</td>\n",
       "      <td>...</td>\n",
       "      <td>13000</td>\n",
       "      <td>7700</td>\n",
       "      <td>20000</td>\n",
       "      <td>NaN</td>\n",
       "      <td>NaN</td>\n",
       "      <td>NaN</td>\n",
       "      <td>60.0</td>\n",
       "      <td>32.0</td>\n",
       "      <td>22.0</td>\n",
       "      <td>49.0</td>\n",
       "    </tr>\n",
       "    <tr>\n",
       "      <th>4</th>\n",
       "      <td>Afghanistan</td>\n",
       "      <td>AF</td>\n",
       "      <td>AFG</td>\n",
       "      <td>4</td>\n",
       "      <td>EMR</td>\n",
       "      <td>2004</td>\n",
       "      <td>24118979</td>\n",
       "      <td>189.0</td>\n",
       "      <td>122.0</td>\n",
       "      <td>270.0</td>\n",
       "      <td>...</td>\n",
       "      <td>12000</td>\n",
       "      <td>7200</td>\n",
       "      <td>19000</td>\n",
       "      <td>NaN</td>\n",
       "      <td>NaN</td>\n",
       "      <td>NaN</td>\n",
       "      <td>76.0</td>\n",
       "      <td>40.0</td>\n",
       "      <td>28.0</td>\n",
       "      <td>62.0</td>\n",
       "    </tr>\n",
       "  </tbody>\n",
       "</table>\n",
       "<p>5 rows × 47 columns</p>\n",
       "</div>"
      ],
      "text/plain": [
       "       country iso2 iso3  iso_numeric g_whoregion  year  e_pop_num  \\\n",
       "0  Afghanistan   AF  AFG            4         EMR  2000   20093756   \n",
       "1  Afghanistan   AF  AFG            4         EMR  2001   20966463   \n",
       "2  Afghanistan   AF  AFG            4         EMR  2002   21979923   \n",
       "3  Afghanistan   AF  AFG            4         EMR  2003   23064851   \n",
       "4  Afghanistan   AF  AFG            4         EMR  2004   24118979   \n",
       "\n",
       "   e_inc_100k  e_inc_100k_lo  e_inc_100k_hi    ...     e_mort_num  \\\n",
       "0       190.0          123.0          271.0    ...          14000   \n",
       "1       189.0          123.0          271.0    ...          13000   \n",
       "2       189.0          122.0          270.0    ...          12000   \n",
       "3       189.0          122.0          270.0    ...          13000   \n",
       "4       189.0          122.0          270.0    ...          12000   \n",
       "\n",
       "   e_mort_num_lo  e_mort_num_hi  cfr  cfr_lo  cfr_hi  c_newinc_100k  c_cdr  \\\n",
       "0           7800          21000  NaN     NaN     NaN           35.0   19.0   \n",
       "1           7600          20000  NaN     NaN     NaN           48.0   26.0   \n",
       "2           7200          19000  NaN     NaN     NaN           63.0   33.0   \n",
       "3           7700          20000  NaN     NaN     NaN           60.0   32.0   \n",
       "4           7200          19000  NaN     NaN     NaN           76.0   40.0   \n",
       "\n",
       "   c_cdr_lo  c_cdr_hi  \n",
       "0      13.0      29.0  \n",
       "1      18.0      39.0  \n",
       "2      23.0      51.0  \n",
       "3      22.0      49.0  \n",
       "4      28.0      62.0  \n",
       "\n",
       "[5 rows x 47 columns]"
      ]
     },
     "execution_count": 3,
     "metadata": {},
     "output_type": "execute_result"
=======
   "execution_count": 2,
   "metadata": {},
   "outputs": [
    {
     "ename": "FileNotFoundError",
     "evalue": "File b'/home/mutuandunda/Downloads/TB_burden_countries_2019-01-11.csv' does not exist",
     "output_type": "error",
     "traceback": [
      "\u001b[0;31m---------------------------------------------------------------------------\u001b[0m",
      "\u001b[0;31mFileNotFoundError\u001b[0m                         Traceback (most recent call last)",
      "\u001b[0;32m<ipython-input-2-74712f0c64a6>\u001b[0m in \u001b[0;36m<module>\u001b[0;34m\u001b[0m\n\u001b[1;32m      1\u001b[0m \u001b[0;31m# Load the TB dataset\u001b[0m\u001b[0;34m\u001b[0m\u001b[0;34m\u001b[0m\u001b[0;34m\u001b[0m\u001b[0m\n\u001b[1;32m      2\u001b[0m \u001b[0;34m\u001b[0m\u001b[0m\n\u001b[0;32m----> 3\u001b[0;31m \u001b[0mall_tb\u001b[0m \u001b[0;34m=\u001b[0m \u001b[0mpd\u001b[0m\u001b[0;34m.\u001b[0m\u001b[0mread_csv\u001b[0m \u001b[0;34m(\u001b[0m\u001b[0;34m'~/Downloads/TB_burden_countries_2019-01-11.csv'\u001b[0m\u001b[0;34m,\u001b[0m \u001b[0mencoding\u001b[0m \u001b[0;34m=\u001b[0m \u001b[0;34m'utf-8'\u001b[0m\u001b[0;34m)\u001b[0m\u001b[0;34m\u001b[0m\u001b[0;34m\u001b[0m\u001b[0m\n\u001b[0m\u001b[1;32m      4\u001b[0m \u001b[0;34m\u001b[0m\u001b[0m\n\u001b[1;32m      5\u001b[0m \u001b[0;31m# Print out the first 5 Rows\u001b[0m\u001b[0;34m\u001b[0m\u001b[0;34m\u001b[0m\u001b[0;34m\u001b[0m\u001b[0m\n",
      "\u001b[0;32m/usr/lib64/python3.7/site-packages/pandas/io/parsers.py\u001b[0m in \u001b[0;36mparser_f\u001b[0;34m(filepath_or_buffer, sep, delimiter, header, names, index_col, usecols, squeeze, prefix, mangle_dupe_cols, dtype, engine, converters, true_values, false_values, skipinitialspace, skiprows, nrows, na_values, keep_default_na, na_filter, verbose, skip_blank_lines, parse_dates, infer_datetime_format, keep_date_col, date_parser, dayfirst, iterator, chunksize, compression, thousands, decimal, lineterminator, quotechar, quoting, escapechar, comment, encoding, dialect, tupleize_cols, error_bad_lines, warn_bad_lines, skipfooter, doublequote, delim_whitespace, low_memory, memory_map, float_precision)\u001b[0m\n\u001b[1;32m    676\u001b[0m                     skip_blank_lines=skip_blank_lines)\n\u001b[1;32m    677\u001b[0m \u001b[0;34m\u001b[0m\u001b[0m\n\u001b[0;32m--> 678\u001b[0;31m         \u001b[0;32mreturn\u001b[0m \u001b[0m_read\u001b[0m\u001b[0;34m(\u001b[0m\u001b[0mfilepath_or_buffer\u001b[0m\u001b[0;34m,\u001b[0m \u001b[0mkwds\u001b[0m\u001b[0;34m)\u001b[0m\u001b[0;34m\u001b[0m\u001b[0;34m\u001b[0m\u001b[0m\n\u001b[0m\u001b[1;32m    679\u001b[0m \u001b[0;34m\u001b[0m\u001b[0m\n\u001b[1;32m    680\u001b[0m     \u001b[0mparser_f\u001b[0m\u001b[0;34m.\u001b[0m\u001b[0m__name__\u001b[0m \u001b[0;34m=\u001b[0m \u001b[0mname\u001b[0m\u001b[0;34m\u001b[0m\u001b[0;34m\u001b[0m\u001b[0m\n",
      "\u001b[0;32m/usr/lib64/python3.7/site-packages/pandas/io/parsers.py\u001b[0m in \u001b[0;36m_read\u001b[0;34m(filepath_or_buffer, kwds)\u001b[0m\n\u001b[1;32m    438\u001b[0m \u001b[0;34m\u001b[0m\u001b[0m\n\u001b[1;32m    439\u001b[0m     \u001b[0;31m# Create the parser.\u001b[0m\u001b[0;34m\u001b[0m\u001b[0;34m\u001b[0m\u001b[0;34m\u001b[0m\u001b[0m\n\u001b[0;32m--> 440\u001b[0;31m     \u001b[0mparser\u001b[0m \u001b[0;34m=\u001b[0m \u001b[0mTextFileReader\u001b[0m\u001b[0;34m(\u001b[0m\u001b[0mfilepath_or_buffer\u001b[0m\u001b[0;34m,\u001b[0m \u001b[0;34m**\u001b[0m\u001b[0mkwds\u001b[0m\u001b[0;34m)\u001b[0m\u001b[0;34m\u001b[0m\u001b[0;34m\u001b[0m\u001b[0m\n\u001b[0m\u001b[1;32m    441\u001b[0m \u001b[0;34m\u001b[0m\u001b[0m\n\u001b[1;32m    442\u001b[0m     \u001b[0;32mif\u001b[0m \u001b[0mchunksize\u001b[0m \u001b[0;32mor\u001b[0m \u001b[0miterator\u001b[0m\u001b[0;34m:\u001b[0m\u001b[0;34m\u001b[0m\u001b[0;34m\u001b[0m\u001b[0m\n",
      "\u001b[0;32m/usr/lib64/python3.7/site-packages/pandas/io/parsers.py\u001b[0m in \u001b[0;36m__init__\u001b[0;34m(self, f, engine, **kwds)\u001b[0m\n\u001b[1;32m    785\u001b[0m             \u001b[0mself\u001b[0m\u001b[0;34m.\u001b[0m\u001b[0moptions\u001b[0m\u001b[0;34m[\u001b[0m\u001b[0;34m'has_index_names'\u001b[0m\u001b[0;34m]\u001b[0m \u001b[0;34m=\u001b[0m \u001b[0mkwds\u001b[0m\u001b[0;34m[\u001b[0m\u001b[0;34m'has_index_names'\u001b[0m\u001b[0;34m]\u001b[0m\u001b[0;34m\u001b[0m\u001b[0;34m\u001b[0m\u001b[0m\n\u001b[1;32m    786\u001b[0m \u001b[0;34m\u001b[0m\u001b[0m\n\u001b[0;32m--> 787\u001b[0;31m         \u001b[0mself\u001b[0m\u001b[0;34m.\u001b[0m\u001b[0m_make_engine\u001b[0m\u001b[0;34m(\u001b[0m\u001b[0mself\u001b[0m\u001b[0;34m.\u001b[0m\u001b[0mengine\u001b[0m\u001b[0;34m)\u001b[0m\u001b[0;34m\u001b[0m\u001b[0;34m\u001b[0m\u001b[0m\n\u001b[0m\u001b[1;32m    788\u001b[0m \u001b[0;34m\u001b[0m\u001b[0m\n\u001b[1;32m    789\u001b[0m     \u001b[0;32mdef\u001b[0m \u001b[0mclose\u001b[0m\u001b[0;34m(\u001b[0m\u001b[0mself\u001b[0m\u001b[0;34m)\u001b[0m\u001b[0;34m:\u001b[0m\u001b[0;34m\u001b[0m\u001b[0;34m\u001b[0m\u001b[0m\n",
      "\u001b[0;32m/usr/lib64/python3.7/site-packages/pandas/io/parsers.py\u001b[0m in \u001b[0;36m_make_engine\u001b[0;34m(self, engine)\u001b[0m\n\u001b[1;32m   1012\u001b[0m     \u001b[0;32mdef\u001b[0m \u001b[0m_make_engine\u001b[0m\u001b[0;34m(\u001b[0m\u001b[0mself\u001b[0m\u001b[0;34m,\u001b[0m \u001b[0mengine\u001b[0m\u001b[0;34m=\u001b[0m\u001b[0;34m'c'\u001b[0m\u001b[0;34m)\u001b[0m\u001b[0;34m:\u001b[0m\u001b[0;34m\u001b[0m\u001b[0;34m\u001b[0m\u001b[0m\n\u001b[1;32m   1013\u001b[0m         \u001b[0;32mif\u001b[0m \u001b[0mengine\u001b[0m \u001b[0;34m==\u001b[0m \u001b[0;34m'c'\u001b[0m\u001b[0;34m:\u001b[0m\u001b[0;34m\u001b[0m\u001b[0;34m\u001b[0m\u001b[0m\n\u001b[0;32m-> 1014\u001b[0;31m             \u001b[0mself\u001b[0m\u001b[0;34m.\u001b[0m\u001b[0m_engine\u001b[0m \u001b[0;34m=\u001b[0m \u001b[0mCParserWrapper\u001b[0m\u001b[0;34m(\u001b[0m\u001b[0mself\u001b[0m\u001b[0;34m.\u001b[0m\u001b[0mf\u001b[0m\u001b[0;34m,\u001b[0m \u001b[0;34m**\u001b[0m\u001b[0mself\u001b[0m\u001b[0;34m.\u001b[0m\u001b[0moptions\u001b[0m\u001b[0;34m)\u001b[0m\u001b[0;34m\u001b[0m\u001b[0;34m\u001b[0m\u001b[0m\n\u001b[0m\u001b[1;32m   1015\u001b[0m         \u001b[0;32melse\u001b[0m\u001b[0;34m:\u001b[0m\u001b[0;34m\u001b[0m\u001b[0;34m\u001b[0m\u001b[0m\n\u001b[1;32m   1016\u001b[0m             \u001b[0;32mif\u001b[0m \u001b[0mengine\u001b[0m \u001b[0;34m==\u001b[0m \u001b[0;34m'python'\u001b[0m\u001b[0;34m:\u001b[0m\u001b[0;34m\u001b[0m\u001b[0;34m\u001b[0m\u001b[0m\n",
      "\u001b[0;32m/usr/lib64/python3.7/site-packages/pandas/io/parsers.py\u001b[0m in \u001b[0;36m__init__\u001b[0;34m(self, src, **kwds)\u001b[0m\n\u001b[1;32m   1706\u001b[0m         \u001b[0mkwds\u001b[0m\u001b[0;34m[\u001b[0m\u001b[0;34m'usecols'\u001b[0m\u001b[0;34m]\u001b[0m \u001b[0;34m=\u001b[0m \u001b[0mself\u001b[0m\u001b[0;34m.\u001b[0m\u001b[0musecols\u001b[0m\u001b[0;34m\u001b[0m\u001b[0;34m\u001b[0m\u001b[0m\n\u001b[1;32m   1707\u001b[0m \u001b[0;34m\u001b[0m\u001b[0m\n\u001b[0;32m-> 1708\u001b[0;31m         \u001b[0mself\u001b[0m\u001b[0;34m.\u001b[0m\u001b[0m_reader\u001b[0m \u001b[0;34m=\u001b[0m \u001b[0mparsers\u001b[0m\u001b[0;34m.\u001b[0m\u001b[0mTextReader\u001b[0m\u001b[0;34m(\u001b[0m\u001b[0msrc\u001b[0m\u001b[0;34m,\u001b[0m \u001b[0;34m**\u001b[0m\u001b[0mkwds\u001b[0m\u001b[0;34m)\u001b[0m\u001b[0;34m\u001b[0m\u001b[0;34m\u001b[0m\u001b[0m\n\u001b[0m\u001b[1;32m   1709\u001b[0m \u001b[0;34m\u001b[0m\u001b[0m\n\u001b[1;32m   1710\u001b[0m         \u001b[0mpassed_names\u001b[0m \u001b[0;34m=\u001b[0m \u001b[0mself\u001b[0m\u001b[0;34m.\u001b[0m\u001b[0mnames\u001b[0m \u001b[0;32mis\u001b[0m \u001b[0;32mNone\u001b[0m\u001b[0;34m\u001b[0m\u001b[0;34m\u001b[0m\u001b[0m\n",
      "\u001b[0;32mpandas/_libs/parsers.pyx\u001b[0m in \u001b[0;36mpandas._libs.parsers.TextReader.__cinit__\u001b[0;34m()\u001b[0m\n",
      "\u001b[0;32mpandas/_libs/parsers.pyx\u001b[0m in \u001b[0;36mpandas._libs.parsers.TextReader._setup_parser_source\u001b[0;34m()\u001b[0m\n",
      "\u001b[0;31mFileNotFoundError\u001b[0m: File b'/home/mutuandunda/Downloads/TB_burden_countries_2019-01-11.csv' does not exist"
     ]
>>>>>>> f6d97e422a326c5bff0aad48c2b6f7ac930742ea
    }
   ],
   "source": [
    "# Load the TB dataset\n",
    "\n",
    "all_tb = pd.read_csv ('~/Downloads/TB_burden_countries_2019-01-11.csv', encoding = 'utf-8')\n",
    "\n",
    "# Print out the first 5 Rows \n",
    "\n",
    "all_tb.head()\n"
   ]
  },
  {
   "cell_type": "code",
   "execution_count": 4,
   "metadata": {},
   "outputs": [
    {
     "data": {
      "text/html": [
       "<div>\n",
       "<style scoped>\n",
       "    .dataframe tbody tr th:only-of-type {\n",
       "        vertical-align: middle;\n",
       "    }\n",
       "\n",
       "    .dataframe tbody tr th {\n",
       "        vertical-align: top;\n",
       "    }\n",
       "\n",
       "    .dataframe thead th {\n",
       "        text-align: right;\n",
       "    }\n",
       "</style>\n",
       "<table border=\"1\" class=\"dataframe\">\n",
       "  <thead>\n",
       "    <tr style=\"text-align: right;\">\n",
       "      <th></th>\n",
       "      <th>country</th>\n",
       "      <th>iso2</th>\n",
       "      <th>iso3</th>\n",
       "      <th>iso_numeric</th>\n",
       "      <th>g_whoregion</th>\n",
       "      <th>year</th>\n",
       "      <th>e_pop_num</th>\n",
       "      <th>e_inc_100k</th>\n",
       "      <th>e_inc_100k_lo</th>\n",
       "      <th>e_inc_100k_hi</th>\n",
       "      <th>...</th>\n",
       "      <th>e_mort_num</th>\n",
       "      <th>e_mort_num_lo</th>\n",
       "      <th>e_mort_num_hi</th>\n",
       "      <th>cfr</th>\n",
       "      <th>cfr_lo</th>\n",
       "      <th>cfr_hi</th>\n",
       "      <th>c_newinc_100k</th>\n",
       "      <th>c_cdr</th>\n",
       "      <th>c_cdr_lo</th>\n",
       "      <th>c_cdr_hi</th>\n",
       "    </tr>\n",
       "  </thead>\n",
       "  <tbody>\n",
       "    <tr>\n",
       "      <th>3845</th>\n",
       "      <td>Zimbabwe</td>\n",
       "      <td>ZW</td>\n",
       "      <td>ZWE</td>\n",
       "      <td>716</td>\n",
       "      <td>AFR</td>\n",
       "      <td>2013</td>\n",
       "      <td>15054506</td>\n",
       "      <td>304.0</td>\n",
       "      <td>228.0</td>\n",
       "      <td>391.0</td>\n",
       "      <td>...</td>\n",
       "      <td>11000</td>\n",
       "      <td>8000</td>\n",
       "      <td>14000</td>\n",
       "      <td>NaN</td>\n",
       "      <td>NaN</td>\n",
       "      <td>NaN</td>\n",
       "      <td>219.0</td>\n",
       "      <td>72.0</td>\n",
       "      <td>56.0</td>\n",
       "      <td>96.0</td>\n",
       "    </tr>\n",
       "    <tr>\n",
       "      <th>3846</th>\n",
       "      <td>Zimbabwe</td>\n",
       "      <td>ZW</td>\n",
       "      <td>ZWE</td>\n",
       "      <td>716</td>\n",
       "      <td>AFR</td>\n",
       "      <td>2014</td>\n",
       "      <td>15411675</td>\n",
       "      <td>278.0</td>\n",
       "      <td>202.0</td>\n",
       "      <td>366.0</td>\n",
       "      <td>...</td>\n",
       "      <td>11000</td>\n",
       "      <td>7800</td>\n",
       "      <td>14000</td>\n",
       "      <td>NaN</td>\n",
       "      <td>NaN</td>\n",
       "      <td>NaN</td>\n",
       "      <td>192.0</td>\n",
       "      <td>69.0</td>\n",
       "      <td>53.0</td>\n",
       "      <td>95.0</td>\n",
       "    </tr>\n",
       "    <tr>\n",
       "      <th>3847</th>\n",
       "      <td>Zimbabwe</td>\n",
       "      <td>ZW</td>\n",
       "      <td>ZWE</td>\n",
       "      <td>716</td>\n",
       "      <td>AFR</td>\n",
       "      <td>2015</td>\n",
       "      <td>15777451</td>\n",
       "      <td>242.0</td>\n",
       "      <td>179.0</td>\n",
       "      <td>314.0</td>\n",
       "      <td>...</td>\n",
       "      <td>9000</td>\n",
       "      <td>6800</td>\n",
       "      <td>11000</td>\n",
       "      <td>NaN</td>\n",
       "      <td>NaN</td>\n",
       "      <td>NaN</td>\n",
       "      <td>171.0</td>\n",
       "      <td>71.0</td>\n",
       "      <td>55.0</td>\n",
       "      <td>96.0</td>\n",
       "    </tr>\n",
       "    <tr>\n",
       "      <th>3848</th>\n",
       "      <td>Zimbabwe</td>\n",
       "      <td>ZW</td>\n",
       "      <td>ZWE</td>\n",
       "      <td>716</td>\n",
       "      <td>AFR</td>\n",
       "      <td>2016</td>\n",
       "      <td>16150362</td>\n",
       "      <td>233.0</td>\n",
       "      <td>173.0</td>\n",
       "      <td>302.0</td>\n",
       "      <td>...</td>\n",
       "      <td>8700</td>\n",
       "      <td>6500</td>\n",
       "      <td>11000</td>\n",
       "      <td>NaN</td>\n",
       "      <td>NaN</td>\n",
       "      <td>NaN</td>\n",
       "      <td>165.0</td>\n",
       "      <td>71.0</td>\n",
       "      <td>55.0</td>\n",
       "      <td>96.0</td>\n",
       "    </tr>\n",
       "    <tr>\n",
       "      <th>3849</th>\n",
       "      <td>Zimbabwe</td>\n",
       "      <td>ZW</td>\n",
       "      <td>ZWE</td>\n",
       "      <td>716</td>\n",
       "      <td>AFR</td>\n",
       "      <td>2017</td>\n",
       "      <td>16529904</td>\n",
       "      <td>221.0</td>\n",
       "      <td>164.0</td>\n",
       "      <td>287.0</td>\n",
       "      <td>...</td>\n",
       "      <td>8300</td>\n",
       "      <td>6300</td>\n",
       "      <td>11000</td>\n",
       "      <td>0.23</td>\n",
       "      <td>0.15</td>\n",
       "      <td>0.32</td>\n",
       "      <td>156.0</td>\n",
       "      <td>71.0</td>\n",
       "      <td>55.0</td>\n",
       "      <td>96.0</td>\n",
       "    </tr>\n",
       "  </tbody>\n",
       "</table>\n",
       "<p>5 rows × 47 columns</p>\n",
       "</div>"
      ],
      "text/plain": [
       "       country iso2 iso3  iso_numeric g_whoregion  year  e_pop_num  \\\n",
       "3845  Zimbabwe   ZW  ZWE          716         AFR  2013   15054506   \n",
       "3846  Zimbabwe   ZW  ZWE          716         AFR  2014   15411675   \n",
       "3847  Zimbabwe   ZW  ZWE          716         AFR  2015   15777451   \n",
       "3848  Zimbabwe   ZW  ZWE          716         AFR  2016   16150362   \n",
       "3849  Zimbabwe   ZW  ZWE          716         AFR  2017   16529904   \n",
       "\n",
       "      e_inc_100k  e_inc_100k_lo  e_inc_100k_hi    ...     e_mort_num  \\\n",
       "3845       304.0          228.0          391.0    ...          11000   \n",
       "3846       278.0          202.0          366.0    ...          11000   \n",
       "3847       242.0          179.0          314.0    ...           9000   \n",
       "3848       233.0          173.0          302.0    ...           8700   \n",
       "3849       221.0          164.0          287.0    ...           8300   \n",
       "\n",
       "      e_mort_num_lo  e_mort_num_hi   cfr  cfr_lo  cfr_hi  c_newinc_100k  \\\n",
       "3845           8000          14000   NaN     NaN     NaN          219.0   \n",
       "3846           7800          14000   NaN     NaN     NaN          192.0   \n",
       "3847           6800          11000   NaN     NaN     NaN          171.0   \n",
       "3848           6500          11000   NaN     NaN     NaN          165.0   \n",
       "3849           6300          11000  0.23    0.15    0.32          156.0   \n",
       "\n",
       "      c_cdr  c_cdr_lo  c_cdr_hi  \n",
       "3845   72.0      56.0      96.0  \n",
       "3846   69.0      53.0      95.0  \n",
       "3847   71.0      55.0      96.0  \n",
       "3848   71.0      55.0      96.0  \n",
       "3849   71.0      55.0      96.0  \n",
       "\n",
       "[5 rows x 47 columns]"
      ]
     },
     "execution_count": 4,
     "metadata": {},
     "output_type": "execute_result"
    }
   ],
   "source": [
    "# print out the last 5 rows\n",
    "\n",
    "all_tb.tail()"
   ]
  },
  {
   "cell_type": "code",
   "execution_count": 5,
   "metadata": {},
   "outputs": [
    {
     "data": {
      "text/plain": [
       "(3850, 47)"
      ]
     },
     "execution_count": 5,
     "metadata": {},
     "output_type": "execute_result"
    }
   ],
   "source": [
    "# Getting the shape of our data\n",
    "\n",
    "all_tb.shape"
   ]
  },
  {
   "cell_type": "markdown",
   "metadata": {},
   "source": [
    "###### Getting an overview of the data \n",
    "\n",
    "We notice that the previous calls returns all the columns of the dataset. We want to produce specific and clear-cut descriptive analysis of the data. Therefore, we will select only the columns we need.\n",
    "\n"
   ]
  },
  {
   "cell_type": "code",
   "execution_count": 6,
   "metadata": {},
   "outputs": [
    {
     "data": {
      "text/html": [
       "<div>\n",
       "<style scoped>\n",
       "    .dataframe tbody tr th:only-of-type {\n",
       "        vertical-align: middle;\n",
       "    }\n",
       "\n",
       "    .dataframe tbody tr th {\n",
       "        vertical-align: top;\n",
       "    }\n",
       "\n",
       "    .dataframe thead th {\n",
       "        text-align: right;\n",
       "    }\n",
       "</style>\n",
       "<table border=\"1\" class=\"dataframe\">\n",
       "  <thead>\n",
       "    <tr style=\"text-align: right;\">\n",
       "      <th></th>\n",
       "      <th>country</th>\n",
       "      <th>year</th>\n",
       "      <th>e_inc_num</th>\n",
       "      <th>e_pop_num</th>\n",
       "    </tr>\n",
       "  </thead>\n",
       "  <tbody>\n",
       "    <tr>\n",
       "      <th>0</th>\n",
       "      <td>Afghanistan</td>\n",
       "      <td>2000</td>\n",
       "      <td>38000</td>\n",
       "      <td>20093756</td>\n",
       "    </tr>\n",
       "    <tr>\n",
       "      <th>1</th>\n",
       "      <td>Afghanistan</td>\n",
       "      <td>2001</td>\n",
       "      <td>40000</td>\n",
       "      <td>20966463</td>\n",
       "    </tr>\n",
       "    <tr>\n",
       "      <th>2</th>\n",
       "      <td>Afghanistan</td>\n",
       "      <td>2002</td>\n",
       "      <td>42000</td>\n",
       "      <td>21979923</td>\n",
       "    </tr>\n",
       "    <tr>\n",
       "      <th>3</th>\n",
       "      <td>Afghanistan</td>\n",
       "      <td>2003</td>\n",
       "      <td>44000</td>\n",
       "      <td>23064851</td>\n",
       "    </tr>\n",
       "    <tr>\n",
       "      <th>4</th>\n",
       "      <td>Afghanistan</td>\n",
       "      <td>2004</td>\n",
       "      <td>46000</td>\n",
       "      <td>24118979</td>\n",
       "    </tr>\n",
       "  </tbody>\n",
       "</table>\n",
       "</div>"
      ],
      "text/plain": [
       "       country  year  e_inc_num  e_pop_num\n",
       "0  Afghanistan  2000      38000   20093756\n",
       "1  Afghanistan  2001      40000   20966463\n",
       "2  Afghanistan  2002      42000   21979923\n",
       "3  Afghanistan  2003      44000   23064851\n",
       "4  Afghanistan  2004      46000   24118979"
      ]
     },
     "execution_count": 6,
     "metadata": {},
     "output_type": "execute_result"
    }
   ],
   "source": [
    "# Select the columns required to do descriptive stats of the data\n",
    "\n",
    "all_tb = all_tb [['country', 'year', 'e_inc_num' , 'e_pop_num']]\n",
    "\n",
    "all_tb.head()"
   ]
  },
  {
   "cell_type": "markdown",
   "metadata": {},
   "source": [
    "###### Doing basic descriptive statistics on our data\n",
    "Now that we know our dataset has 3850 records, we need to do basic descriptive statistics to understand it and reveal insights that we cannot get any other way. By doing so we will measure the central tendency which answers the question \"What does the middle of our data look like?\" and by also getting the measure of our spread, which answers the question \"How much does my data vary?\""
   ]
  },
  {
   "cell_type": "code",
   "execution_count": 7,
   "metadata": {
    "scrolled": true
   },
   "outputs": [
    {
     "data": {
      "text/html": [
       "<div>\n",
       "<style scoped>\n",
       "    .dataframe tbody tr th:only-of-type {\n",
       "        vertical-align: middle;\n",
       "    }\n",
       "\n",
       "    .dataframe tbody tr th {\n",
       "        vertical-align: top;\n",
       "    }\n",
       "\n",
       "    .dataframe thead th {\n",
       "        text-align: right;\n",
       "    }\n",
       "</style>\n",
       "<table border=\"1\" class=\"dataframe\">\n",
       "  <thead>\n",
       "    <tr style=\"text-align: right;\">\n",
       "      <th></th>\n",
       "      <th>year</th>\n",
       "      <th>e_inc_num</th>\n",
       "      <th>e_pop_num</th>\n",
       "    </tr>\n",
       "  </thead>\n",
       "  <tbody>\n",
       "    <tr>\n",
       "      <th>count</th>\n",
       "      <td>3850.0</td>\n",
       "      <td>3850.0</td>\n",
       "      <td>3.850000e+03</td>\n",
       "    </tr>\n",
       "    <tr>\n",
       "      <th>mean</th>\n",
       "      <td>2009.0</td>\n",
       "      <td>49457.0</td>\n",
       "      <td>3.185015e+07</td>\n",
       "    </tr>\n",
       "    <tr>\n",
       "      <th>std</th>\n",
       "      <td>5.0</td>\n",
       "      <td>235495.0</td>\n",
       "      <td>1.275250e+08</td>\n",
       "    </tr>\n",
       "    <tr>\n",
       "      <th>min</th>\n",
       "      <td>2000.0</td>\n",
       "      <td>0.0</td>\n",
       "      <td>1.126000e+03</td>\n",
       "    </tr>\n",
       "    <tr>\n",
       "      <th>25%</th>\n",
       "      <td>2004.0</td>\n",
       "      <td>220.0</td>\n",
       "      <td>7.241050e+05</td>\n",
       "    </tr>\n",
       "    <tr>\n",
       "      <th>50%</th>\n",
       "      <td>2009.0</td>\n",
       "      <td>3000.0</td>\n",
       "      <td>5.613306e+06</td>\n",
       "    </tr>\n",
       "    <tr>\n",
       "      <th>75%</th>\n",
       "      <td>2013.0</td>\n",
       "      <td>17000.0</td>\n",
       "      <td>2.019158e+07</td>\n",
       "    </tr>\n",
       "    <tr>\n",
       "      <th>max</th>\n",
       "      <td>2017.0</td>\n",
       "      <td>3190000.0</td>\n",
       "      <td>1.409517e+09</td>\n",
       "    </tr>\n",
       "  </tbody>\n",
       "</table>\n",
       "</div>"
      ],
      "text/plain": [
       "         year  e_inc_num     e_pop_num\n",
       "count  3850.0     3850.0  3.850000e+03\n",
       "mean   2009.0    49457.0  3.185015e+07\n",
       "std       5.0   235495.0  1.275250e+08\n",
       "min    2000.0        0.0  1.126000e+03\n",
       "25%    2004.0      220.0  7.241050e+05\n",
       "50%    2009.0     3000.0  5.613306e+06\n",
       "75%    2013.0    17000.0  2.019158e+07\n",
       "max    2017.0  3190000.0  1.409517e+09"
      ]
     },
     "execution_count": 7,
     "metadata": {},
     "output_type": "execute_result"
    }
   ],
   "source": [
    "all_tb.describe().round()"
   ]
  },
  {
   "cell_type": "code",
   "execution_count": 8,
   "metadata": {},
   "outputs": [
    {
     "data": {
      "text/plain": [
       "e_inc_num       190409887\n",
       "e_pop_num    122623062812\n",
       "dtype: int64"
      ]
     },
     "execution_count": 8,
     "metadata": {},
     "output_type": "execute_result"
    }
   ],
   "source": [
    "# Getting the sum of all TB incurrences and sum of population\n",
    "\n",
    "all_tb[['e_inc_num', 'e_pop_num']] .sum(). round()\n"
   ]
  },
  {
   "cell_type": "code",
   "execution_count": 9,
   "metadata": {},
   "outputs": [
    {
     "data": {
      "text/plain": [
       "218"
      ]
     },
     "execution_count": 9,
     "metadata": {},
     "output_type": "execute_result"
    }
   ],
   "source": [
    "# Getting the number of countries \n",
    "\n",
    "len(all_tb ['country'].unique())"
   ]
  },
  {
   "cell_type": "code",
   "execution_count": 10,
   "metadata": {},
   "outputs": [
    {
     "data": {
      "text/html": [
       "<div>\n",
       "<style scoped>\n",
       "    .dataframe tbody tr th:only-of-type {\n",
       "        vertical-align: middle;\n",
       "    }\n",
       "\n",
       "    .dataframe tbody tr th {\n",
       "        vertical-align: top;\n",
       "    }\n",
       "\n",
       "    .dataframe thead th {\n",
       "        text-align: right;\n",
       "    }\n",
       "</style>\n",
       "<table border=\"1\" class=\"dataframe\">\n",
       "  <thead>\n",
       "    <tr style=\"text-align: right;\">\n",
       "      <th></th>\n",
       "      <th>year</th>\n",
       "      <th>e_inc_num</th>\n",
       "      <th>e_pop_num</th>\n",
       "    </tr>\n",
       "  </thead>\n",
       "  <tbody>\n",
       "    <tr>\n",
       "      <th>year</th>\n",
       "      <td>1.000000</td>\n",
       "      <td>-0.004906</td>\n",
       "      <td>0.013696</td>\n",
       "    </tr>\n",
       "    <tr>\n",
       "      <th>e_inc_num</th>\n",
       "      <td>-0.004906</td>\n",
       "      <td>1.000000</td>\n",
       "      <td>0.841395</td>\n",
       "    </tr>\n",
       "    <tr>\n",
       "      <th>e_pop_num</th>\n",
       "      <td>0.013696</td>\n",
       "      <td>0.841395</td>\n",
       "      <td>1.000000</td>\n",
       "    </tr>\n",
       "  </tbody>\n",
       "</table>\n",
       "</div>"
      ],
      "text/plain": [
       "               year  e_inc_num  e_pop_num\n",
       "year       1.000000  -0.004906   0.013696\n",
       "e_inc_num -0.004906   1.000000   0.841395\n",
       "e_pop_num  0.013696   0.841395   1.000000"
      ]
     },
     "execution_count": 10,
     "metadata": {},
     "output_type": "execute_result"
    }
   ],
   "source": [
    "# Checking the correlation of our attributes in the dataset\n",
    "all_tb.corr(method = 'pearson')"
   ]
  },
  {
   "cell_type": "code",
   "execution_count": 11,
   "metadata": {},
   "outputs": [
    {
     "data": {
      "text/html": [
       "<div>\n",
       "<style scoped>\n",
       "    .dataframe tbody tr th:only-of-type {\n",
       "        vertical-align: middle;\n",
       "    }\n",
       "\n",
       "    .dataframe tbody tr th {\n",
       "        vertical-align: top;\n",
       "    }\n",
       "\n",
       "    .dataframe thead th {\n",
       "        text-align: right;\n",
       "    }\n",
       "</style>\n",
       "<table border=\"1\" class=\"dataframe\">\n",
       "  <thead>\n",
       "    <tr style=\"text-align: right;\">\n",
       "      <th></th>\n",
       "      <th>sum</th>\n",
       "      <th>max</th>\n",
       "      <th>min</th>\n",
       "    </tr>\n",
       "    <tr>\n",
       "      <th>year</th>\n",
       "      <th></th>\n",
       "      <th></th>\n",
       "      <th></th>\n",
       "    </tr>\n",
       "  </thead>\n",
       "  <tbody>\n",
       "    <tr>\n",
       "      <th>2000</th>\n",
       "      <td>10413551</td>\n",
       "      <td>3040000</td>\n",
       "      <td>0</td>\n",
       "    </tr>\n",
       "    <tr>\n",
       "      <th>2001</th>\n",
       "      <td>10548676</td>\n",
       "      <td>3090000</td>\n",
       "      <td>0</td>\n",
       "    </tr>\n",
       "    <tr>\n",
       "      <th>2002</th>\n",
       "      <td>10656217</td>\n",
       "      <td>3130000</td>\n",
       "      <td>0</td>\n",
       "    </tr>\n",
       "    <tr>\n",
       "      <th>2003</th>\n",
       "      <td>10775332</td>\n",
       "      <td>3160000</td>\n",
       "      <td>0</td>\n",
       "    </tr>\n",
       "    <tr>\n",
       "      <th>2004</th>\n",
       "      <td>10831371</td>\n",
       "      <td>3180000</td>\n",
       "      <td>0</td>\n",
       "    </tr>\n",
       "    <tr>\n",
       "      <th>2005</th>\n",
       "      <td>10868086</td>\n",
       "      <td>3190000</td>\n",
       "      <td>0</td>\n",
       "    </tr>\n",
       "    <tr>\n",
       "      <th>2006</th>\n",
       "      <td>10863890</td>\n",
       "      <td>3180000</td>\n",
       "      <td>0</td>\n",
       "    </tr>\n",
       "    <tr>\n",
       "      <th>2007</th>\n",
       "      <td>10831962</td>\n",
       "      <td>3160000</td>\n",
       "      <td>0</td>\n",
       "    </tr>\n",
       "    <tr>\n",
       "      <th>2008</th>\n",
       "      <td>10791597</td>\n",
       "      <td>3130000</td>\n",
       "      <td>0</td>\n",
       "    </tr>\n",
       "    <tr>\n",
       "      <th>2009</th>\n",
       "      <td>10764310</td>\n",
       "      <td>3090000</td>\n",
       "      <td>0</td>\n",
       "    </tr>\n",
       "    <tr>\n",
       "      <th>2010</th>\n",
       "      <td>10653969</td>\n",
       "      <td>3050000</td>\n",
       "      <td>0</td>\n",
       "    </tr>\n",
       "    <tr>\n",
       "      <th>2011</th>\n",
       "      <td>10607618</td>\n",
       "      <td>3000000</td>\n",
       "      <td>0</td>\n",
       "    </tr>\n",
       "    <tr>\n",
       "      <th>2012</th>\n",
       "      <td>10548440</td>\n",
       "      <td>2960000</td>\n",
       "      <td>0</td>\n",
       "    </tr>\n",
       "    <tr>\n",
       "      <th>2013</th>\n",
       "      <td>10442519</td>\n",
       "      <td>2920000</td>\n",
       "      <td>0</td>\n",
       "    </tr>\n",
       "    <tr>\n",
       "      <th>2014</th>\n",
       "      <td>10366364</td>\n",
       "      <td>2880000</td>\n",
       "      <td>0</td>\n",
       "    </tr>\n",
       "    <tr>\n",
       "      <th>2015</th>\n",
       "      <td>10268168</td>\n",
       "      <td>2840000</td>\n",
       "      <td>0</td>\n",
       "    </tr>\n",
       "    <tr>\n",
       "      <th>2016</th>\n",
       "      <td>10127756</td>\n",
       "      <td>2790000</td>\n",
       "      <td>0</td>\n",
       "    </tr>\n",
       "    <tr>\n",
       "      <th>2017</th>\n",
       "      <td>10050061</td>\n",
       "      <td>2740000</td>\n",
       "      <td>0</td>\n",
       "    </tr>\n",
       "  </tbody>\n",
       "</table>\n",
       "</div>"
      ],
      "text/plain": [
       "           sum      max  min\n",
       "year                        \n",
       "2000  10413551  3040000    0\n",
       "2001  10548676  3090000    0\n",
       "2002  10656217  3130000    0\n",
       "2003  10775332  3160000    0\n",
       "2004  10831371  3180000    0\n",
       "2005  10868086  3190000    0\n",
       "2006  10863890  3180000    0\n",
       "2007  10831962  3160000    0\n",
       "2008  10791597  3130000    0\n",
       "2009  10764310  3090000    0\n",
       "2010  10653969  3050000    0\n",
       "2011  10607618  3000000    0\n",
       "2012  10548440  2960000    0\n",
       "2013  10442519  2920000    0\n",
       "2014  10366364  2880000    0\n",
       "2015  10268168  2840000    0\n",
       "2016  10127756  2790000    0\n",
       "2017  10050061  2740000    0"
      ]
     },
     "execution_count": 11,
     "metadata": {},
     "output_type": "execute_result"
    }
   ],
   "source": [
    "# Grouping and aggregating by year\n",
    "\n",
    "all_tb_grouped = all_tb.groupby(['year']).e_inc_num.agg(['sum','max','min'])\n",
    "all_tb_grouped"
   ]
  },
  {
   "cell_type": "markdown",
   "metadata": {},
   "source": [
    "This was just a selection of the descriptive statistics that are useful for us to get the rate of TB in country population.\n",
    "We have established out of our 3850 records, we have 218 countries, the total incurrence of TB in the world was at an all time high in 2006. However, this has gradually reduced over the years, reporting an all time low incurrence currently. "
   ]
  },
  {
   "cell_type": "markdown",
   "metadata": {},
   "source": [
    "### 3. Getting the percentage rate of TB(all incurrences) in country population.\n",
    "\n",
    "We can get the percentage rate of TB using the following formula;\n",
    "\n",
    "           % Rate of TB =  (TB incurrence)/(Population) * 100"
   ]
  },
  {
   "cell_type": "code",
   "execution_count": 12,
   "metadata": {},
   "outputs": [
    {
     "data": {
      "text/html": [
       "<div>\n",
       "<style scoped>\n",
       "    .dataframe tbody tr th:only-of-type {\n",
       "        vertical-align: middle;\n",
       "    }\n",
       "\n",
       "    .dataframe tbody tr th {\n",
       "        vertical-align: top;\n",
       "    }\n",
       "\n",
       "    .dataframe thead th {\n",
       "        text-align: right;\n",
       "    }\n",
       "</style>\n",
       "<table border=\"1\" class=\"dataframe\">\n",
       "  <thead>\n",
       "    <tr style=\"text-align: right;\">\n",
       "      <th></th>\n",
       "      <th>country</th>\n",
       "      <th>year</th>\n",
       "      <th>e_inc_num</th>\n",
       "      <th>e_pop_num</th>\n",
       "      <th>perc_rate_tb</th>\n",
       "    </tr>\n",
       "  </thead>\n",
       "  <tbody>\n",
       "    <tr>\n",
       "      <th>0</th>\n",
       "      <td>Afghanistan</td>\n",
       "      <td>2000</td>\n",
       "      <td>38000</td>\n",
       "      <td>20093756</td>\n",
       "      <td>0.19</td>\n",
       "    </tr>\n",
       "    <tr>\n",
       "      <th>1</th>\n",
       "      <td>Afghanistan</td>\n",
       "      <td>2001</td>\n",
       "      <td>40000</td>\n",
       "      <td>20966463</td>\n",
       "      <td>0.19</td>\n",
       "    </tr>\n",
       "    <tr>\n",
       "      <th>2</th>\n",
       "      <td>Afghanistan</td>\n",
       "      <td>2002</td>\n",
       "      <td>42000</td>\n",
       "      <td>21979923</td>\n",
       "      <td>0.19</td>\n",
       "    </tr>\n",
       "    <tr>\n",
       "      <th>3</th>\n",
       "      <td>Afghanistan</td>\n",
       "      <td>2003</td>\n",
       "      <td>44000</td>\n",
       "      <td>23064851</td>\n",
       "      <td>0.19</td>\n",
       "    </tr>\n",
       "    <tr>\n",
       "      <th>4</th>\n",
       "      <td>Afghanistan</td>\n",
       "      <td>2004</td>\n",
       "      <td>46000</td>\n",
       "      <td>24118979</td>\n",
       "      <td>0.19</td>\n",
       "    </tr>\n",
       "  </tbody>\n",
       "</table>\n",
       "</div>"
      ],
      "text/plain": [
       "       country  year  e_inc_num  e_pop_num  perc_rate_tb\n",
       "0  Afghanistan  2000      38000   20093756          0.19\n",
       "1  Afghanistan  2001      40000   20966463          0.19\n",
       "2  Afghanistan  2002      42000   21979923          0.19\n",
       "3  Afghanistan  2003      44000   23064851          0.19\n",
       "4  Afghanistan  2004      46000   24118979          0.19"
      ]
     },
     "execution_count": 12,
     "metadata": {},
     "output_type": "execute_result"
    }
   ],
   "source": [
    "# Divide number of incident cases with the poplulation and create new column \n",
    "\n",
    "all_tb['perc_rate_tb'] = (all_tb['e_inc_num']/all_tb['e_pop_num'] * 100) . round(2)\n",
    "all_tb . head()\n",
    "\n"
   ]
  },
  {
   "cell_type": "code",
   "execution_count": 13,
   "metadata": {},
   "outputs": [
    {
     "data": {
      "text/plain": [
       "country\n",
       "Afghanistan       0.190000\n",
       "Albania           0.020000\n",
       "Algeria           0.075000\n",
       "American Samoa    0.009444\n",
       "Andorra           0.011667\n",
       "Name: perc_rate_tb, dtype: float64"
      ]
     },
     "execution_count": 13,
     "metadata": {},
     "output_type": "execute_result"
    }
   ],
   "source": [
    "# Grouping data by year \n",
    "\n",
    "summary = all_tb.groupby (['country']).perc_rate_tb.mean()\n",
    "summary.head()\n"
   ]
  },
  {
   "cell_type": "markdown",
   "metadata": {},
   "source": [
    "Now that we have grouped our data by country , we can actually now sort the rate of TB to see which country has the highest and lowest rate in TB "
   ]
  },
  {
   "cell_type": "code",
   "execution_count": 14,
   "metadata": {
    "scrolled": true
   },
   "outputs": [
    {
     "data": {
      "text/plain": [
       "country\n",
       "Lesotho                     1.055556\n",
       "South Africa                0.828333\n",
       "Eswatini                    0.768333\n",
       "Namibia                     0.697778\n",
       "Botswana                    0.596111\n",
       "Central African Republic    0.590556\n",
       "Gabon                       0.556667\n",
       "Philippines                 0.546667\n",
       "Zambia                      0.537222\n",
       "Mozambique                  0.534444\n",
       "Name: perc_rate_tb, dtype: float64"
      ]
     },
     "execution_count": 14,
     "metadata": {},
     "output_type": "execute_result"
    }
   ],
   "source": [
    "# sorting the rate of TB in ascending order \n",
    "\n",
    "summary.sort_values(ascending = False).head(10) #10 highest"
   ]
  },
  {
   "cell_type": "code",
   "execution_count": 15,
   "metadata": {
    "scrolled": true
   },
   "outputs": [
    {
     "data": {
      "text/plain": [
       "country\n",
       "Bonaire, Saint Eustatius and Saba    0.0\n",
       "Monaco                               0.0\n",
       "San Marino                           0.0\n",
       "United Arab Emirates                 0.0\n",
       "West Bank and Gaza Strip             0.0\n",
       "Name: perc_rate_tb, dtype: float64"
      ]
     },
     "execution_count": 15,
     "metadata": {},
     "output_type": "execute_result"
    }
   ],
   "source": [
    "# Getting countries reporting 0% rate in TB\n",
    "\n",
    "no_tb =summary[summary == 0.0]\n",
    "no_tb\n"
   ]
  },
  {
   "cell_type": "markdown",
   "metadata": {},
   "source": [
    "###### Insights\n",
    "\n",
    "  1. Only 5 countries report at least a 0% rate in TB\n",
    "  2. 9 out of the 10 countries with the highest rate are from Africa , which is safe to say Africa has the highest rate   incurrence in TB"
   ]
  },
  {
   "cell_type": "markdown",
   "metadata": {},
   "source": [
    "###### Plotting our percentage rate of inccurrence "
   ]
  },
  {
   "cell_type": "code",
   "execution_count": 16,
   "metadata": {},
   "outputs": [
    {
     "data": {
      "image/png": "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\n",
      "text/plain": [
       "<Figure size 432x432 with 1 Axes>"
      ]
     },
     "metadata": {
      "needs_background": "light"
     },
     "output_type": "display_data"
    }
   ],
   "source": [
    "# plotting the data\n",
    "fig = plt.figure(figsize=(6,6)) # define plot area\n",
    "ax = fig.gca() # define axis\n",
    "summary.plot.hist()\n",
    "ax.set_title('% Rate of Incurrence') # Give the plot a main title\n",
    "ax.set_xlabel(\"Rate\") # Set text for the x axis\n",
    "ax.set_ylabel(\"Frequency of Rate\") # Set text for the x axis\n",
    "plt.show()"
   ]
  },
  {
   "cell_type": "markdown",
   "metadata": {},
   "source": [
    "Well, this is somewhat good news. We can see that the % rate of TB incurrence lies between 0 - 0.2% over time.\n",
    "Now let's break it down further and compare this rate with those people living with both TB and HIV."
   ]
  },
  {
   "cell_type": "markdown",
   "metadata": {},
   "source": [
    "### 4. Comparing the rate of TB incurrence in country population of people living with HIV and those living without HIV"
   ]
  },
  {
   "cell_type": "markdown",
   "metadata": {},
   "source": [
    "###### Doing basic stats on the HIV data\n"
   ]
  },
  {
   "cell_type": "code",
   "execution_count": 17,
   "metadata": {},
   "outputs": [
    {
     "data": {
      "text/html": [
       "<div>\n",
       "<style scoped>\n",
       "    .dataframe tbody tr th:only-of-type {\n",
       "        vertical-align: middle;\n",
       "    }\n",
       "\n",
       "    .dataframe tbody tr th {\n",
       "        vertical-align: top;\n",
       "    }\n",
       "\n",
       "    .dataframe thead th {\n",
       "        text-align: right;\n",
       "    }\n",
       "</style>\n",
       "<table border=\"1\" class=\"dataframe\">\n",
       "  <thead>\n",
       "    <tr style=\"text-align: right;\">\n",
       "      <th></th>\n",
       "      <th>year</th>\n",
       "      <th>e_inc_tbhiv_num</th>\n",
       "      <th>e_inc_num</th>\n",
       "    </tr>\n",
       "  </thead>\n",
       "  <tbody>\n",
       "    <tr>\n",
       "      <th>count</th>\n",
       "      <td>3850.0</td>\n",
       "      <td>3531.0</td>\n",
       "      <td>3850.0</td>\n",
       "    </tr>\n",
       "    <tr>\n",
       "      <th>mean</th>\n",
       "      <td>2009.0</td>\n",
       "      <td>6510.0</td>\n",
       "      <td>49457.0</td>\n",
       "    </tr>\n",
       "    <tr>\n",
       "      <th>std</th>\n",
       "      <td>5.0</td>\n",
       "      <td>26063.0</td>\n",
       "      <td>235495.0</td>\n",
       "    </tr>\n",
       "    <tr>\n",
       "      <th>min</th>\n",
       "      <td>2000.0</td>\n",
       "      <td>0.0</td>\n",
       "      <td>0.0</td>\n",
       "    </tr>\n",
       "    <tr>\n",
       "      <th>25%</th>\n",
       "      <td>2004.0</td>\n",
       "      <td>7.0</td>\n",
       "      <td>220.0</td>\n",
       "    </tr>\n",
       "    <tr>\n",
       "      <th>50%</th>\n",
       "      <td>2009.0</td>\n",
       "      <td>120.0</td>\n",
       "      <td>3000.0</td>\n",
       "    </tr>\n",
       "    <tr>\n",
       "      <th>75%</th>\n",
       "      <td>2013.0</td>\n",
       "      <td>1350.0</td>\n",
       "      <td>17000.0</td>\n",
       "    </tr>\n",
       "    <tr>\n",
       "      <th>max</th>\n",
       "      <td>2017.0</td>\n",
       "      <td>308000.0</td>\n",
       "      <td>3190000.0</td>\n",
       "    </tr>\n",
       "  </tbody>\n",
       "</table>\n",
       "</div>"
      ],
      "text/plain": [
       "         year  e_inc_tbhiv_num  e_inc_num\n",
       "count  3850.0           3531.0     3850.0\n",
       "mean   2009.0           6510.0    49457.0\n",
       "std       5.0          26063.0   235495.0\n",
       "min    2000.0              0.0        0.0\n",
       "25%    2004.0              7.0      220.0\n",
       "50%    2009.0            120.0     3000.0\n",
       "75%    2013.0           1350.0    17000.0\n",
       "max    2017.0         308000.0  3190000.0"
      ]
     },
     "execution_count": 17,
     "metadata": {},
     "output_type": "execute_result"
    }
   ],
   "source": [
    "# Select the necessary columns and do a describe\n",
    "all_tb = pd.read_csv ('~/Downloads/TB_burden_countries_2019-01-11.csv', encoding = 'utf-8')\n",
    "\n",
    "tb_hiv_all = all_tb [['country', 'year' , 'e_inc_tbhiv_num', 'e_inc_num']] \n",
    "\n",
    "tb_hiv_all .describe() . round()\n"
   ]
  },
  {
   "cell_type": "markdown",
   "metadata": {},
   "source": [
    "Outrightly we can already tell that there are null values in the e_inc_tbhiv_num column. Keeping in mind that a null value != 0 (zero). Let's drop columns with null values in order for us to get a more accurate analysis"
   ]
  },
  {
   "cell_type": "code",
   "execution_count": 18,
   "metadata": {},
   "outputs": [
    {
     "data": {
      "text/plain": [
       "index              3531\n",
       "country            3531\n",
       "year               3531\n",
       "e_inc_tbhiv_num    3531\n",
       "e_inc_num          3531\n",
       "dtype: int64"
      ]
     },
     "execution_count": 18,
     "metadata": {},
     "output_type": "execute_result"
    }
   ],
   "source": [
    "#drop null values and reset index\n",
    "\n",
    "tb_hiv_all = tb_hiv_all.dropna().reset_index()\n",
    "tb_hiv_all.count()\n"
   ]
  },
  {
   "cell_type": "markdown",
   "metadata": {},
   "source": [
    "For us to be able to compare the rate of people with TB living with HIV and those who don't live with HIV, we will need to create a new column for those living without HIV. Which is simply;\n",
    "\n",
    "                        e_inc_num - e_inc_tbhiv_num "
   ]
  },
  {
   "cell_type": "code",
   "execution_count": 19,
   "metadata": {},
   "outputs": [],
   "source": [
    "# create a new column with people with TB without HIV \n",
    "\n",
    "tb_hiv_all['tb_hiv_neg'] = tb_hiv_all['e_inc_num'] - tb_hiv_all['e_inc_tbhiv_num'] \n"
   ]
  },
  {
   "cell_type": "code",
   "execution_count": 20,
   "metadata": {},
   "outputs": [
    {
     "data": {
      "text/html": [
       "<div>\n",
       "<style scoped>\n",
       "    .dataframe tbody tr th:only-of-type {\n",
       "        vertical-align: middle;\n",
       "    }\n",
       "\n",
       "    .dataframe tbody tr th {\n",
       "        vertical-align: top;\n",
       "    }\n",
       "\n",
       "    .dataframe thead th {\n",
       "        text-align: right;\n",
       "    }\n",
       "</style>\n",
       "<table border=\"1\" class=\"dataframe\">\n",
       "  <thead>\n",
       "    <tr style=\"text-align: right;\">\n",
       "      <th></th>\n",
       "      <th>index</th>\n",
       "      <th>country</th>\n",
       "      <th>year</th>\n",
       "      <th>e_inc_tbhiv_num</th>\n",
       "      <th>e_inc_num</th>\n",
       "      <th>tb_hiv_neg</th>\n",
       "    </tr>\n",
       "  </thead>\n",
       "  <tbody>\n",
       "    <tr>\n",
       "      <th>0</th>\n",
       "      <td>0</td>\n",
       "      <td>Afghanistan</td>\n",
       "      <td>2000</td>\n",
       "      <td>110.0</td>\n",
       "      <td>38000</td>\n",
       "      <td>37890.0</td>\n",
       "    </tr>\n",
       "    <tr>\n",
       "      <th>1</th>\n",
       "      <td>1</td>\n",
       "      <td>Afghanistan</td>\n",
       "      <td>2001</td>\n",
       "      <td>100.0</td>\n",
       "      <td>40000</td>\n",
       "      <td>39900.0</td>\n",
       "    </tr>\n",
       "    <tr>\n",
       "      <th>2</th>\n",
       "      <td>2</td>\n",
       "      <td>Afghanistan</td>\n",
       "      <td>2002</td>\n",
       "      <td>95.0</td>\n",
       "      <td>42000</td>\n",
       "      <td>41905.0</td>\n",
       "    </tr>\n",
       "    <tr>\n",
       "      <th>3</th>\n",
       "      <td>3</td>\n",
       "      <td>Afghanistan</td>\n",
       "      <td>2003</td>\n",
       "      <td>92.0</td>\n",
       "      <td>44000</td>\n",
       "      <td>43908.0</td>\n",
       "    </tr>\n",
       "    <tr>\n",
       "      <th>4</th>\n",
       "      <td>4</td>\n",
       "      <td>Afghanistan</td>\n",
       "      <td>2004</td>\n",
       "      <td>95.0</td>\n",
       "      <td>46000</td>\n",
       "      <td>45905.0</td>\n",
       "    </tr>\n",
       "  </tbody>\n",
       "</table>\n",
       "</div>"
      ],
      "text/plain": [
       "   index      country  year  e_inc_tbhiv_num  e_inc_num  tb_hiv_neg\n",
       "0      0  Afghanistan  2000            110.0      38000     37890.0\n",
       "1      1  Afghanistan  2001            100.0      40000     39900.0\n",
       "2      2  Afghanistan  2002             95.0      42000     41905.0\n",
       "3      3  Afghanistan  2003             92.0      44000     43908.0\n",
       "4      4  Afghanistan  2004             95.0      46000     45905.0"
      ]
     },
     "execution_count": 20,
     "metadata": {},
     "output_type": "execute_result"
    }
   ],
   "source": [
    "tb_hiv_all.head()\n"
   ]
  },
  {
   "cell_type": "markdown",
   "metadata": {},
   "source": [
    "###### Plotting our results to compare TB with HIV and those without HIV "
   ]
  },
  {
   "cell_type": "code",
   "execution_count": 21,
   "metadata": {},
   "outputs": [
    {
     "data": {
      "text/html": [
       "<div>\n",
       "<style scoped>\n",
       "    .dataframe tbody tr th:only-of-type {\n",
       "        vertical-align: middle;\n",
       "    }\n",
       "\n",
       "    .dataframe tbody tr th {\n",
       "        vertical-align: top;\n",
       "    }\n",
       "\n",
       "    .dataframe thead th {\n",
       "        text-align: right;\n",
       "    }\n",
       "</style>\n",
       "<table border=\"1\" class=\"dataframe\">\n",
       "  <thead>\n",
       "    <tr style=\"text-align: right;\">\n",
       "      <th></th>\n",
       "      <th>e_inc_tbhiv_num</th>\n",
       "      <th>tb_hiv_neg</th>\n",
       "    </tr>\n",
       "  </thead>\n",
       "  <tbody>\n",
       "    <tr>\n",
       "      <th>0</th>\n",
       "      <td>110.0</td>\n",
       "      <td>37890.0</td>\n",
       "    </tr>\n",
       "    <tr>\n",
       "      <th>1</th>\n",
       "      <td>100.0</td>\n",
       "      <td>39900.0</td>\n",
       "    </tr>\n",
       "    <tr>\n",
       "      <th>2</th>\n",
       "      <td>95.0</td>\n",
       "      <td>41905.0</td>\n",
       "    </tr>\n",
       "    <tr>\n",
       "      <th>3</th>\n",
       "      <td>92.0</td>\n",
       "      <td>43908.0</td>\n",
       "    </tr>\n",
       "    <tr>\n",
       "      <th>4</th>\n",
       "      <td>95.0</td>\n",
       "      <td>45905.0</td>\n",
       "    </tr>\n",
       "  </tbody>\n",
       "</table>\n",
       "</div>"
      ],
      "text/plain": [
       "   e_inc_tbhiv_num  tb_hiv_neg\n",
       "0            110.0     37890.0\n",
       "1            100.0     39900.0\n",
       "2             95.0     41905.0\n",
       "3             92.0     43908.0\n",
       "4             95.0     45905.0"
      ]
     },
     "execution_count": 21,
     "metadata": {},
     "output_type": "execute_result"
    }
   ],
   "source": [
    "tb_hiv_all_plot = tb_hiv_all[['e_inc_tbhiv_num' , 'tb_hiv_neg']]\n",
    "tb_hiv_all_plot.head()"
   ]
  },
  {
   "cell_type": "code",
   "execution_count": 22,
   "metadata": {},
   "outputs": [
    {
     "data": {
      "image/png": "iVBORw0KGgoAAAANSUhEUgAAAZMAAAD9CAYAAAB5lZr/AAAABHNCSVQICAgIfAhkiAAAAAlwSFlzAAALEgAACxIB0t1+/AAAADl0RVh0U29mdHdhcmUAbWF0cGxvdGxpYiB2ZXJzaW9uIDMuMC4yLCBodHRwOi8vbWF0cGxvdGxpYi5vcmcvOIA7rQAAHjxJREFUeJzt3X901fWd5/HnTXJJApUIRAUDW5ghTmvHlY5d5Qx7jk4cLbqtpDv2HewO0k5Pma046Wxxj1Rh7RR7ikfRg7a1B7Rj4HSE99o2sA4t5Whpt2ypWsZarO2CStdABANBsYj5dfeP+7l4SZPc5H5Dvrm5r8c59+T7/dzPr1y/+M7nx/1+E6lUChERkShK4u6AiIgUPgUTERGJTMFEREQiUzAREZHIFExERCQyBRMREYlMwURERCJTMBERkcgUTEREJLKyuDswgvRVfxGR/CRyZSimYMKhQ4fi7sKYUV1dTVtbW9zdEPkjujaH14UXXjiofJrmEhGRyBRMREQkspzTXGZWAfwUKA/5n3D3u8xsFrAJmAzsARa5e4eZlQMbgMuAo0CDux8IdX0J+CzQDTS6+/aQPh9YC5QCj7j76pA+5DZERGTkDWZk8i5Q5+6XAnOA+WY2F7gHeMDda4F20kGC8LPd3WcDD4R8mNnFwELgQ8B84JtmVmpmpcA3gOuAi4GbQl6G2oaIiMQjZzBx95S7vx1Ok+GVAuqAJ0J6E1AfjheEc8L7V5tZIqRvcvd33f1VYD9weXjtd/dX3L2D9EhkQSgz1DZERCQGg1ozCSOI54EjwA7gZeC4u3eFLC1ATTiuAV4DCO+/CUzJTu9Vpr/0KXm0ISJFqrm5mbq6OiorK6mrq6O5uTnuLhWVQW0NdvduYI6ZnQt8H/hgH9ky3+Poa4SQGiC9r4A2UP6B2jiDmS0BlgC4O9XV1X0Uk3yUlZXp85RRY/PmzSxfvpxTp07R09PDK6+8wvLlyznnnHNoaGiIu3tFYUjfM3H342a2E5gLnGtmZWFkMB3IfImjBZgBtJhZGVAFHMtKz8gu01d6Wx5t9O7vOmBdOE1p7/nw0V5+GU0aGxs5ceIEpaWlAPT09HDixAkaGxu5+uqrY+5dYRu275mY2XlhRIKZVQJ/DbwE/Bi4MWRbDGwJx1vDOeH9p909FdIXmll52KVVCzwDPAvUmtksMxtHepF+aygz1DZEpAgdP36cRCLBnXfeSXt7O3feeSeJRILjx4/H3bWiMZg1k2nAj83sBdL/49/h7k8CtwNfNLP9pNcrHg35HwWmhPQvAssB3P1FwIHfAD8Elrp7dxh13ApsJx2kPORlqG2ISPGaPXs2q1evZtKkSaxevZrZs2fH3aWikkiliuYP+pRupzJ8NM0lo0lNTXpvzqJFi1izZg3Lli1j48aNABw8eDDOrhW8MM2Vc7esgonkRcFERpNMMCktLaW7u/v0T1AwiWqwwUS3UxGRMSMTQDI/ZeQomIjImFBSUjLguZxd+rRFZEzo6elh0aJFHDlyhEWLFtHT0xN3l4qK1kwkL1ozkdGkpqaG8847jzfeeON0WuZcaybRaM1ERIrKG2+8QVVVFSUlJVRVVZ0RWOTsUzARkTFj3LhxpFIpxo0bF3dXio6CiYiMCRUVFbS3t5NKpWhvb6eioiLuLhUVBRMRGRN6L7hrAX5kKZiISMFLJBJ0dHRw0003ceTIEW666SY6OjpIJPSYo5Gi3VySF+3mktGkpqaGZDJJZ2fn6bTMuXZzRaPdXCJSVCorK5kxYwaJRIIZM2ZQWVkZd5eKioKJiBS8srIyurrSD2XNTG11dXVRVjakRzZJBPqkRaTgdXV10dPTc/pJi6dOnTp9LCNDIxMRKXjjxo2jvr6eyZMnU1JSwuTJk6mvr9f3TUaQgomIFLzOzk527tzJyZMnATh58iQ7d+48Y0Fezi4FExEpeFOnTj29ZpLZodrV1cXUqVPj7FZRUTARkTGhoqKCNWvWcOLECdasWaNvwI8wBRMRKXiHDx9mxYoVrFy5kokTJ7Jy5UpWrFjB4cOH4+5a0VAwEZGCV1tby9SpU3n66ad55513ePrpp5k6dSq1tbVxd61oKJiISMFrbGzktttuY9euXXR2drJr1y5uu+02Ghsb4+5a0dD3TESk4NXX1wOwcuVKFi5cSG1tLbfffvvpdDn7dG8uyYvuzSWjla7N4aV7c4mIyIhRMBERkchyrpmY2QxgAzAV6AHWuftaM/sy8Dkg86DlO9x9WyjzJeCzQDfQ6O7bQ/p8YC1QCjzi7qtD+ixgEzAZ2AMscvcOMysPbV8GHAUa3P3AQG2IiMjIG8zIpAtY5u4fBOYCS83s4vDeA+4+J7wygeRiYCHwIWA+8E0zKzWzUuAbwHXAxcBNWfXcE+qqBdpJBwnCz3Z3nw08EPL120ben4KIiESSM5i4e6u77wnHJ4CXgJoBiiwANrn7u+7+KrAfuDy89rv7K+7eQXokssDMEkAd8EQo3wTUZ9XVFI6fAK4O+ftrQ0REYjCkrcFmNhP4MPALYB5wq5ndDDxHevTSTjrQ7M4q1sJ7wee1XulXAFOA4+7e1Uf+mkwZd+8yszdD/oHayO7vEmBJKE91dfVQfl0ZQFlZmT5PGZV0bcZj0MHEzN4HfBf4R3d/y8weBlYBqfBzDfB39L2FLEXfo6DUAPkZ4L2Bypzm7uuAdZn3tV1w+Gj7pYxWujaHV9ganNOgdnOZWZJ0IPmOu38PwN0Pu3u3u/cA63lvmqkFmJFVfDpwaID0NuBcMyvrlX5GXeH9KuDYAHWJiEgMcgaTsEbxKPCSu9+flT4tK9sngL3heCuw0MzKwy6tWuAZ4Fmg1sxmmdk40gvoW909BfwYuDGUXwxsyaprcTi+EXg65O+vDRERicFgprnmAYuAX5vZ8yHtDtK7seaQnl46APw9gLu/aGYO/Ib0TrCl7t4NYGa3AttJbw3+tru/GOq7HdhkZncD/0Y6eBF+bjSz/aRHJAtztSEiIiNPt1ORvGheWkYrXZvDS7dTERGREaNgIiIikSmYiIhIZAomIiISmYKJiIhEpmAiIiKRKZiIiEhkCiYiIhKZgomIiESmYCIiIpEpmIiISGQKJiIiEpmCiYiIRKZgIiIikSmYiIhIZAomIiISmYKJiIhEpmAiIiKRKZiIiEhkCiYiIhKZgomIiESmYCIiIpEpmIiISGQKJiIiEllZrgxmNgPYAEwFeoB17r7WzCYDm4GZwAHA3L3dzBLAWuB64CTwaXffE+paDKwIVd/t7k0h/TLgMaAS2AZ8wd1T+bQhIiIjbzAjky5gmbt/EJgLLDWzi4HlwFPuXgs8Fc4BrgNqw2sJ8DBACAx3AVcAlwN3mdmkUObhkDdTbn5IH1IbIiISj5zBxN1bM3/1u/sJ4CWgBlgANIVsTUB9OF4AbHD3lLvvBs41s2nAR4Ed7n7M3duBHcD88N5Ed/+5u6dIj4Ky6xpKGyIiEoMhrZmY2Uzgw8AvgAvcvRXSAQc4P2SrAV7LKtYS0gZKb+kjnTzaEBGRGORcM8kws/cB3wX+0d3fMrP+sib6SEvlkT6QQZUxsyWkp8Fwd6qrq3NUK4NVVlamz1NGJV2b8RhUMDGzJOlA8h13/15IPmxm09y9NUwxHQnpLcCMrOLTgUMh/ape6TtD+vQ+8ufTxhncfR2wLpym2traBvPryiBUV1ejz1NGI12bw+vCCy8cVL6c01xh59SjwEvufn/WW1uBxeF4MbAlK/1mM0uY2VzgzTBFtR241swmhYX3a4Ht4b0TZjY3tHVzr7qG0oaIiMRgMCOTecAi4Ndm9nxIuwNYDbiZfRb4f8Anw3vbSG/Z3U962+5nANz9mJmtAp4N+b7i7sfC8ed5b2vwD8KLobYhIiLxSKRSuZYnxozUoUN/NBMmedJUgoxWujaHV5jm6mud+gz6BryIiESmYCIiIpEpmIiISGQKJiIiEpmCiYiIRKZgIiIikSmYiIhIZAomIiISmYKJiIhEpmAiIiKRKZiIiEhkCiYiIhKZgomIiESmYCIiIpEpmIiISGQKJiIiEpmCiYiIRKZgIiIikSmYiIhIZAomIiISmYKJiIhEpmAiIiKRKZiIiEhkCiYiIhJZWa4MZvZt4GPAEXf/85D2ZeBzwBsh2x3uvi289yXgs0A30Oju20P6fGAtUAo84u6rQ/osYBMwGdgDLHL3DjMrBzYAlwFHgQZ3PzBQGyIiEo/BjEweA+b3kf6Au88Jr0wguRhYCHwolPmmmZWaWSnwDeA64GLgppAX4J5QVy3QTjpIEH62u/ts4IGQr982hvZri4jIcMoZTNz9p8CxQda3ANjk7u+6+6vAfuDy8Nrv7q+4ewfpkcgCM0sAdcAToXwTUJ9VV1M4fgK4OuTvrw0REYlJlDWTW83sBTP7tplNCmk1wGtZeVpCWn/pU4Dj7t7VK/2MusL7b4b8/dUlIiIxyblm0o+HgVVAKvxcA/wdkOgjb4q+g1ZqgPwM8N5AZc5gZkuAJQDuTnV1dV/ZJA9lZWX6PGVU0rUZj7yCibsfzhyb2XrgyXDaAszIyjodOBSO+0pvA841s7Iw+sjOn6mrxczKgCrS020DtdG7n+uAdeE01dbWNoTfUgZSXV2NPk8ZjXRtDq8LL7xwUPnymuYys2lZp58A9objrcBCMysPu7RqgWeAZ4FaM5tlZuNIL6BvdfcU8GPgxlB+MbAlq67F4fhG4OmQv782REQkJoPZGvw4cBVQbWYtwF3AVWY2h/T00gHg7wHc/UUzc+A3QBew1N27Qz23AttJbw3+tru/GJq4HdhkZncD/wY8GtIfBTaa2X7SI5KFudoQEZF4JFKpPpcbxqLUoUN9zoZJHjSVIKOVrs3hFaa5+lqrPoO+AS8iY0JzczN1dXVUVlZSV1dHc3Nz3F0qKvnu5hIRGTWam5u55557uO+++7j++uvZtm0bt912GwD19fU5Sstw0MhERAregw8+yH333ce8efNIJpPMmzeP++67jwcffDDurhUNBRMRKXj79u2jtbX1jGmu1tZW9u3bF3fXioamuUSk4F1wwQV89atf5etf//rpaa5bb72VCy64IO6uFQ0FExEZE06dOsWyZctYuHAhNTU1nDp1igkTJsTdraKhaS4RKXivv/46yWQSgMzXHZLJJK+//nqc3SoqCiYiUvCSySRLly5l9+7dnDp1it27d7N06dLTAUbOPn1pUfKiL4bJaDJ9+nQmTZrEhAkTOHjwIDU1NfzhD3+gvb2dlpaWuLtX0PSlRREpGlOnTqWrK/0ki8wfyF1dXUydOjXObhUVBRMRGVMSiZx/RMtZoGAiIgVPC/DxUzARkYKXTCa58sorGT9+PIlEgvHjx3PllVdqAX4EKZiISMHr6Ohgy5YtNDQ0cPToURoaGtiyZQsdHR1xd61oaDeX5EW7uWQ0mTVrFpdeeim/+tWv6OjoYNy4cafPX3311bi7V9C0m0tEikZHRwd79uxh+fLltLe3s3z5cvbs2aORyQjSyETyopGJjCYamZw9GpmISNHQyCR+GplIXjQykdFEI5OzRyMTESkaHR0dPPfcc1RVVVFSUkJVVRXPPfecRiYjSMFERApeaWkplZWVVFRUkEqlqKiooLKyktLS0ri7VjQUTESk4HV3dzNhwgTWrFnDiRMnWLNmDRMmTKC7uzvurhUNBRMRGRMaGhpYuXIlEydOZOXKlTQ0NMTdpaKiYCIiBW/atGm4O6tWreKtt95i1apVuDvTpk2Lu2tFQ4/tFZGCt2LFCr74xS9iZqfTysvLuf/++2PsVXHJGUzM7NvAx4Aj7v7nIW0ysBmYCRwAzN3bzSwBrAWuB04Cn3b3PaHMYmBFqPZud28K6ZcBjwGVwDbgC+6eyqcNESlOmZ1bpaWldHd3U1paenqHV319fdzdKwqDmeZ6DJjfK2058JS71wJPhXOA64Da8FoCPAyng89dwBXA5cBdZjYplHk45M2Um59PGyJSvDZs2EBVVRWPP/44b7/9No8//jhVVVVs2LAh7q4VjZzBxN1/ChzrlbwAaArHTUB9VvoGd0+5+27gXDObBnwU2OHux9y9HdgBzA/vTXT3n7t7CtjQq66htCEiRaq7u5uHHnqIefPmkUwmmTdvHg899JB2c42gfNdMLnD3VgB3bzWz80N6DfBaVr6WkDZQeksf6fm00dq7k2a2hPToBXenurp6iL+m9KesrEyfp4wqTz75JF/72tf47W9/ywc+8AEuueQSAF2nI2S4F+D7+sp9Ko/0fNr4I+6+DliXyaPbfwwf3U5FRpPx48ezefNmFi1axM6dO1m2bBkbN25k/Pjxuk4jCrdTySnfrcGHM1NL4eeRkN4CzMjKNx04lCN9eh/p+bQhIkWqqqqKZDLJxo0bOf/889m4cSPJZJKqqqq4u1Y08g0mW4HF4XgxsCUr/WYzS5jZXODNMFW1HbjWzCaFhfdrge3hvRNmNjfs0rq5V11DaUNEitTrr7/OxIkTmTFjBolEghkzZjBx4kQ9A34E5QwmZvY48HPgz8ysxcw+C6wGrjGzfcA14RzSW3tfAfYD64FbANz9GLAKeDa8vhLSAD4PPBLKvAz8IKQPqQ0RKV56Bnz8dAt6yYvWTGQ0qampIZFIUF1dzdGjR5kyZQptbW2kUikOHjwYd/cK2mBvQa9vwItIwSstLaW0tJT29nZ6enpob28nmUxqa/AI0r25RKTgdXd309XVxR133EF7ezt33HEHXV1dCiYjSMFERMaEG264gc2bNzNlyhQ2b97MDTfcEHeXioqCiYiMCbt27TrjrsG7du2Ku0tFRWsmIlLwpk2bRltb2xl3DU4mk7oF/QjSyERECt5FF11EZ2fnGWmdnZ1cdNFFMfWo+CiYiEjB+8lPfjKkdBl+CiYiMmZkbp+i26iMPAUTERkz1q9fz9tvv8369evj7krRUTARkTFj7969dHZ2snfv3ri7UnR0OxXJi26nIqNJTU1Nv+/pdirRDPZ2KhqZiEjBGz9+/JDSZfgpmIhIwbv33nspLy8/I628vJx77703ph4VH31pUUQKXn19PQAPPvgg+/bto7a2lsbGxtPpcvZpzUTyojUTGa10bQ4vrZmIiMiIUTAREZHIFExERCQyBRMREYlMwURERCJTMBGRMWHFihXMmjWL8vJyZs2axYoVK+LuUlFRMBGRgrdixQqamprOuGtwU1OTAsoIUjARkYK3ceNGKioqqKioIJFInD7euHFj3F0rGvoGvIgUvK6uLkpKSmhtbSWVStHa2kpJSQldXV1xd61oRAomZnYAOAF0A13u/hEzmwxsBmYCBwBz93YzSwBrgeuBk8Cn3X1PqGcxkBmP3u3uTSH9MuAxoBLYBnzB3VP9tRHldxGRwtbR0XH6WEFk5A3HNNdfufscd/9IOF8OPOXutcBT4RzgOqA2vJYADwOEwHAXcAVwOXCXmU0KZR4OeTPl5udoQ0REYnA21kwWAE3huAmoz0rf4O4pd98NnGtm04CPAjvc/VgYXewA5of3Jrr7z909BWzoVVdfbYiISAyiBpMU8CMz+6WZLQlpF7h7K0D4eX5IrwFeyyrbEtIGSm/pI32gNkREJAZRF+DnufshMzsf2GFmvx0gb193nUzlkT5oIcAtAXB3qqurh1JcBlBWVqbPUwqCrtORESmYuPuh8POImX2f9JrHYTOb5u6tYarqSMjeAszIKj4dOBTSr+qVvjOkT+8jPwO00bt/64B14TSl21IPH93mWwqFrtNowi3oc8p7msvMJpjZOZlj4FpgL7AVWByyLQa2hOOtwM1mljCzucCbYYpqO3CtmU0KC+/XAtvDeyfMbG7YCXZzr7r6akNERGIQZc3kAuBnZvYr4BngX939h8Bq4Boz2wdcE84hvbX3FWA/sB64BcDdjwGrgGfD6yshDeDzwCOhzMvAD0J6f22IiEgM9KRFyYumuWQ0qamp6fe9gwcPjmBPxh49aVFEREaMgomIiESmYCIiIpEpmIiISGQKJjIkzc3N1NXVUVlZSV1dHc3NzXF3SURGAd2CXgatubmZxsZGuru7Afjd735HY2MjAPX1uj2aSDHT1mAZtPe///193tq7rKyM3//+9zH0SCRNW4PPHm0NlmGXCSRVVVWUlJScfkSqnh0hIgomMiTJZJKJEyeSSqWYOHEiyWQy7i6JyCigNRMZks7OTg4dOkQqleLQoUOn109EpLhpZCJDlgkgCiQikqFgIiIikSmYiIhIZAomIiISmYKJiIhEpmAiIiKRKZiIiEhkCiYiIhKZgomIiESmYCIiIpEpmIiISGQKJiIiEpmCiYiIRKZgIiIikRX0LejNbD6wFigFHnH31TF3SUSkKBXsY3vNrBT4v8A1QAvwLHCTu/+mnyJ6bG9EejSqjCYDXY8D0bU6NIN9bG8hj0wuB/a7+ysAZrYJWAD0F0xEZAzJDgr6Qyd+hRxMaoDXss5bgCti6ouInCXdX/gUnHw7//KfuyF3pvHvo3Ttv+TdhhR2MOlr2HXGnJ2ZLQGWALg71dXVI9GvgvPP39g/qHzfuv/Fft/7X5uP5yz/maWzB90nkYx//stv5szzrb/u/71tg2znM/r/QySFHExagBlZ59OBMxZF3H0dsC6cptra2kaoa4Xl4w3nDipf1KkEff6Sj8FenxnV1dV5XWu6PvsW1kxyKuRg8ixQa2azgIPAQuBT8XZJRKQ4Fez3TNy9C7gV2A68lE7y/udhJLL+Rh9a4BSRgt0anAdtDR5G+U4liJxtujaH12C3BhfsyEREREYPBRMREYlMwURERCJTMBERkcgUTEREJLKi2s0VdwdERAqUdnNlSeg1fC8z+2XcfdBLr75eujbPyiunYgomIiJyliiYiIhIZAomkq91ubOIxELXZgyKaQFeRETOEo1MREQkMgUTERGJTMGkwJnZNjMb2tOD+q9rppl9Kuv802b29X7y7e2njq+Y2QDPvZNiZGbnmtkt4fgqM3tyCGX7fGavmf1XM7t5uPoo0RTyw7EEcPfrh7G6maQfMJb3w7Dd/X8MW29kLDkXuAXI/QzeQXL3bw1XXRKdFuBHKTP7W6ARGAf8ArjF3bv7yHcA+AjwPuAHwM+AvyT99MkF7v6Omc0GvgWcB3QDn3T3l/uoazfwQeBVoAloBz4BlAOzgH9x938ys5kDtPUY8CTwB+Az7m6h7quAZe7+8X5+37eBtcDHgHdCfYcz9bn7E5l87v6+UN8/AYeBOcD3gF8DXwAqgfq+fkeJh5ltAhYAvwM6Sf83Pgr8GfBT0td3Tz9l+7s2vgy8Dfwr0OTul4f8M4Gt7v7v+6nvAOnr++NAkvS/h9+a2QTgIeAS0n9of9ndt5jZeOAx4AOkH8Q3E1jq7s/l/4mMPZrmGoXM7INAAzDP3eeQDgD/ZRBFa4FvuPuHgOPA34T074T0S0n/z7+1n/LLgf/t7nPc/YGQdnloew7wSTP7SI62MnYAc8M/UMLvs3mAvk8Adoc+/hT4XM7fFi4lHTwuARYBF4X/oTwC/MMgysvIWQ68HK7n/076ulpG+r/dnwL/eYCyA14b7v4SMM7M/iQkNQCeoz9t7v4XwMPAbSHtTuBpd/8PwF8B94br9xagPQSnVcBlg/h9i46Cyeh0NekL9lkzez6c/8nARQB41d2fD8e/BGaa2TlAjbt/H8DdT7n7ySH0ZYe7H3X3d0j/9f8f+2sru1B4rPIPgY+bWRnwn4AtA7TTQXpE02d9/XjW3Vvd/V3gZeBHIf3Xgywv8XnG3V8Jo+3Hee+66stgrg0HLBzn+sMF0tdy7/quBZaHf3M7gQrg34W+bQJw973ACznqLkpaMxmdEqSH7V8aYrl3s467SU/3DOq+OgPoPQ+aOe+rrd42A0uBY6T/x39igHY63T1TdzfvXZtdhD96zCxBetovI7sPPVnnPejaHu36u6760t+1kW0z8D/N7HtAyt335Wg/c61k15cA/sbdf5edMVx3koNGJqPTU8CNZnY+gJlNNrP351ORu78FtJhZfairPMwB9+UEcE6vtGtC+5VAPbBrCM3vBP6C9LRErr8U+3OA96YVFpCe45bC0/vautzMZplZCemRxM+iVB7Wx7qBleR/rW0H/iETPMzswyH9Z4RRj5ldTHpqTnpRMBmF3P03wArgR2b2Aun1h2kRqlwENIa6/g8wtZ98LwBdZvYrM/tvIe1nwEbgeeC7Q1l0DFMYTwLX8d40xVCtB640s2eAK0gv7EuBcfejwK6wpfxe4OfAamAv6Q0f3x+GZjYDf0vu9ZL+rCL9x8oLoZ+rQvo3gfPCv5/bSf87eTNiX8cc7eYSERmAmZUCSXc/ZWZ/Snrm4CJ374i5a6OK5pVFRAY2HvixmSVJr6t8XoHkj2lkUiDM7Bekv++RbZG7/zqPui4hPXWV7V13vyLf/g2h7WH7PWRsGe5rw8y+T/r7Udlud/ft+dQnA1MwERGRyLQALyIikSmYiIhIZAomIiISmYKJiIhEpmAiIiKR/X8pNJUqldHuxgAAAABJRU5ErkJggg==\n",
      "text/plain": [
       "<Figure size 432x288 with 1 Axes>"
      ]
     },
     "metadata": {
      "needs_background": "light"
     },
     "output_type": "display_data"
    }
   ],
   "source": [
    "tb_hiv_all_plot.plot.box()\n",
    "plt.show()"
   ]
  },
  {
   "cell_type": "markdown",
   "metadata": {},
   "source": [
    "While the plot above is informative, we can compare two different countries to get a much better, closer comparison.\n",
    "let's take Kenya and Uganda in our example"
   ]
  },
  {
   "cell_type": "code",
   "execution_count": 23,
   "metadata": {},
   "outputs": [],
   "source": [
    "# box plot for two countries, same variable\n",
    "\n",
    "box_plot_kenya = tb_hiv_all.loc[tb_hiv_all['country'] == \"Kenya\", ['e_inc_num','year']]\n",
    "\n",
    "box_plot_ug = tb_hiv_all.loc[tb_hiv_all['country'] == \"Uganda\", ['e_inc_num', 'year']] "
   ]
  },
  {
   "cell_type": "code",
   "execution_count": 24,
   "metadata": {},
   "outputs": [
    {
     "data": {
      "text/html": [
       "<div>\n",
       "<style scoped>\n",
       "    .dataframe tbody tr th:only-of-type {\n",
       "        vertical-align: middle;\n",
       "    }\n",
       "\n",
       "    .dataframe tbody tr th {\n",
       "        vertical-align: top;\n",
       "    }\n",
       "\n",
       "    .dataframe thead th {\n",
       "        text-align: right;\n",
       "    }\n",
       "</style>\n",
       "<table border=\"1\" class=\"dataframe\">\n",
       "  <thead>\n",
       "    <tr style=\"text-align: right;\">\n",
       "      <th></th>\n",
       "      <th>e_inc_num_x</th>\n",
       "      <th>year</th>\n",
       "      <th>e_inc_num_y</th>\n",
       "    </tr>\n",
       "  </thead>\n",
       "  <tbody>\n",
       "    <tr>\n",
       "      <th>0</th>\n",
       "      <td>142000</td>\n",
       "      <td>2000</td>\n",
       "      <td>66000</td>\n",
       "    </tr>\n",
       "    <tr>\n",
       "      <th>1</th>\n",
       "      <td>161000</td>\n",
       "      <td>2001</td>\n",
       "      <td>66000</td>\n",
       "    </tr>\n",
       "    <tr>\n",
       "      <th>2</th>\n",
       "      <td>177000</td>\n",
       "      <td>2002</td>\n",
       "      <td>66000</td>\n",
       "    </tr>\n",
       "    <tr>\n",
       "      <th>3</th>\n",
       "      <td>208000</td>\n",
       "      <td>2003</td>\n",
       "      <td>66000</td>\n",
       "    </tr>\n",
       "    <tr>\n",
       "      <th>4</th>\n",
       "      <td>222000</td>\n",
       "      <td>2004</td>\n",
       "      <td>66000</td>\n",
       "    </tr>\n",
       "  </tbody>\n",
       "</table>\n",
       "</div>"
      ],
      "text/plain": [
       "   e_inc_num_x  year  e_inc_num_y\n",
       "0       142000  2000        66000\n",
       "1       161000  2001        66000\n",
       "2       177000  2002        66000\n",
       "3       208000  2003        66000\n",
       "4       222000  2004        66000"
      ]
     },
     "execution_count": 24,
     "metadata": {},
     "output_type": "execute_result"
    }
   ],
   "source": [
    "# combined dataset\n",
    "combine_dataset = pd.merge(box_plot_kenya, box_plot_ug, on = ['year'], how = 'inner')\n",
    "combine_dataset.head()\n"
   ]
  },
  {
   "cell_type": "code",
   "execution_count": 25,
   "metadata": {},
   "outputs": [
    {
     "data": {
      "text/html": [
       "<div>\n",
       "<style scoped>\n",
       "    .dataframe tbody tr th:only-of-type {\n",
       "        vertical-align: middle;\n",
       "    }\n",
       "\n",
       "    .dataframe tbody tr th {\n",
       "        vertical-align: top;\n",
       "    }\n",
       "\n",
       "    .dataframe thead th {\n",
       "        text-align: right;\n",
       "    }\n",
       "</style>\n",
       "<table border=\"1\" class=\"dataframe\">\n",
       "  <thead>\n",
       "    <tr style=\"text-align: right;\">\n",
       "      <th></th>\n",
       "      <th>Kenya</th>\n",
       "      <th>year</th>\n",
       "      <th>Uganda</th>\n",
       "    </tr>\n",
       "  </thead>\n",
       "  <tbody>\n",
       "    <tr>\n",
       "      <th>13</th>\n",
       "      <td>199000</td>\n",
       "      <td>2013</td>\n",
       "      <td>76000</td>\n",
       "    </tr>\n",
       "    <tr>\n",
       "      <th>14</th>\n",
       "      <td>195000</td>\n",
       "      <td>2014</td>\n",
       "      <td>79000</td>\n",
       "    </tr>\n",
       "    <tr>\n",
       "      <th>15</th>\n",
       "      <td>180000</td>\n",
       "      <td>2015</td>\n",
       "      <td>81000</td>\n",
       "    </tr>\n",
       "    <tr>\n",
       "      <th>16</th>\n",
       "      <td>169000</td>\n",
       "      <td>2016</td>\n",
       "      <td>83000</td>\n",
       "    </tr>\n",
       "    <tr>\n",
       "      <th>17</th>\n",
       "      <td>158000</td>\n",
       "      <td>2017</td>\n",
       "      <td>86000</td>\n",
       "    </tr>\n",
       "  </tbody>\n",
       "</table>\n",
       "</div>"
      ],
      "text/plain": [
       "     Kenya  year  Uganda\n",
       "13  199000  2013   76000\n",
       "14  195000  2014   79000\n",
       "15  180000  2015   81000\n",
       "16  169000  2016   83000\n",
       "17  158000  2017   86000"
      ]
     },
     "execution_count": 25,
     "metadata": {},
     "output_type": "execute_result"
    }
   ],
   "source": [
    "#Rename series\n",
    "combine_dataset.rename(columns = {\"e_inc_num_x\":\"Kenya\", \"e_inc_num_y\":\"Uganda\"}, inplace = True)\n",
    "combine_dataset.tail()"
   ]
  },
  {
   "cell_type": "code",
   "execution_count": 26,
   "metadata": {
    "scrolled": true
   },
   "outputs": [
    {
     "data": {
      "image/png": "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\n",
      "text/plain": [
       "<Figure size 432x288 with 1 Axes>"
      ]
     },
     "metadata": {
      "needs_background": "light"
     },
     "output_type": "display_data"
    }
   ],
   "source": [
    "combine_dataset.plot(x = 'year', kind='bar')\n",
    "plt.ylabel('TB incurrence')\n",
    "plt.xlabel('Year')\n",
    "plt.show()"
   ]
  },
  {
   "cell_type": "code",
   "execution_count": 27,
   "metadata": {},
   "outputs": [
    {
     "data": {
      "text/html": [
       "<div>\n",
       "<style scoped>\n",
       "    .dataframe tbody tr th:only-of-type {\n",
       "        vertical-align: middle;\n",
       "    }\n",
       "\n",
       "    .dataframe tbody tr th {\n",
       "        vertical-align: top;\n",
       "    }\n",
       "\n",
       "    .dataframe thead th {\n",
       "        text-align: right;\n",
       "    }\n",
       "</style>\n",
       "<table border=\"1\" class=\"dataframe\">\n",
       "  <thead>\n",
       "    <tr style=\"text-align: right;\">\n",
       "      <th></th>\n",
       "      <th>Kenya</th>\n",
       "      <th>Uganda</th>\n",
       "    </tr>\n",
       "  </thead>\n",
       "  <tbody>\n",
       "    <tr>\n",
       "      <th>0</th>\n",
       "      <td>142000</td>\n",
       "      <td>66000</td>\n",
       "    </tr>\n",
       "    <tr>\n",
       "      <th>1</th>\n",
       "      <td>161000</td>\n",
       "      <td>66000</td>\n",
       "    </tr>\n",
       "    <tr>\n",
       "      <th>2</th>\n",
       "      <td>177000</td>\n",
       "      <td>66000</td>\n",
       "    </tr>\n",
       "    <tr>\n",
       "      <th>3</th>\n",
       "      <td>208000</td>\n",
       "      <td>66000</td>\n",
       "    </tr>\n",
       "    <tr>\n",
       "      <th>4</th>\n",
       "      <td>222000</td>\n",
       "      <td>66000</td>\n",
       "    </tr>\n",
       "  </tbody>\n",
       "</table>\n",
       "</div>"
      ],
      "text/plain": [
       "    Kenya  Uganda\n",
       "0  142000   66000\n",
       "1  161000   66000\n",
       "2  177000   66000\n",
       "3  208000   66000\n",
       "4  222000   66000"
      ]
     },
     "execution_count": 27,
     "metadata": {},
     "output_type": "execute_result"
    }
   ],
   "source": [
    "# drop year column\n",
    "combine_dataset = combine_dataset.drop(\"year\", axis = 1)\n",
    "combine_dataset.head()"
   ]
  },
  {
   "cell_type": "code",
   "execution_count": 28,
   "metadata": {},
   "outputs": [
    {
     "data": {
      "image/png": "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\n",
      "text/plain": [
       "<Figure size 432x288 with 1 Axes>"
      ]
     },
     "metadata": {
      "needs_background": "light"
     },
     "output_type": "display_data"
    }
   ],
   "source": [
    "#plot box plot\n",
    "combine_dataset.plot.box()\n",
    "plt.show()"
   ]
  },
  {
   "cell_type": "markdown",
   "metadata": {},
   "source": [
    "That looks much better. We can easily see the variance between Kenya and Uganda . However, plotting the entire data seemed  completely crammed when viewing the comparison for all 218 countries in our dataset. it's our objective to show these comparisons either way. Therefore, that will be our next objective.\n"
   ]
  },
  {
   "cell_type": "markdown",
   "metadata": {},
   "source": [
    " ### 5. Analyzing the incurrence of TB  on the world's different income classes\n",
    " \n",
    " First we need to import the current GDP data that's on a seperate table and then merge it to our initial TB dataset for us to get the income groups.\n",
    " "
   ]
  },
  {
   "cell_type": "code",
   "execution_count": 29,
   "metadata": {},
   "outputs": [],
   "source": [
    "# Importing numpy\n",
    "\n",
    "import numpy as np \n",
    "\n",
    "# Loading the dataset\n",
    "\n",
    "all_tb = pd.read_csv ('~/Downloads/TB_burden_countries_2019-01-11.csv', encoding = 'utf-8')\n",
    "\n",
    "all_gdp_data = pd.read_csv ('~/Downloads/Metadata_Country_API_NY.GDP.PCAP.CD_DS2_en_csv_v2_10515199.csv', encoding = 'utf-8')\n"
   ]
  },
  {
   "cell_type": "code",
   "execution_count": 30,
   "metadata": {},
   "outputs": [
    {
     "data": {
      "text/html": [
       "<div>\n",
       "<style scoped>\n",
       "    .dataframe tbody tr th:only-of-type {\n",
       "        vertical-align: middle;\n",
       "    }\n",
       "\n",
       "    .dataframe tbody tr th {\n",
       "        vertical-align: top;\n",
       "    }\n",
       "\n",
       "    .dataframe thead th {\n",
       "        text-align: right;\n",
       "    }\n",
       "</style>\n",
       "<table border=\"1\" class=\"dataframe\">\n",
       "  <thead>\n",
       "    <tr style=\"text-align: right;\">\n",
       "      <th></th>\n",
       "      <th>country</th>\n",
       "      <th>iso3</th>\n",
       "      <th>e_inc_num</th>\n",
       "    </tr>\n",
       "  </thead>\n",
       "  <tbody>\n",
       "    <tr>\n",
       "      <th>0</th>\n",
       "      <td>Afghanistan</td>\n",
       "      <td>AFG</td>\n",
       "      <td>38000</td>\n",
       "    </tr>\n",
       "    <tr>\n",
       "      <th>1</th>\n",
       "      <td>Afghanistan</td>\n",
       "      <td>AFG</td>\n",
       "      <td>40000</td>\n",
       "    </tr>\n",
       "    <tr>\n",
       "      <th>2</th>\n",
       "      <td>Afghanistan</td>\n",
       "      <td>AFG</td>\n",
       "      <td>42000</td>\n",
       "    </tr>\n",
       "    <tr>\n",
       "      <th>3</th>\n",
       "      <td>Afghanistan</td>\n",
       "      <td>AFG</td>\n",
       "      <td>44000</td>\n",
       "    </tr>\n",
       "    <tr>\n",
       "      <th>4</th>\n",
       "      <td>Afghanistan</td>\n",
       "      <td>AFG</td>\n",
       "      <td>46000</td>\n",
       "    </tr>\n",
       "  </tbody>\n",
       "</table>\n",
       "</div>"
      ],
      "text/plain": [
       "       country iso3  e_inc_num\n",
       "0  Afghanistan  AFG      38000\n",
       "1  Afghanistan  AFG      40000\n",
       "2  Afghanistan  AFG      42000\n",
       "3  Afghanistan  AFG      44000\n",
       "4  Afghanistan  AFG      46000"
      ]
     },
     "execution_count": 30,
     "metadata": {},
     "output_type": "execute_result"
    }
   ],
   "source": [
    "# Select only the necessary columns needed on the TB dataset\n",
    "\n",
    "all_tb = all_tb[['country','iso3', 'e_inc_num']]\n",
    "all_tb.head()"
   ]
  },
  {
   "cell_type": "code",
   "execution_count": 31,
   "metadata": {},
   "outputs": [
    {
     "data": {
      "text/plain": [
       "country      218\n",
       "iso3         218\n",
       "e_inc_num    218\n",
       "dtype: int64"
      ]
     },
     "execution_count": 31,
     "metadata": {},
     "output_type": "execute_result"
    }
   ],
   "source": [
    "# Drop duplicates on the TB data\n",
    "\n",
    "all_tb = all_tb.drop_duplicates(subset = ['country'])\n",
    "all_tb.count()"
   ]
  },
  {
   "cell_type": "code",
   "execution_count": 32,
   "metadata": {},
   "outputs": [
    {
     "data": {
      "text/html": [
       "<div>\n",
       "<style scoped>\n",
       "    .dataframe tbody tr th:only-of-type {\n",
       "        vertical-align: middle;\n",
       "    }\n",
       "\n",
       "    .dataframe tbody tr th {\n",
       "        vertical-align: top;\n",
       "    }\n",
       "\n",
       "    .dataframe thead th {\n",
       "        text-align: right;\n",
       "    }\n",
       "</style>\n",
       "<table border=\"1\" class=\"dataframe\">\n",
       "  <thead>\n",
       "    <tr style=\"text-align: right;\">\n",
       "      <th></th>\n",
       "      <th>Country Code</th>\n",
       "      <th>IncomeGroup</th>\n",
       "    </tr>\n",
       "  </thead>\n",
       "  <tbody>\n",
       "    <tr>\n",
       "      <th>0</th>\n",
       "      <td>ABW</td>\n",
       "      <td>High income</td>\n",
       "    </tr>\n",
       "    <tr>\n",
       "      <th>1</th>\n",
       "      <td>AFG</td>\n",
       "      <td>Low income</td>\n",
       "    </tr>\n",
       "    <tr>\n",
       "      <th>2</th>\n",
       "      <td>AGO</td>\n",
       "      <td>Lower middle income</td>\n",
       "    </tr>\n",
       "    <tr>\n",
       "      <th>3</th>\n",
       "      <td>ALB</td>\n",
       "      <td>Upper middle income</td>\n",
       "    </tr>\n",
       "    <tr>\n",
       "      <th>4</th>\n",
       "      <td>AND</td>\n",
       "      <td>High income</td>\n",
       "    </tr>\n",
       "  </tbody>\n",
       "</table>\n",
       "</div>"
      ],
      "text/plain": [
       "  Country Code          IncomeGroup\n",
       "0          ABW          High income\n",
       "1          AFG           Low income\n",
       "2          AGO  Lower middle income\n",
       "3          ALB  Upper middle income\n",
       "4          AND          High income"
      ]
     },
     "execution_count": 32,
     "metadata": {},
     "output_type": "execute_result"
    }
   ],
   "source": [
    "# Selecting necessary columns from the gdp dataset\n",
    "\n",
    "all_gdp_data = all_gdp_data[['Country Code','IncomeGroup']]\n",
    "all_gdp_data.head()"
   ]
  },
  {
   "cell_type": "markdown",
   "metadata": {},
   "source": [
    "So in our GDP dataset you'll notice that the data in the \"country code\" is the same as that in the \"iso3\" column on the tb dataset. This is the key column that we'll use to help us merge the data to one table."
   ]
  },
  {
   "cell_type": "code",
   "execution_count": 33,
   "metadata": {},
   "outputs": [
    {
     "data": {
      "text/html": [
       "<div>\n",
       "<style scoped>\n",
       "    .dataframe tbody tr th:only-of-type {\n",
       "        vertical-align: middle;\n",
       "    }\n",
       "\n",
       "    .dataframe tbody tr th {\n",
       "        vertical-align: top;\n",
       "    }\n",
       "\n",
       "    .dataframe thead th {\n",
       "        text-align: right;\n",
       "    }\n",
       "</style>\n",
       "<table border=\"1\" class=\"dataframe\">\n",
       "  <thead>\n",
       "    <tr style=\"text-align: right;\">\n",
       "      <th></th>\n",
       "      <th>iso3</th>\n",
       "      <th>IncomeGroup</th>\n",
       "    </tr>\n",
       "  </thead>\n",
       "  <tbody>\n",
       "    <tr>\n",
       "      <th>0</th>\n",
       "      <td>ABW</td>\n",
       "      <td>High income</td>\n",
       "    </tr>\n",
       "    <tr>\n",
       "      <th>1</th>\n",
       "      <td>AFG</td>\n",
       "      <td>Low income</td>\n",
       "    </tr>\n",
       "    <tr>\n",
       "      <th>2</th>\n",
       "      <td>AGO</td>\n",
       "      <td>Lower middle income</td>\n",
       "    </tr>\n",
       "    <tr>\n",
       "      <th>3</th>\n",
       "      <td>ALB</td>\n",
       "      <td>Upper middle income</td>\n",
       "    </tr>\n",
       "    <tr>\n",
       "      <th>4</th>\n",
       "      <td>AND</td>\n",
       "      <td>High income</td>\n",
       "    </tr>\n",
       "  </tbody>\n",
       "</table>\n",
       "</div>"
      ],
      "text/plain": [
       "  iso3          IncomeGroup\n",
       "0  ABW          High income\n",
       "1  AFG           Low income\n",
       "2  AGO  Lower middle income\n",
       "3  ALB  Upper middle income\n",
       "4  AND          High income"
      ]
     },
     "execution_count": 33,
     "metadata": {},
     "output_type": "execute_result"
    }
   ],
   "source": [
    "# renaming country code \n",
    "\n",
    "all_gdp_data.rename(columns = {\"Country Code\": \"iso3\"}, inplace = True )\n",
    "all_gdp_data.head()"
   ]
  },
  {
   "cell_type": "code",
   "execution_count": 34,
   "metadata": {},
   "outputs": [
    {
     "data": {
      "text/plain": [
       "country        209\n",
       "iso3           209\n",
       "e_inc_num      209\n",
       "IncomeGroup    209\n",
       "dtype: int64"
      ]
     },
     "execution_count": 34,
     "metadata": {},
     "output_type": "execute_result"
    }
   ],
   "source": [
    "# merging TB data with GDP data\n",
    "\n",
    "merged_data = pd.merge(all_tb,all_gdp_data, on = ['iso3'])\n",
    "merged_data.count()\n"
   ]
  },
  {
   "cell_type": "markdown",
   "metadata": {},
   "source": [
    "We notice after merging the data that the count has dropped from 218 to 209, we need to find out which of the 9 countries were omitted during the merge."
   ]
  },
  {
   "cell_type": "code",
   "execution_count": 35,
   "metadata": {},
   "outputs": [
    {
     "data": {
      "text/html": [
       "<div>\n",
       "<style scoped>\n",
       "    .dataframe tbody tr th:only-of-type {\n",
       "        vertical-align: middle;\n",
       "    }\n",
       "\n",
       "    .dataframe tbody tr th {\n",
       "        vertical-align: top;\n",
       "    }\n",
       "\n",
       "    .dataframe thead th {\n",
       "        text-align: right;\n",
       "    }\n",
       "</style>\n",
       "<table border=\"1\" class=\"dataframe\">\n",
       "  <thead>\n",
       "    <tr style=\"text-align: right;\">\n",
       "      <th></th>\n",
       "      <th>country_x</th>\n",
       "      <th>iso3</th>\n",
       "      <th>e_inc_num_x</th>\n",
       "      <th>country_y</th>\n",
       "      <th>e_inc_num_y</th>\n",
       "      <th>IncomeGroup</th>\n",
       "      <th>_merge</th>\n",
       "    </tr>\n",
       "  </thead>\n",
       "  <tbody>\n",
       "    <tr>\n",
       "      <th>6</th>\n",
       "      <td>Anguilla</td>\n",
       "      <td>AIA</td>\n",
       "      <td>2</td>\n",
       "      <td>NaN</td>\n",
       "      <td>NaN</td>\n",
       "      <td>NaN</td>\n",
       "      <td>left_only</td>\n",
       "    </tr>\n",
       "    <tr>\n",
       "      <th>25</th>\n",
       "      <td>Bonaire, Saint Eustatius and Saba</td>\n",
       "      <td>BES</td>\n",
       "      <td>0</td>\n",
       "      <td>NaN</td>\n",
       "      <td>NaN</td>\n",
       "      <td>NaN</td>\n",
       "      <td>left_only</td>\n",
       "    </tr>\n",
       "    <tr>\n",
       "      <th>48</th>\n",
       "      <td>Cook Islands</td>\n",
       "      <td>COK</td>\n",
       "      <td>1</td>\n",
       "      <td>NaN</td>\n",
       "      <td>NaN</td>\n",
       "      <td>NaN</td>\n",
       "      <td>left_only</td>\n",
       "    </tr>\n",
       "    <tr>\n",
       "      <th>128</th>\n",
       "      <td>Montserrat</td>\n",
       "      <td>MSR</td>\n",
       "      <td>0</td>\n",
       "      <td>NaN</td>\n",
       "      <td>NaN</td>\n",
       "      <td>NaN</td>\n",
       "      <td>left_only</td>\n",
       "    </tr>\n",
       "    <tr>\n",
       "      <th>135</th>\n",
       "      <td>Netherlands Antilles</td>\n",
       "      <td>ANT</td>\n",
       "      <td>6</td>\n",
       "      <td>NaN</td>\n",
       "      <td>NaN</td>\n",
       "      <td>NaN</td>\n",
       "      <td>left_only</td>\n",
       "    </tr>\n",
       "    <tr>\n",
       "      <th>142</th>\n",
       "      <td>Niue</td>\n",
       "      <td>NIU</td>\n",
       "      <td>0</td>\n",
       "      <td>NaN</td>\n",
       "      <td>NaN</td>\n",
       "      <td>NaN</td>\n",
       "      <td>left_only</td>\n",
       "    </tr>\n",
       "    <tr>\n",
       "      <th>170</th>\n",
       "      <td>Serbia &amp; Montenegro</td>\n",
       "      <td>SCG</td>\n",
       "      <td>3300</td>\n",
       "      <td>NaN</td>\n",
       "      <td>NaN</td>\n",
       "      <td>NaN</td>\n",
       "      <td>left_only</td>\n",
       "    </tr>\n",
       "    <tr>\n",
       "      <th>194</th>\n",
       "      <td>Tokelau</td>\n",
       "      <td>TKL</td>\n",
       "      <td>0</td>\n",
       "      <td>NaN</td>\n",
       "      <td>NaN</td>\n",
       "      <td>NaN</td>\n",
       "      <td>left_only</td>\n",
       "    </tr>\n",
       "    <tr>\n",
       "      <th>213</th>\n",
       "      <td>Wallis and Futuna Islands</td>\n",
       "      <td>WLF</td>\n",
       "      <td>2</td>\n",
       "      <td>NaN</td>\n",
       "      <td>NaN</td>\n",
       "      <td>NaN</td>\n",
       "      <td>left_only</td>\n",
       "    </tr>\n",
       "  </tbody>\n",
       "</table>\n",
       "</div>"
      ],
      "text/plain": [
       "                             country_x iso3  e_inc_num_x country_y  \\\n",
       "6                             Anguilla  AIA            2       NaN   \n",
       "25   Bonaire, Saint Eustatius and Saba  BES            0       NaN   \n",
       "48                        Cook Islands  COK            1       NaN   \n",
       "128                         Montserrat  MSR            0       NaN   \n",
       "135               Netherlands Antilles  ANT            6       NaN   \n",
       "142                               Niue  NIU            0       NaN   \n",
       "170                Serbia & Montenegro  SCG         3300       NaN   \n",
       "194                            Tokelau  TKL            0       NaN   \n",
       "213          Wallis and Futuna Islands  WLF            2       NaN   \n",
       "\n",
       "     e_inc_num_y IncomeGroup     _merge  \n",
       "6            NaN         NaN  left_only  \n",
       "25           NaN         NaN  left_only  \n",
       "48           NaN         NaN  left_only  \n",
       "128          NaN         NaN  left_only  \n",
       "135          NaN         NaN  left_only  \n",
       "142          NaN         NaN  left_only  \n",
       "170          NaN         NaN  left_only  \n",
       "194          NaN         NaN  left_only  \n",
       "213          NaN         NaN  left_only  "
      ]
     },
     "execution_count": 35,
     "metadata": {},
     "output_type": "execute_result"
    }
   ],
   "source": [
    "#countries not included on income data\n",
    "not_included = pd.merge(all_tb, merged_data, on = ['iso3'], how = \"left\", indicator = True)\n",
    "\n",
    "not_included = not_included.loc[not_included[\"_merge\"] == \"left_only\"]\n",
    "not_included"
   ]
  },
  {
   "cell_type": "code",
   "execution_count": 36,
   "metadata": {},
   "outputs": [
    {
     "data": {
      "text/plain": [
       "9"
      ]
     },
     "execution_count": 36,
     "metadata": {},
     "output_type": "execute_result"
    }
   ],
   "source": [
    "len(not_included)"
   ]
  },
  {
   "cell_type": "code",
   "execution_count": 37,
   "metadata": {},
   "outputs": [
    {
     "data": {
      "text/html": [
       "<div>\n",
       "<style scoped>\n",
       "    .dataframe tbody tr th:only-of-type {\n",
       "        vertical-align: middle;\n",
       "    }\n",
       "\n",
       "    .dataframe tbody tr th {\n",
       "        vertical-align: top;\n",
       "    }\n",
       "\n",
       "    .dataframe thead th {\n",
       "        text-align: right;\n",
       "    }\n",
       "</style>\n",
       "<table border=\"1\" class=\"dataframe\">\n",
       "  <thead>\n",
       "    <tr style=\"text-align: right;\">\n",
       "      <th></th>\n",
       "      <th>country</th>\n",
       "      <th>iso3</th>\n",
       "      <th>e_inc_num</th>\n",
       "      <th>IncomeGroup</th>\n",
       "    </tr>\n",
       "  </thead>\n",
       "  <tbody>\n",
       "    <tr>\n",
       "      <th>0</th>\n",
       "      <td>Afghanistan</td>\n",
       "      <td>AFG</td>\n",
       "      <td>38000</td>\n",
       "      <td>Low income</td>\n",
       "    </tr>\n",
       "    <tr>\n",
       "      <th>1</th>\n",
       "      <td>Albania</td>\n",
       "      <td>ALB</td>\n",
       "      <td>690</td>\n",
       "      <td>Upper middle income</td>\n",
       "    </tr>\n",
       "    <tr>\n",
       "      <th>2</th>\n",
       "      <td>Algeria</td>\n",
       "      <td>DZA</td>\n",
       "      <td>23000</td>\n",
       "      <td>Upper middle income</td>\n",
       "    </tr>\n",
       "    <tr>\n",
       "      <th>3</th>\n",
       "      <td>American Samoa</td>\n",
       "      <td>ASM</td>\n",
       "      <td>3</td>\n",
       "      <td>Upper middle income</td>\n",
       "    </tr>\n",
       "    <tr>\n",
       "      <th>4</th>\n",
       "      <td>Andorra</td>\n",
       "      <td>AND</td>\n",
       "      <td>14</td>\n",
       "      <td>High income</td>\n",
       "    </tr>\n",
       "  </tbody>\n",
       "</table>\n",
       "</div>"
      ],
      "text/plain": [
       "          country iso3  e_inc_num          IncomeGroup\n",
       "0     Afghanistan  AFG      38000           Low income\n",
       "1         Albania  ALB        690  Upper middle income\n",
       "2         Algeria  DZA      23000  Upper middle income\n",
       "3  American Samoa  ASM          3  Upper middle income\n",
       "4         Andorra  AND         14          High income"
      ]
     },
     "execution_count": 37,
     "metadata": {},
     "output_type": "execute_result"
    }
   ],
   "source": [
    "# looking at our merged data\n",
    "\n",
    "merged_data.head()"
   ]
  },
  {
   "cell_type": "code",
   "execution_count": 38,
   "metadata": {},
   "outputs": [
    {
     "data": {
      "image/png": "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\n",
      "text/plain": [
       "<Figure size 432x288 with 1 Axes>"
      ]
     },
     "metadata": {
      "needs_background": "light"
     },
     "output_type": "display_data"
    }
   ],
   "source": [
    "# plotting the data\n",
    "merged_data.groupby('IncomeGroup')['e_inc_num'].sum().plot(kind='bar')\n",
    "plt.show()"
   ]
  },
  {
   "cell_type": "markdown",
   "metadata": {},
   "source": [
    "Well, this is interesting, i expected the low income group to record a higher incurrence in TB, so let's do an aggregate and confirm whether our analysis is accurate"
   ]
  },
  {
   "cell_type": "code",
   "execution_count": 40,
   "metadata": {},
   "outputs": [
    {
     "data": {
      "text/plain": [
       "IncomeGroup\n",
       "High income             206171\n",
       "Low income             1425410\n",
       "Lower middle income    6414870\n",
       "Upper middle income    2387278\n",
       "Name: e_inc_num, dtype: int64"
      ]
     },
     "execution_count": 40,
     "metadata": {},
     "output_type": "execute_result"
    }
   ],
   "source": [
    "# Grouping by IncomeGroup\n",
    "\n",
    "merged_data_grouped = merged_data.groupby('IncomeGroup').e_inc_num.sum()\n",
    "merged_data_grouped"
   ]
  },
  {
   "cell_type": "markdown",
   "metadata": {},
   "source": [
    "Let's get the rate of incurrence per continent. We will need to group the countries to continets"
   ]
  },
  {
   "cell_type": "markdown",
   "metadata": {},
   "source": [
    "###### Rate of Incurrence per continent "
   ]
  },
  {
   "cell_type": "code",
   "execution_count": 41,
   "metadata": {},
   "outputs": [],
   "source": [
    "# Importing TB data\n",
    "all_tb = pd.read_csv ('~/Downloads/TB_burden_countries_2019-01-11.csv', encoding = 'utf-8')"
   ]
  },
  {
   "cell_type": "code",
   "execution_count": 43,
   "metadata": {},
   "outputs": [
    {
     "data": {
      "text/html": [
       "<div>\n",
       "<style scoped>\n",
       "    .dataframe tbody tr th:only-of-type {\n",
       "        vertical-align: middle;\n",
       "    }\n",
       "\n",
       "    .dataframe tbody tr th {\n",
       "        vertical-align: top;\n",
       "    }\n",
       "\n",
       "    .dataframe thead th {\n",
       "        text-align: right;\n",
       "    }\n",
       "</style>\n",
       "<table border=\"1\" class=\"dataframe\">\n",
       "  <thead>\n",
       "    <tr style=\"text-align: right;\">\n",
       "      <th></th>\n",
       "      <th>country</th>\n",
       "      <th>year</th>\n",
       "      <th>g_whoregion</th>\n",
       "      <th>e_inc_num</th>\n",
       "      <th>e_pop_num</th>\n",
       "    </tr>\n",
       "  </thead>\n",
       "  <tbody>\n",
       "    <tr>\n",
       "      <th>0</th>\n",
       "      <td>Afghanistan</td>\n",
       "      <td>2000</td>\n",
       "      <td>EMR</td>\n",
       "      <td>38000</td>\n",
       "      <td>20093756</td>\n",
       "    </tr>\n",
       "    <tr>\n",
       "      <th>1</th>\n",
       "      <td>Afghanistan</td>\n",
       "      <td>2001</td>\n",
       "      <td>EMR</td>\n",
       "      <td>40000</td>\n",
       "      <td>20966463</td>\n",
       "    </tr>\n",
       "    <tr>\n",
       "      <th>2</th>\n",
       "      <td>Afghanistan</td>\n",
       "      <td>2002</td>\n",
       "      <td>EMR</td>\n",
       "      <td>42000</td>\n",
       "      <td>21979923</td>\n",
       "    </tr>\n",
       "    <tr>\n",
       "      <th>3</th>\n",
       "      <td>Afghanistan</td>\n",
       "      <td>2003</td>\n",
       "      <td>EMR</td>\n",
       "      <td>44000</td>\n",
       "      <td>23064851</td>\n",
       "    </tr>\n",
       "    <tr>\n",
       "      <th>4</th>\n",
       "      <td>Afghanistan</td>\n",
       "      <td>2004</td>\n",
       "      <td>EMR</td>\n",
       "      <td>46000</td>\n",
       "      <td>24118979</td>\n",
       "    </tr>\n",
       "  </tbody>\n",
       "</table>\n",
       "</div>"
      ],
      "text/plain": [
       "       country  year g_whoregion  e_inc_num  e_pop_num\n",
       "0  Afghanistan  2000         EMR      38000   20093756\n",
       "1  Afghanistan  2001         EMR      40000   20966463\n",
       "2  Afghanistan  2002         EMR      42000   21979923\n",
       "3  Afghanistan  2003         EMR      44000   23064851\n",
       "4  Afghanistan  2004         EMR      46000   24118979"
      ]
     },
     "execution_count": 43,
     "metadata": {},
     "output_type": "execute_result"
    }
   ],
   "source": [
    "# selecting necessary columns\n",
    "\n",
    "all_tb = all_tb[['country', 'year' , 'g_whoregion', 'e_inc_num', 'e_pop_num']]\n",
    "all_tb.head()"
   ]
  },
  {
   "cell_type": "code",
   "execution_count": 45,
   "metadata": {},
   "outputs": [
    {
     "data": {
      "text/html": [
       "<div>\n",
       "<style scoped>\n",
       "    .dataframe tbody tr th:only-of-type {\n",
       "        vertical-align: middle;\n",
       "    }\n",
       "\n",
       "    .dataframe tbody tr th {\n",
       "        vertical-align: top;\n",
       "    }\n",
       "\n",
       "    .dataframe thead th {\n",
       "        text-align: right;\n",
       "    }\n",
       "</style>\n",
       "<table border=\"1\" class=\"dataframe\">\n",
       "  <thead>\n",
       "    <tr style=\"text-align: right;\">\n",
       "      <th></th>\n",
       "      <th>country</th>\n",
       "      <th>year</th>\n",
       "      <th>g_whoregion</th>\n",
       "      <th>e_inc_num</th>\n",
       "      <th>e_pop_num</th>\n",
       "      <th>perc_rate</th>\n",
       "    </tr>\n",
       "  </thead>\n",
       "  <tbody>\n",
       "    <tr>\n",
       "      <th>0</th>\n",
       "      <td>Afghanistan</td>\n",
       "      <td>2000</td>\n",
       "      <td>EMR</td>\n",
       "      <td>38000</td>\n",
       "      <td>20093756</td>\n",
       "      <td>0.19</td>\n",
       "    </tr>\n",
       "    <tr>\n",
       "      <th>1</th>\n",
       "      <td>Afghanistan</td>\n",
       "      <td>2001</td>\n",
       "      <td>EMR</td>\n",
       "      <td>40000</td>\n",
       "      <td>20966463</td>\n",
       "      <td>0.19</td>\n",
       "    </tr>\n",
       "    <tr>\n",
       "      <th>2</th>\n",
       "      <td>Afghanistan</td>\n",
       "      <td>2002</td>\n",
       "      <td>EMR</td>\n",
       "      <td>42000</td>\n",
       "      <td>21979923</td>\n",
       "      <td>0.19</td>\n",
       "    </tr>\n",
       "    <tr>\n",
       "      <th>3</th>\n",
       "      <td>Afghanistan</td>\n",
       "      <td>2003</td>\n",
       "      <td>EMR</td>\n",
       "      <td>44000</td>\n",
       "      <td>23064851</td>\n",
       "      <td>0.19</td>\n",
       "    </tr>\n",
       "    <tr>\n",
       "      <th>4</th>\n",
       "      <td>Afghanistan</td>\n",
       "      <td>2004</td>\n",
       "      <td>EMR</td>\n",
       "      <td>46000</td>\n",
       "      <td>24118979</td>\n",
       "      <td>0.19</td>\n",
       "    </tr>\n",
       "  </tbody>\n",
       "</table>\n",
       "</div>"
      ],
      "text/plain": [
       "       country  year g_whoregion  e_inc_num  e_pop_num  perc_rate\n",
       "0  Afghanistan  2000         EMR      38000   20093756       0.19\n",
       "1  Afghanistan  2001         EMR      40000   20966463       0.19\n",
       "2  Afghanistan  2002         EMR      42000   21979923       0.19\n",
       "3  Afghanistan  2003         EMR      44000   23064851       0.19\n",
       "4  Afghanistan  2004         EMR      46000   24118979       0.19"
      ]
     },
     "execution_count": 45,
     "metadata": {},
     "output_type": "execute_result"
    }
   ],
   "source": [
    "# measure the rate of TB in country population\n",
    "# Divide number of incident cases with the poplulation and create new column \n",
    "all_tb['perc_rate'] = (all_tb['e_inc_num']/all_tb['e_pop_num'] * 100) . round(2)\n",
    "all_tb.head()"
   ]
  },
  {
   "cell_type": "code",
   "execution_count": 62,
   "metadata": {},
   "outputs": [
    {
     "data": {
      "text/html": [
       "<div>\n",
       "<style scoped>\n",
       "    .dataframe tbody tr th:only-of-type {\n",
       "        vertical-align: middle;\n",
       "    }\n",
       "\n",
       "    .dataframe tbody tr th {\n",
       "        vertical-align: top;\n",
       "    }\n",
       "\n",
       "    .dataframe thead th {\n",
       "        text-align: right;\n",
       "    }\n",
       "</style>\n",
       "<table border=\"1\" class=\"dataframe\">\n",
       "  <thead>\n",
       "    <tr style=\"text-align: right;\">\n",
       "      <th></th>\n",
       "      <th>country</th>\n",
       "      <th>g_whoregion</th>\n",
       "      <th>perc_rate</th>\n",
       "    </tr>\n",
       "  </thead>\n",
       "  <tbody>\n",
       "    <tr>\n",
       "      <th>0</th>\n",
       "      <td>Afghanistan</td>\n",
       "      <td>EMR</td>\n",
       "      <td>0.190000</td>\n",
       "    </tr>\n",
       "    <tr>\n",
       "      <th>1</th>\n",
       "      <td>Albania</td>\n",
       "      <td>EUR</td>\n",
       "      <td>0.020000</td>\n",
       "    </tr>\n",
       "    <tr>\n",
       "      <th>2</th>\n",
       "      <td>Algeria</td>\n",
       "      <td>AFR</td>\n",
       "      <td>0.075000</td>\n",
       "    </tr>\n",
       "    <tr>\n",
       "      <th>3</th>\n",
       "      <td>American Samoa</td>\n",
       "      <td>WPR</td>\n",
       "      <td>0.009444</td>\n",
       "    </tr>\n",
       "    <tr>\n",
       "      <th>4</th>\n",
       "      <td>Andorra</td>\n",
       "      <td>EUR</td>\n",
       "      <td>0.011667</td>\n",
       "    </tr>\n",
       "  </tbody>\n",
       "</table>\n",
       "</div>"
      ],
      "text/plain": [
       "          country g_whoregion  perc_rate\n",
       "0     Afghanistan         EMR   0.190000\n",
       "1         Albania         EUR   0.020000\n",
       "2         Algeria         AFR   0.075000\n",
       "3  American Samoa         WPR   0.009444\n",
       "4         Andorra         EUR   0.011667"
      ]
     },
     "execution_count": 62,
     "metadata": {},
     "output_type": "execute_result"
    }
   ],
   "source": [
    "# Grouping by country\n",
    "all_tb_group = all_tb.groupby(['country', 'g_whoregion'] ).perc_rate.mean().reset_index()\n",
    "all_tb_group.head()"
   ]
  },
  {
   "cell_type": "code",
   "execution_count": 63,
   "metadata": {},
   "outputs": [
    {
     "data": {
      "text/html": [
       "<div>\n",
       "<style scoped>\n",
       "    .dataframe tbody tr th:only-of-type {\n",
       "        vertical-align: middle;\n",
       "    }\n",
       "\n",
       "    .dataframe tbody tr th {\n",
       "        vertical-align: top;\n",
       "    }\n",
       "\n",
       "    .dataframe thead th {\n",
       "        text-align: right;\n",
       "    }\n",
       "</style>\n",
       "<table border=\"1\" class=\"dataframe\">\n",
       "  <thead>\n",
       "    <tr style=\"text-align: right;\">\n",
       "      <th></th>\n",
       "      <th>country</th>\n",
       "      <th>Continents</th>\n",
       "      <th>perc_rate</th>\n",
       "    </tr>\n",
       "  </thead>\n",
       "  <tbody>\n",
       "    <tr>\n",
       "      <th>0</th>\n",
       "      <td>Afghanistan</td>\n",
       "      <td>EMR</td>\n",
       "      <td>0.190000</td>\n",
       "    </tr>\n",
       "    <tr>\n",
       "      <th>1</th>\n",
       "      <td>Albania</td>\n",
       "      <td>EUR</td>\n",
       "      <td>0.020000</td>\n",
       "    </tr>\n",
       "    <tr>\n",
       "      <th>2</th>\n",
       "      <td>Algeria</td>\n",
       "      <td>AFR</td>\n",
       "      <td>0.075000</td>\n",
       "    </tr>\n",
       "    <tr>\n",
       "      <th>3</th>\n",
       "      <td>American Samoa</td>\n",
       "      <td>WPR</td>\n",
       "      <td>0.009444</td>\n",
       "    </tr>\n",
       "    <tr>\n",
       "      <th>4</th>\n",
       "      <td>Andorra</td>\n",
       "      <td>EUR</td>\n",
       "      <td>0.011667</td>\n",
       "    </tr>\n",
       "  </tbody>\n",
       "</table>\n",
       "</div>"
      ],
      "text/plain": [
       "          country Continents  perc_rate\n",
       "0     Afghanistan        EMR   0.190000\n",
       "1         Albania        EUR   0.020000\n",
       "2         Algeria        AFR   0.075000\n",
       "3  American Samoa        WPR   0.009444\n",
       "4         Andorra        EUR   0.011667"
      ]
     },
     "execution_count": 63,
     "metadata": {},
     "output_type": "execute_result"
    }
   ],
   "source": [
    "#rename columns \n",
    "\n",
    "all_tb_group.rename(columns = {\"g_whoregion\": \"Continents\"}, inplace = True )\n",
    "all_tb_group.head()"
   ]
  },
  {
   "cell_type": "code",
   "execution_count": 64,
   "metadata": {},
   "outputs": [
    {
     "data": {
      "text/plain": [
       "Continents\n",
       "AFR    13.875397\n",
       "AMR     1.460972\n",
       "EMR     1.843889\n",
       "EUR     2.366009\n",
       "SEA     2.877014\n",
       "WPR     4.535000\n",
       "Name: perc_rate, dtype: float64"
      ]
     },
     "execution_count": 64,
     "metadata": {},
     "output_type": "execute_result"
    }
   ],
   "source": [
    "# Grouping by Continent\n",
    "\n",
    "summary = all_tb_group.groupby('Continents')['perc_rate'].sum()\n",
    "summary"
   ]
  },
  {
   "cell_type": "code",
   "execution_count": 67,
   "metadata": {},
   "outputs": [
    {
     "data": {
      "image/png": "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\n",
      "text/plain": [
       "<Figure size 432x288 with 1 Axes>"
      ]
     },
     "metadata": {
      "needs_background": "light"
     },
     "output_type": "display_data"
    }
   ],
   "source": [
    "# Plotting the results\n",
    "\n",
    "summary.plot(kind='bar', rot = 0)\n",
    "plt.ylabel('Rate of Incurrence')\n",
    "plt.show()"
   ]
  }
 ],
 "metadata": {
  "kernelspec": {
   "display_name": "Python 3",
   "language": "python",
   "name": "python3"
  },
  "language_info": {
   "codemirror_mode": {
    "name": "ipython",
    "version": 3
   },
   "file_extension": ".py",
   "mimetype": "text/x-python",
   "name": "python",
   "nbconvert_exporter": "python",
   "pygments_lexer": "ipython3",
   "version": "3.7.2"
  }
 },
 "nbformat": 4,
 "nbformat_minor": 2
}
