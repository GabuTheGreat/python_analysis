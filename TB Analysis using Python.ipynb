{
 "cells": [
  {
   "cell_type": "markdown",
   "metadata": {},
   "source": [
    "## WHO TB DATA ANALYSIS\n",
    "\n",
    "### 1. Introduction\n",
    "\n",
    "WHO provide a rich source of data on TB(Tuberculosis) and the effectiveness of efforts to reduce this burden. However, the available data are often underused. This may reflect the absence of clear guidance on recommended approaches to the analysis of such data. This project is going to address the gap through detailed practical examples of the analysis of TB data.\n",
    "\n",
    "This project has five major objectives;\n",
    "\n",
    "   1. To get and analyze descriptive statistics for the WHO TB data set.\n",
    "   2. To measure the rate of TB(all incurrences) in country population.\n",
    "   3. To compare the rate of TB incurrence in country population of people living with HIV and those living without HIV.\n",
    "   4. To analyze the incurrence of TB grouped by Countries and by Continents.\n",
    "   5. To analyze the impact of a countries GDP on TB\n",
    "    \n",
    "### 2. Abbreviations\n",
    "\n",
    "    e_inc_num           Estimated number of incident cases (all forms)\n",
    "    e_pop_num           Estimated total population number\n",
    "    e_inc_tbhiv_num     Estimated incidence of TB cases who are HIV-positive\n",
    "\n",
    "\n",
    "###### Loading the necessary packages"
   ]
  },
  {
   "cell_type": "code",
   "execution_count": 1,
   "metadata": {},
   "outputs": [],
   "source": [
    "# Importing pandas \n",
    "\n",
    "import pandas as pd\n",
    "\n",
    "# Importing matplotlib and setting aeshetics for plotting later\n",
    "\n",
    "import matplotlib.pyplot as plt\n",
    "plt.style.use('ggplot')"
   ]
  },
  {
   "cell_type": "markdown",
   "metadata": {},
   "source": [
    "###### Reading in the WHO TB dataset"
   ]
  },
  {
   "cell_type": "code",
   "execution_count": 2,
   "metadata": {},
   "outputs": [
    {
     "data": {
      "text/html": [
       "<div>\n",
       "<style scoped>\n",
       "    .dataframe tbody tr th:only-of-type {\n",
       "        vertical-align: middle;\n",
       "    }\n",
       "\n",
       "    .dataframe tbody tr th {\n",
       "        vertical-align: top;\n",
       "    }\n",
       "\n",
       "    .dataframe thead th {\n",
       "        text-align: right;\n",
       "    }\n",
       "</style>\n",
       "<table border=\"1\" class=\"dataframe\">\n",
       "  <thead>\n",
       "    <tr style=\"text-align: right;\">\n",
       "      <th></th>\n",
       "      <th>country</th>\n",
       "      <th>iso2</th>\n",
       "      <th>iso3</th>\n",
       "      <th>iso_numeric</th>\n",
       "      <th>g_whoregion</th>\n",
       "      <th>year</th>\n",
       "      <th>e_pop_num</th>\n",
       "      <th>e_inc_100k</th>\n",
       "      <th>e_inc_100k_lo</th>\n",
       "      <th>e_inc_100k_hi</th>\n",
       "      <th>...</th>\n",
       "      <th>e_mort_num</th>\n",
       "      <th>e_mort_num_lo</th>\n",
       "      <th>e_mort_num_hi</th>\n",
       "      <th>cfr</th>\n",
       "      <th>cfr_lo</th>\n",
       "      <th>cfr_hi</th>\n",
       "      <th>c_newinc_100k</th>\n",
       "      <th>c_cdr</th>\n",
       "      <th>c_cdr_lo</th>\n",
       "      <th>c_cdr_hi</th>\n",
       "    </tr>\n",
       "  </thead>\n",
       "  <tbody>\n",
       "    <tr>\n",
       "      <th>0</th>\n",
       "      <td>Afghanistan</td>\n",
       "      <td>AF</td>\n",
       "      <td>AFG</td>\n",
       "      <td>4</td>\n",
       "      <td>EMR</td>\n",
       "      <td>2000</td>\n",
       "      <td>20093756</td>\n",
       "      <td>190.0</td>\n",
       "      <td>123.0</td>\n",
       "      <td>271.0</td>\n",
       "      <td>...</td>\n",
       "      <td>14000</td>\n",
       "      <td>7800</td>\n",
       "      <td>21000</td>\n",
       "      <td>NaN</td>\n",
       "      <td>NaN</td>\n",
       "      <td>NaN</td>\n",
       "      <td>35.0</td>\n",
       "      <td>19.0</td>\n",
       "      <td>13.0</td>\n",
       "      <td>29.0</td>\n",
       "    </tr>\n",
       "    <tr>\n",
       "      <th>1</th>\n",
       "      <td>Afghanistan</td>\n",
       "      <td>AF</td>\n",
       "      <td>AFG</td>\n",
       "      <td>4</td>\n",
       "      <td>EMR</td>\n",
       "      <td>2001</td>\n",
       "      <td>20966463</td>\n",
       "      <td>189.0</td>\n",
       "      <td>123.0</td>\n",
       "      <td>271.0</td>\n",
       "      <td>...</td>\n",
       "      <td>13000</td>\n",
       "      <td>7600</td>\n",
       "      <td>20000</td>\n",
       "      <td>NaN</td>\n",
       "      <td>NaN</td>\n",
       "      <td>NaN</td>\n",
       "      <td>48.0</td>\n",
       "      <td>26.0</td>\n",
       "      <td>18.0</td>\n",
       "      <td>39.0</td>\n",
       "    </tr>\n",
       "    <tr>\n",
       "      <th>2</th>\n",
       "      <td>Afghanistan</td>\n",
       "      <td>AF</td>\n",
       "      <td>AFG</td>\n",
       "      <td>4</td>\n",
       "      <td>EMR</td>\n",
       "      <td>2002</td>\n",
       "      <td>21979923</td>\n",
       "      <td>189.0</td>\n",
       "      <td>122.0</td>\n",
       "      <td>270.0</td>\n",
       "      <td>...</td>\n",
       "      <td>12000</td>\n",
       "      <td>7200</td>\n",
       "      <td>19000</td>\n",
       "      <td>NaN</td>\n",
       "      <td>NaN</td>\n",
       "      <td>NaN</td>\n",
       "      <td>63.0</td>\n",
       "      <td>33.0</td>\n",
       "      <td>23.0</td>\n",
       "      <td>51.0</td>\n",
       "    </tr>\n",
       "    <tr>\n",
       "      <th>3</th>\n",
       "      <td>Afghanistan</td>\n",
       "      <td>AF</td>\n",
       "      <td>AFG</td>\n",
       "      <td>4</td>\n",
       "      <td>EMR</td>\n",
       "      <td>2003</td>\n",
       "      <td>23064851</td>\n",
       "      <td>189.0</td>\n",
       "      <td>122.0</td>\n",
       "      <td>270.0</td>\n",
       "      <td>...</td>\n",
       "      <td>13000</td>\n",
       "      <td>7700</td>\n",
       "      <td>20000</td>\n",
       "      <td>NaN</td>\n",
       "      <td>NaN</td>\n",
       "      <td>NaN</td>\n",
       "      <td>60.0</td>\n",
       "      <td>32.0</td>\n",
       "      <td>22.0</td>\n",
       "      <td>49.0</td>\n",
       "    </tr>\n",
       "    <tr>\n",
       "      <th>4</th>\n",
       "      <td>Afghanistan</td>\n",
       "      <td>AF</td>\n",
       "      <td>AFG</td>\n",
       "      <td>4</td>\n",
       "      <td>EMR</td>\n",
       "      <td>2004</td>\n",
       "      <td>24118979</td>\n",
       "      <td>189.0</td>\n",
       "      <td>122.0</td>\n",
       "      <td>270.0</td>\n",
       "      <td>...</td>\n",
       "      <td>12000</td>\n",
       "      <td>7200</td>\n",
       "      <td>19000</td>\n",
       "      <td>NaN</td>\n",
       "      <td>NaN</td>\n",
       "      <td>NaN</td>\n",
       "      <td>76.0</td>\n",
       "      <td>40.0</td>\n",
       "      <td>28.0</td>\n",
       "      <td>62.0</td>\n",
       "    </tr>\n",
       "  </tbody>\n",
       "</table>\n",
       "<p>5 rows × 47 columns</p>\n",
       "</div>"
      ],
      "text/plain": [
       "       country iso2 iso3  iso_numeric g_whoregion  year  e_pop_num  \\\n",
       "0  Afghanistan   AF  AFG            4         EMR  2000   20093756   \n",
       "1  Afghanistan   AF  AFG            4         EMR  2001   20966463   \n",
       "2  Afghanistan   AF  AFG            4         EMR  2002   21979923   \n",
       "3  Afghanistan   AF  AFG            4         EMR  2003   23064851   \n",
       "4  Afghanistan   AF  AFG            4         EMR  2004   24118979   \n",
       "\n",
       "   e_inc_100k  e_inc_100k_lo  e_inc_100k_hi    ...     e_mort_num  \\\n",
       "0       190.0          123.0          271.0    ...          14000   \n",
       "1       189.0          123.0          271.0    ...          13000   \n",
       "2       189.0          122.0          270.0    ...          12000   \n",
       "3       189.0          122.0          270.0    ...          13000   \n",
       "4       189.0          122.0          270.0    ...          12000   \n",
       "\n",
       "   e_mort_num_lo  e_mort_num_hi  cfr  cfr_lo  cfr_hi  c_newinc_100k  c_cdr  \\\n",
       "0           7800          21000  NaN     NaN     NaN           35.0   19.0   \n",
       "1           7600          20000  NaN     NaN     NaN           48.0   26.0   \n",
       "2           7200          19000  NaN     NaN     NaN           63.0   33.0   \n",
       "3           7700          20000  NaN     NaN     NaN           60.0   32.0   \n",
       "4           7200          19000  NaN     NaN     NaN           76.0   40.0   \n",
       "\n",
       "   c_cdr_lo  c_cdr_hi  \n",
       "0      13.0      29.0  \n",
       "1      18.0      39.0  \n",
       "2      23.0      51.0  \n",
       "3      22.0      49.0  \n",
       "4      28.0      62.0  \n",
       "\n",
       "[5 rows x 47 columns]"
      ]
     },
     "execution_count": 2,
     "metadata": {},
     "output_type": "execute_result"
    }
   ],
   "source": [
    "#Load the TB dataset\n",
    "#changing so that data is pulled from Github\n",
    "all_tb = pd.read_csv ('https://raw.githubusercontent.com/waithiegeni/python_analysis/master/TB_burden_countries_2019-01-11.csv', encoding = 'utf-8')\n",
    "\n",
    "# Print out the first 5 Rows \n",
    "\n",
    "all_tb.head()"
   ]
  },
  {
   "cell_type": "code",
   "execution_count": 3,
   "metadata": {},
   "outputs": [
    {
     "data": {
      "text/html": [
       "<div>\n",
       "<style scoped>\n",
       "    .dataframe tbody tr th:only-of-type {\n",
       "        vertical-align: middle;\n",
       "    }\n",
       "\n",
       "    .dataframe tbody tr th {\n",
       "        vertical-align: top;\n",
       "    }\n",
       "\n",
       "    .dataframe thead th {\n",
       "        text-align: right;\n",
       "    }\n",
       "</style>\n",
       "<table border=\"1\" class=\"dataframe\">\n",
       "  <thead>\n",
       "    <tr style=\"text-align: right;\">\n",
       "      <th></th>\n",
       "      <th>country</th>\n",
       "      <th>iso2</th>\n",
       "      <th>iso3</th>\n",
       "      <th>iso_numeric</th>\n",
       "      <th>g_whoregion</th>\n",
       "      <th>year</th>\n",
       "      <th>e_pop_num</th>\n",
       "      <th>e_inc_100k</th>\n",
       "      <th>e_inc_100k_lo</th>\n",
       "      <th>e_inc_100k_hi</th>\n",
       "      <th>...</th>\n",
       "      <th>e_mort_num</th>\n",
       "      <th>e_mort_num_lo</th>\n",
       "      <th>e_mort_num_hi</th>\n",
       "      <th>cfr</th>\n",
       "      <th>cfr_lo</th>\n",
       "      <th>cfr_hi</th>\n",
       "      <th>c_newinc_100k</th>\n",
       "      <th>c_cdr</th>\n",
       "      <th>c_cdr_lo</th>\n",
       "      <th>c_cdr_hi</th>\n",
       "    </tr>\n",
       "  </thead>\n",
       "  <tbody>\n",
       "    <tr>\n",
       "      <th>3845</th>\n",
       "      <td>Zimbabwe</td>\n",
       "      <td>ZW</td>\n",
       "      <td>ZWE</td>\n",
       "      <td>716</td>\n",
       "      <td>AFR</td>\n",
       "      <td>2013</td>\n",
       "      <td>15054506</td>\n",
       "      <td>304.0</td>\n",
       "      <td>228.0</td>\n",
       "      <td>391.0</td>\n",
       "      <td>...</td>\n",
       "      <td>11000</td>\n",
       "      <td>8000</td>\n",
       "      <td>14000</td>\n",
       "      <td>NaN</td>\n",
       "      <td>NaN</td>\n",
       "      <td>NaN</td>\n",
       "      <td>219.0</td>\n",
       "      <td>72.0</td>\n",
       "      <td>56.0</td>\n",
       "      <td>96.0</td>\n",
       "    </tr>\n",
       "    <tr>\n",
       "      <th>3846</th>\n",
       "      <td>Zimbabwe</td>\n",
       "      <td>ZW</td>\n",
       "      <td>ZWE</td>\n",
       "      <td>716</td>\n",
       "      <td>AFR</td>\n",
       "      <td>2014</td>\n",
       "      <td>15411675</td>\n",
       "      <td>278.0</td>\n",
       "      <td>202.0</td>\n",
       "      <td>366.0</td>\n",
       "      <td>...</td>\n",
       "      <td>11000</td>\n",
       "      <td>7800</td>\n",
       "      <td>14000</td>\n",
       "      <td>NaN</td>\n",
       "      <td>NaN</td>\n",
       "      <td>NaN</td>\n",
       "      <td>192.0</td>\n",
       "      <td>69.0</td>\n",
       "      <td>53.0</td>\n",
       "      <td>95.0</td>\n",
       "    </tr>\n",
       "    <tr>\n",
       "      <th>3847</th>\n",
       "      <td>Zimbabwe</td>\n",
       "      <td>ZW</td>\n",
       "      <td>ZWE</td>\n",
       "      <td>716</td>\n",
       "      <td>AFR</td>\n",
       "      <td>2015</td>\n",
       "      <td>15777451</td>\n",
       "      <td>242.0</td>\n",
       "      <td>179.0</td>\n",
       "      <td>314.0</td>\n",
       "      <td>...</td>\n",
       "      <td>9000</td>\n",
       "      <td>6800</td>\n",
       "      <td>11000</td>\n",
       "      <td>NaN</td>\n",
       "      <td>NaN</td>\n",
       "      <td>NaN</td>\n",
       "      <td>171.0</td>\n",
       "      <td>71.0</td>\n",
       "      <td>55.0</td>\n",
       "      <td>96.0</td>\n",
       "    </tr>\n",
       "    <tr>\n",
       "      <th>3848</th>\n",
       "      <td>Zimbabwe</td>\n",
       "      <td>ZW</td>\n",
       "      <td>ZWE</td>\n",
       "      <td>716</td>\n",
       "      <td>AFR</td>\n",
       "      <td>2016</td>\n",
       "      <td>16150362</td>\n",
       "      <td>233.0</td>\n",
       "      <td>173.0</td>\n",
       "      <td>302.0</td>\n",
       "      <td>...</td>\n",
       "      <td>8700</td>\n",
       "      <td>6500</td>\n",
       "      <td>11000</td>\n",
       "      <td>NaN</td>\n",
       "      <td>NaN</td>\n",
       "      <td>NaN</td>\n",
       "      <td>165.0</td>\n",
       "      <td>71.0</td>\n",
       "      <td>55.0</td>\n",
       "      <td>96.0</td>\n",
       "    </tr>\n",
       "    <tr>\n",
       "      <th>3849</th>\n",
       "      <td>Zimbabwe</td>\n",
       "      <td>ZW</td>\n",
       "      <td>ZWE</td>\n",
       "      <td>716</td>\n",
       "      <td>AFR</td>\n",
       "      <td>2017</td>\n",
       "      <td>16529904</td>\n",
       "      <td>221.0</td>\n",
       "      <td>164.0</td>\n",
       "      <td>287.0</td>\n",
       "      <td>...</td>\n",
       "      <td>8300</td>\n",
       "      <td>6300</td>\n",
       "      <td>11000</td>\n",
       "      <td>0.23</td>\n",
       "      <td>0.15</td>\n",
       "      <td>0.32</td>\n",
       "      <td>156.0</td>\n",
       "      <td>71.0</td>\n",
       "      <td>55.0</td>\n",
       "      <td>96.0</td>\n",
       "    </tr>\n",
       "  </tbody>\n",
       "</table>\n",
       "<p>5 rows × 47 columns</p>\n",
       "</div>"
      ],
      "text/plain": [
       "       country iso2 iso3  iso_numeric g_whoregion  year  e_pop_num  \\\n",
       "3845  Zimbabwe   ZW  ZWE          716         AFR  2013   15054506   \n",
       "3846  Zimbabwe   ZW  ZWE          716         AFR  2014   15411675   \n",
       "3847  Zimbabwe   ZW  ZWE          716         AFR  2015   15777451   \n",
       "3848  Zimbabwe   ZW  ZWE          716         AFR  2016   16150362   \n",
       "3849  Zimbabwe   ZW  ZWE          716         AFR  2017   16529904   \n",
       "\n",
       "      e_inc_100k  e_inc_100k_lo  e_inc_100k_hi    ...     e_mort_num  \\\n",
       "3845       304.0          228.0          391.0    ...          11000   \n",
       "3846       278.0          202.0          366.0    ...          11000   \n",
       "3847       242.0          179.0          314.0    ...           9000   \n",
       "3848       233.0          173.0          302.0    ...           8700   \n",
       "3849       221.0          164.0          287.0    ...           8300   \n",
       "\n",
       "      e_mort_num_lo  e_mort_num_hi   cfr  cfr_lo  cfr_hi  c_newinc_100k  \\\n",
       "3845           8000          14000   NaN     NaN     NaN          219.0   \n",
       "3846           7800          14000   NaN     NaN     NaN          192.0   \n",
       "3847           6800          11000   NaN     NaN     NaN          171.0   \n",
       "3848           6500          11000   NaN     NaN     NaN          165.0   \n",
       "3849           6300          11000  0.23    0.15    0.32          156.0   \n",
       "\n",
       "      c_cdr  c_cdr_lo  c_cdr_hi  \n",
       "3845   72.0      56.0      96.0  \n",
       "3846   69.0      53.0      95.0  \n",
       "3847   71.0      55.0      96.0  \n",
       "3848   71.0      55.0      96.0  \n",
       "3849   71.0      55.0      96.0  \n",
       "\n",
       "[5 rows x 47 columns]"
      ]
     },
     "execution_count": 3,
     "metadata": {},
     "output_type": "execute_result"
    }
   ],
   "source": [
    "# print out the last 5 rows\n",
    "all_tb.tail()"
   ]
  },
  {
   "cell_type": "code",
   "execution_count": 4,
   "metadata": {},
   "outputs": [
    {
     "data": {
      "text/plain": [
       "(3850, 47)"
      ]
     },
     "execution_count": 4,
     "metadata": {},
     "output_type": "execute_result"
    }
   ],
   "source": [
    "# Getting the shape of our data\n",
    "\n",
    "all_tb.shape"
   ]
  },
  {
   "cell_type": "markdown",
   "metadata": {},
   "source": [
    "###### Getting an overview of the data\n",
    "\n",
    "We notice that the previous calls returns all the columns of the dataset. We want to produce specific and clear-cut descriptive analysis of the data. Therefore, we will select only the columns we need."
   ]
  },
  {
   "cell_type": "code",
   "execution_count": 5,
   "metadata": {},
   "outputs": [
    {
     "data": {
      "text/html": [
       "<div>\n",
       "<style scoped>\n",
       "    .dataframe tbody tr th:only-of-type {\n",
       "        vertical-align: middle;\n",
       "    }\n",
       "\n",
       "    .dataframe tbody tr th {\n",
       "        vertical-align: top;\n",
       "    }\n",
       "\n",
       "    .dataframe thead th {\n",
       "        text-align: right;\n",
       "    }\n",
       "</style>\n",
       "<table border=\"1\" class=\"dataframe\">\n",
       "  <thead>\n",
       "    <tr style=\"text-align: right;\">\n",
       "      <th></th>\n",
       "      <th>country</th>\n",
       "      <th>year</th>\n",
       "      <th>e_inc_num</th>\n",
       "      <th>e_pop_num</th>\n",
       "    </tr>\n",
       "  </thead>\n",
       "  <tbody>\n",
       "    <tr>\n",
       "      <th>0</th>\n",
       "      <td>Afghanistan</td>\n",
       "      <td>2000</td>\n",
       "      <td>38000</td>\n",
       "      <td>20093756</td>\n",
       "    </tr>\n",
       "    <tr>\n",
       "      <th>1</th>\n",
       "      <td>Afghanistan</td>\n",
       "      <td>2001</td>\n",
       "      <td>40000</td>\n",
       "      <td>20966463</td>\n",
       "    </tr>\n",
       "    <tr>\n",
       "      <th>2</th>\n",
       "      <td>Afghanistan</td>\n",
       "      <td>2002</td>\n",
       "      <td>42000</td>\n",
       "      <td>21979923</td>\n",
       "    </tr>\n",
       "    <tr>\n",
       "      <th>3</th>\n",
       "      <td>Afghanistan</td>\n",
       "      <td>2003</td>\n",
       "      <td>44000</td>\n",
       "      <td>23064851</td>\n",
       "    </tr>\n",
       "    <tr>\n",
       "      <th>4</th>\n",
       "      <td>Afghanistan</td>\n",
       "      <td>2004</td>\n",
       "      <td>46000</td>\n",
       "      <td>24118979</td>\n",
       "    </tr>\n",
       "  </tbody>\n",
       "</table>\n",
       "</div>"
      ],
      "text/plain": [
       "       country  year  e_inc_num  e_pop_num\n",
       "0  Afghanistan  2000      38000   20093756\n",
       "1  Afghanistan  2001      40000   20966463\n",
       "2  Afghanistan  2002      42000   21979923\n",
       "3  Afghanistan  2003      44000   23064851\n",
       "4  Afghanistan  2004      46000   24118979"
      ]
     },
     "execution_count": 5,
     "metadata": {},
     "output_type": "execute_result"
    }
   ],
   "source": [
    "# Select the columns required to do descriptive stats of the data 'e_inc_tbhiv_num'\n",
    "\n",
    "all_tb = all_tb[['country','year','e_inc_num','e_pop_num', 'e_inc_tbhiv_num', 'iso3', 'g_whoregion']]\n",
    "\n",
    "all_tb[['country','year','e_inc_num','e_pop_num']].head()"
   ]
  },
  {
   "cell_type": "markdown",
   "metadata": {},
   "source": [
    "###### Doing basic descriptive statistics on our data\n",
    "\n",
    "Now that we know our dataset has 3850 records, we need to do basic descriptive statistics to understand it and reveal insights that we cannot get any other way. By doing so we will measure the central tendency which answers the question \"What does the middle of our data look like?\" and by also getting the measure of our spread, which answers the question \"How much does my data vary?\""
   ]
  },
  {
   "cell_type": "code",
   "execution_count": 6,
   "metadata": {},
   "outputs": [
    {
     "data": {
      "text/html": [
       "<div>\n",
       "<style scoped>\n",
       "    .dataframe tbody tr th:only-of-type {\n",
       "        vertical-align: middle;\n",
       "    }\n",
       "\n",
       "    .dataframe tbody tr th {\n",
       "        vertical-align: top;\n",
       "    }\n",
       "\n",
       "    .dataframe thead th {\n",
       "        text-align: right;\n",
       "    }\n",
       "</style>\n",
       "<table border=\"1\" class=\"dataframe\">\n",
       "  <thead>\n",
       "    <tr style=\"text-align: right;\">\n",
       "      <th></th>\n",
       "      <th>e_inc_num</th>\n",
       "      <th>e_pop_num</th>\n",
       "    </tr>\n",
       "  </thead>\n",
       "  <tbody>\n",
       "    <tr>\n",
       "      <th>count</th>\n",
       "      <td>3850.0</td>\n",
       "      <td>3.850000e+03</td>\n",
       "    </tr>\n",
       "    <tr>\n",
       "      <th>mean</th>\n",
       "      <td>49457.0</td>\n",
       "      <td>3.185015e+07</td>\n",
       "    </tr>\n",
       "    <tr>\n",
       "      <th>std</th>\n",
       "      <td>235495.0</td>\n",
       "      <td>1.275250e+08</td>\n",
       "    </tr>\n",
       "    <tr>\n",
       "      <th>min</th>\n",
       "      <td>0.0</td>\n",
       "      <td>1.126000e+03</td>\n",
       "    </tr>\n",
       "    <tr>\n",
       "      <th>25%</th>\n",
       "      <td>220.0</td>\n",
       "      <td>7.241050e+05</td>\n",
       "    </tr>\n",
       "    <tr>\n",
       "      <th>50%</th>\n",
       "      <td>3000.0</td>\n",
       "      <td>5.613306e+06</td>\n",
       "    </tr>\n",
       "    <tr>\n",
       "      <th>75%</th>\n",
       "      <td>17000.0</td>\n",
       "      <td>2.019158e+07</td>\n",
       "    </tr>\n",
       "    <tr>\n",
       "      <th>max</th>\n",
       "      <td>3190000.0</td>\n",
       "      <td>1.409517e+09</td>\n",
       "    </tr>\n",
       "  </tbody>\n",
       "</table>\n",
       "</div>"
      ],
      "text/plain": [
       "       e_inc_num     e_pop_num\n",
       "count     3850.0  3.850000e+03\n",
       "mean     49457.0  3.185015e+07\n",
       "std     235495.0  1.275250e+08\n",
       "min          0.0  1.126000e+03\n",
       "25%        220.0  7.241050e+05\n",
       "50%       3000.0  5.613306e+06\n",
       "75%      17000.0  2.019158e+07\n",
       "max    3190000.0  1.409517e+09"
      ]
     },
     "execution_count": 6,
     "metadata": {},
     "output_type": "execute_result"
    }
   ],
   "source": [
    "#Doing summary statistics on e_inc_num and e_pop_num\n",
    "all_tb[[\"e_inc_num\", \"e_pop_num\"]].describe().round()"
   ]
  },
  {
   "cell_type": "code",
   "execution_count": 7,
   "metadata": {},
   "outputs": [
    {
     "data": {
      "text/plain": [
       "e_inc_num       190409887\n",
       "e_pop_num    122623062812\n",
       "dtype: int64"
      ]
     },
     "execution_count": 7,
     "metadata": {},
     "output_type": "execute_result"
    }
   ],
   "source": [
    "# Getting the sum of all TB incurrences and sum of population\n",
    "all_tb[['e_inc_num', 'e_pop_num']].sum().round()"
   ]
  },
  {
   "cell_type": "code",
   "execution_count": 8,
   "metadata": {},
   "outputs": [
    {
     "data": {
      "text/plain": [
       "218"
      ]
     },
     "execution_count": 8,
     "metadata": {},
     "output_type": "execute_result"
    }
   ],
   "source": [
    "# Getting the number of countries \n",
    "len(all_tb ['country'].unique())"
   ]
  },
  {
   "cell_type": "code",
   "execution_count": 9,
   "metadata": {},
   "outputs": [
    {
     "data": {
      "text/html": [
       "<div>\n",
       "<style scoped>\n",
       "    .dataframe tbody tr th:only-of-type {\n",
       "        vertical-align: middle;\n",
       "    }\n",
       "\n",
       "    .dataframe tbody tr th {\n",
       "        vertical-align: top;\n",
       "    }\n",
       "\n",
       "    .dataframe thead th {\n",
       "        text-align: right;\n",
       "    }\n",
       "</style>\n",
       "<table border=\"1\" class=\"dataframe\">\n",
       "  <thead>\n",
       "    <tr style=\"text-align: right;\">\n",
       "      <th></th>\n",
       "      <th>e_inc_num</th>\n",
       "      <th>e_pop_num</th>\n",
       "    </tr>\n",
       "  </thead>\n",
       "  <tbody>\n",
       "    <tr>\n",
       "      <th>e_inc_num</th>\n",
       "      <td>1.000000</td>\n",
       "      <td>0.841395</td>\n",
       "    </tr>\n",
       "    <tr>\n",
       "      <th>e_pop_num</th>\n",
       "      <td>0.841395</td>\n",
       "      <td>1.000000</td>\n",
       "    </tr>\n",
       "  </tbody>\n",
       "</table>\n",
       "</div>"
      ],
      "text/plain": [
       "           e_inc_num  e_pop_num\n",
       "e_inc_num   1.000000   0.841395\n",
       "e_pop_num   0.841395   1.000000"
      ]
     },
     "execution_count": 9,
     "metadata": {},
     "output_type": "execute_result"
    }
   ],
   "source": [
    "# Checking the correlation of our attributes in the dataset\n",
    "all_tb[['e_inc_num', 'e_pop_num']].corr(method = 'pearson')"
   ]
  },
  {
   "cell_type": "code",
   "execution_count": 10,
   "metadata": {},
   "outputs": [
    {
     "data": {
      "text/html": [
       "<div>\n",
       "<style scoped>\n",
       "    .dataframe tbody tr th:only-of-type {\n",
       "        vertical-align: middle;\n",
       "    }\n",
       "\n",
       "    .dataframe tbody tr th {\n",
       "        vertical-align: top;\n",
       "    }\n",
       "\n",
       "    .dataframe thead th {\n",
       "        text-align: right;\n",
       "    }\n",
       "</style>\n",
       "<table border=\"1\" class=\"dataframe\">\n",
       "  <thead>\n",
       "    <tr style=\"text-align: right;\">\n",
       "      <th></th>\n",
       "      <th>sum</th>\n",
       "      <th>max</th>\n",
       "      <th>min</th>\n",
       "    </tr>\n",
       "    <tr>\n",
       "      <th>year</th>\n",
       "      <th></th>\n",
       "      <th></th>\n",
       "      <th></th>\n",
       "    </tr>\n",
       "  </thead>\n",
       "  <tbody>\n",
       "    <tr>\n",
       "      <th>2000</th>\n",
       "      <td>10413551</td>\n",
       "      <td>3040000</td>\n",
       "      <td>0</td>\n",
       "    </tr>\n",
       "    <tr>\n",
       "      <th>2001</th>\n",
       "      <td>10548676</td>\n",
       "      <td>3090000</td>\n",
       "      <td>0</td>\n",
       "    </tr>\n",
       "    <tr>\n",
       "      <th>2002</th>\n",
       "      <td>10656217</td>\n",
       "      <td>3130000</td>\n",
       "      <td>0</td>\n",
       "    </tr>\n",
       "    <tr>\n",
       "      <th>2003</th>\n",
       "      <td>10775332</td>\n",
       "      <td>3160000</td>\n",
       "      <td>0</td>\n",
       "    </tr>\n",
       "    <tr>\n",
       "      <th>2004</th>\n",
       "      <td>10831371</td>\n",
       "      <td>3180000</td>\n",
       "      <td>0</td>\n",
       "    </tr>\n",
       "    <tr>\n",
       "      <th>2005</th>\n",
       "      <td>10868086</td>\n",
       "      <td>3190000</td>\n",
       "      <td>0</td>\n",
       "    </tr>\n",
       "    <tr>\n",
       "      <th>2006</th>\n",
       "      <td>10863890</td>\n",
       "      <td>3180000</td>\n",
       "      <td>0</td>\n",
       "    </tr>\n",
       "    <tr>\n",
       "      <th>2007</th>\n",
       "      <td>10831962</td>\n",
       "      <td>3160000</td>\n",
       "      <td>0</td>\n",
       "    </tr>\n",
       "    <tr>\n",
       "      <th>2008</th>\n",
       "      <td>10791597</td>\n",
       "      <td>3130000</td>\n",
       "      <td>0</td>\n",
       "    </tr>\n",
       "    <tr>\n",
       "      <th>2009</th>\n",
       "      <td>10764310</td>\n",
       "      <td>3090000</td>\n",
       "      <td>0</td>\n",
       "    </tr>\n",
       "    <tr>\n",
       "      <th>2010</th>\n",
       "      <td>10653969</td>\n",
       "      <td>3050000</td>\n",
       "      <td>0</td>\n",
       "    </tr>\n",
       "    <tr>\n",
       "      <th>2011</th>\n",
       "      <td>10607618</td>\n",
       "      <td>3000000</td>\n",
       "      <td>0</td>\n",
       "    </tr>\n",
       "    <tr>\n",
       "      <th>2012</th>\n",
       "      <td>10548440</td>\n",
       "      <td>2960000</td>\n",
       "      <td>0</td>\n",
       "    </tr>\n",
       "    <tr>\n",
       "      <th>2013</th>\n",
       "      <td>10442519</td>\n",
       "      <td>2920000</td>\n",
       "      <td>0</td>\n",
       "    </tr>\n",
       "    <tr>\n",
       "      <th>2014</th>\n",
       "      <td>10366364</td>\n",
       "      <td>2880000</td>\n",
       "      <td>0</td>\n",
       "    </tr>\n",
       "    <tr>\n",
       "      <th>2015</th>\n",
       "      <td>10268168</td>\n",
       "      <td>2840000</td>\n",
       "      <td>0</td>\n",
       "    </tr>\n",
       "    <tr>\n",
       "      <th>2016</th>\n",
       "      <td>10127756</td>\n",
       "      <td>2790000</td>\n",
       "      <td>0</td>\n",
       "    </tr>\n",
       "    <tr>\n",
       "      <th>2017</th>\n",
       "      <td>10050061</td>\n",
       "      <td>2740000</td>\n",
       "      <td>0</td>\n",
       "    </tr>\n",
       "  </tbody>\n",
       "</table>\n",
       "</div>"
      ],
      "text/plain": [
       "           sum      max  min\n",
       "year                        \n",
       "2000  10413551  3040000    0\n",
       "2001  10548676  3090000    0\n",
       "2002  10656217  3130000    0\n",
       "2003  10775332  3160000    0\n",
       "2004  10831371  3180000    0\n",
       "2005  10868086  3190000    0\n",
       "2006  10863890  3180000    0\n",
       "2007  10831962  3160000    0\n",
       "2008  10791597  3130000    0\n",
       "2009  10764310  3090000    0\n",
       "2010  10653969  3050000    0\n",
       "2011  10607618  3000000    0\n",
       "2012  10548440  2960000    0\n",
       "2013  10442519  2920000    0\n",
       "2014  10366364  2880000    0\n",
       "2015  10268168  2840000    0\n",
       "2016  10127756  2790000    0\n",
       "2017  10050061  2740000    0"
      ]
     },
     "execution_count": 10,
     "metadata": {},
     "output_type": "execute_result"
    }
   ],
   "source": [
    "# Grouping and aggregating by year\n",
    "\n",
    "all_tb_grouped = all_tb.groupby(['year']).e_inc_num.agg(['sum','max','min'])\n",
    "all_tb_grouped"
   ]
  },
  {
   "cell_type": "markdown",
   "metadata": {},
   "source": [
    "This was just a selection of the descriptive statistics that are useful for us to get the rate of TB in country population. We have established out of our 3850 records, we have 218 countries, the total incurrence of TB in the world was at an all time high in 2006. However, this has gradually reduced over the years, reporting an all time low incurrence currently."
   ]
  },
  {
   "cell_type": "markdown",
   "metadata": {},
   "source": [
    "### 3. Getting the percentage rate of TB(all incurrences) in country population.\n",
    "\n",
    "We can get the percentage rate of TB using the following formula;\n",
    "\n",
    "       % Rate of TB =  (TB incurrence)/(Population) * 100"
   ]
  },
  {
   "cell_type": "code",
   "execution_count": 11,
   "metadata": {},
   "outputs": [
    {
     "data": {
      "text/html": [
       "<div>\n",
       "<style scoped>\n",
       "    .dataframe tbody tr th:only-of-type {\n",
       "        vertical-align: middle;\n",
       "    }\n",
       "\n",
       "    .dataframe tbody tr th {\n",
       "        vertical-align: top;\n",
       "    }\n",
       "\n",
       "    .dataframe thead th {\n",
       "        text-align: right;\n",
       "    }\n",
       "</style>\n",
       "<table border=\"1\" class=\"dataframe\">\n",
       "  <thead>\n",
       "    <tr style=\"text-align: right;\">\n",
       "      <th></th>\n",
       "      <th>country</th>\n",
       "      <th>year</th>\n",
       "      <th>e_inc_num</th>\n",
       "      <th>e_pop_num</th>\n",
       "      <th>e_inc_tbhiv_num</th>\n",
       "      <th>iso3</th>\n",
       "      <th>g_whoregion</th>\n",
       "      <th>perc_rate_tb</th>\n",
       "    </tr>\n",
       "  </thead>\n",
       "  <tbody>\n",
       "    <tr>\n",
       "      <th>0</th>\n",
       "      <td>Afghanistan</td>\n",
       "      <td>2000</td>\n",
       "      <td>38000</td>\n",
       "      <td>20093756</td>\n",
       "      <td>110.0</td>\n",
       "      <td>AFG</td>\n",
       "      <td>EMR</td>\n",
       "      <td>0.19</td>\n",
       "    </tr>\n",
       "    <tr>\n",
       "      <th>1</th>\n",
       "      <td>Afghanistan</td>\n",
       "      <td>2001</td>\n",
       "      <td>40000</td>\n",
       "      <td>20966463</td>\n",
       "      <td>100.0</td>\n",
       "      <td>AFG</td>\n",
       "      <td>EMR</td>\n",
       "      <td>0.19</td>\n",
       "    </tr>\n",
       "    <tr>\n",
       "      <th>2</th>\n",
       "      <td>Afghanistan</td>\n",
       "      <td>2002</td>\n",
       "      <td>42000</td>\n",
       "      <td>21979923</td>\n",
       "      <td>95.0</td>\n",
       "      <td>AFG</td>\n",
       "      <td>EMR</td>\n",
       "      <td>0.19</td>\n",
       "    </tr>\n",
       "    <tr>\n",
       "      <th>3</th>\n",
       "      <td>Afghanistan</td>\n",
       "      <td>2003</td>\n",
       "      <td>44000</td>\n",
       "      <td>23064851</td>\n",
       "      <td>92.0</td>\n",
       "      <td>AFG</td>\n",
       "      <td>EMR</td>\n",
       "      <td>0.19</td>\n",
       "    </tr>\n",
       "    <tr>\n",
       "      <th>4</th>\n",
       "      <td>Afghanistan</td>\n",
       "      <td>2004</td>\n",
       "      <td>46000</td>\n",
       "      <td>24118979</td>\n",
       "      <td>95.0</td>\n",
       "      <td>AFG</td>\n",
       "      <td>EMR</td>\n",
       "      <td>0.19</td>\n",
       "    </tr>\n",
       "  </tbody>\n",
       "</table>\n",
       "</div>"
      ],
      "text/plain": [
       "       country  year  e_inc_num  e_pop_num  e_inc_tbhiv_num iso3 g_whoregion  \\\n",
       "0  Afghanistan  2000      38000   20093756            110.0  AFG         EMR   \n",
       "1  Afghanistan  2001      40000   20966463            100.0  AFG         EMR   \n",
       "2  Afghanistan  2002      42000   21979923             95.0  AFG         EMR   \n",
       "3  Afghanistan  2003      44000   23064851             92.0  AFG         EMR   \n",
       "4  Afghanistan  2004      46000   24118979             95.0  AFG         EMR   \n",
       "\n",
       "   perc_rate_tb  \n",
       "0          0.19  \n",
       "1          0.19  \n",
       "2          0.19  \n",
       "3          0.19  \n",
       "4          0.19  "
      ]
     },
     "execution_count": 11,
     "metadata": {},
     "output_type": "execute_result"
    }
   ],
   "source": [
    "# Divide number of incident cases with the poplulation and create new column \n",
    "\n",
    "all_tb['perc_rate_tb'] = (all_tb['e_inc_num']/all_tb['e_pop_num'] * 100) . round(2)\n",
    "all_tb . head()"
   ]
  },
  {
   "cell_type": "code",
   "execution_count": 12,
   "metadata": {},
   "outputs": [
    {
     "data": {
      "text/plain": [
       "country\n",
       "Afghanistan       0.190000\n",
       "Albania           0.020000\n",
       "Algeria           0.075000\n",
       "American Samoa    0.009444\n",
       "Andorra           0.011667\n",
       "Name: perc_rate_tb, dtype: float64"
      ]
     },
     "execution_count": 12,
     "metadata": {},
     "output_type": "execute_result"
    }
   ],
   "source": [
    "# Grouping data by year \n",
    "\n",
    "summary = all_tb.groupby (['country']).perc_rate_tb.mean()\n",
    "summary.head()"
   ]
  },
  {
   "cell_type": "markdown",
   "metadata": {},
   "source": [
    "Now that we have grouped our data by country , we can actually now sort the rate of TB to see which country has the highest and lowest rate in TB"
   ]
  },
  {
   "cell_type": "code",
   "execution_count": 13,
   "metadata": {},
   "outputs": [
    {
     "data": {
      "text/plain": [
       "country\n",
       "Lesotho                     1.055556\n",
       "South Africa                0.828333\n",
       "Eswatini                    0.768333\n",
       "Namibia                     0.697778\n",
       "Botswana                    0.596111\n",
       "Central African Republic    0.590556\n",
       "Gabon                       0.556667\n",
       "Philippines                 0.546667\n",
       "Zambia                      0.537222\n",
       "Mozambique                  0.534444\n",
       "Name: perc_rate_tb, dtype: float64"
      ]
     },
     "execution_count": 13,
     "metadata": {},
     "output_type": "execute_result"
    }
   ],
   "source": [
    "# sorting the rate of TB in ascending order \n",
    "\n",
    "summary.sort_values(ascending = False).head(10) #10 highest"
   ]
  },
  {
   "cell_type": "code",
   "execution_count": 14,
   "metadata": {},
   "outputs": [
    {
     "data": {
      "text/plain": [
       "country\n",
       "Bonaire, Saint Eustatius and Saba    0.0\n",
       "Monaco                               0.0\n",
       "San Marino                           0.0\n",
       "United Arab Emirates                 0.0\n",
       "West Bank and Gaza Strip             0.0\n",
       "Name: perc_rate_tb, dtype: float64"
      ]
     },
     "execution_count": 14,
     "metadata": {},
     "output_type": "execute_result"
    }
   ],
   "source": [
    "# Getting countries reporting 0% rate in TB\n",
    "\n",
    "no_tb =summary[summary == 0.0]\n",
    "no_tb"
   ]
  },
  {
   "cell_type": "markdown",
   "metadata": {},
   "source": [
    "###### Insights\n",
    "\n",
    "  1. Only 5 countries report at least a 0% rate in TB\n",
    "  2. 9 out of the 10 countries with the highest rate are from Africa , which is safe to say Africa has the highest rate incurrence in TB\n",
    " \n"
   ]
  },
  {
   "cell_type": "markdown",
   "metadata": {},
   "source": [
    "###### Plotting our percentage rate of inccurrence"
   ]
  },
  {
   "cell_type": "code",
   "execution_count": 15,
   "metadata": {},
   "outputs": [
    {
     "data": {
      "image/png": "[encoded data removed]",
      "text/plain": [
       "<Figure size 432x432 with 1 Axes>"
      ]
     },
     "metadata": {
      "needs_background": "light"
     },
     "output_type": "display_data"
    }
   ],
   "source": [
    "# plotting the data\n",
    "fig = plt.figure(figsize=(6,6)) # define plot area\n",
    "ax = fig.gca() # define axis\n",
    "summary.plot.hist()\n",
    "ax.set_title('% Rate of Incurrence') # Give the plot a main title\n",
    "ax.set_xlabel(\"Rate\") # Set text for the x axis\n",
    "ax.set_ylabel(\"Frequency of Rate\") # Set text for the x axis\n",
    "plt.show()"
   ]
  },
  {
   "cell_type": "markdown",
   "metadata": {},
   "source": [
    "\n",
    "Well, this is somewhat good news. We can see that the % rate of TB incurrence lies between 0 - 0.2% over time. Now let's break it down further and compare this rate with those people living with both TB and HIV."
   ]
  },
  {
   "cell_type": "markdown",
   "metadata": {},
   "source": [
    "### 4. Comparing the rate of TB incurrence in country population of people living with HIV and those living without HIV\n",
    "\n",
    "###### Doing basic stats on the HIV data"
   ]
  },
  {
   "cell_type": "code",
   "execution_count": 16,
   "metadata": {},
   "outputs": [
    {
     "data": {
      "text/html": [
       "<div>\n",
       "<style scoped>\n",
       "    .dataframe tbody tr th:only-of-type {\n",
       "        vertical-align: middle;\n",
       "    }\n",
       "\n",
       "    .dataframe tbody tr th {\n",
       "        vertical-align: top;\n",
       "    }\n",
       "\n",
       "    .dataframe thead th {\n",
       "        text-align: right;\n",
       "    }\n",
       "</style>\n",
       "<table border=\"1\" class=\"dataframe\">\n",
       "  <thead>\n",
       "    <tr style=\"text-align: right;\">\n",
       "      <th></th>\n",
       "      <th>e_inc_tbhiv_num</th>\n",
       "      <th>e_inc_num</th>\n",
       "    </tr>\n",
       "  </thead>\n",
       "  <tbody>\n",
       "    <tr>\n",
       "      <th>count</th>\n",
       "      <td>3531.0</td>\n",
       "      <td>3850.0</td>\n",
       "    </tr>\n",
       "    <tr>\n",
       "      <th>mean</th>\n",
       "      <td>6510.0</td>\n",
       "      <td>49457.0</td>\n",
       "    </tr>\n",
       "    <tr>\n",
       "      <th>std</th>\n",
       "      <td>26063.0</td>\n",
       "      <td>235495.0</td>\n",
       "    </tr>\n",
       "    <tr>\n",
       "      <th>min</th>\n",
       "      <td>0.0</td>\n",
       "      <td>0.0</td>\n",
       "    </tr>\n",
       "    <tr>\n",
       "      <th>25%</th>\n",
       "      <td>7.0</td>\n",
       "      <td>220.0</td>\n",
       "    </tr>\n",
       "    <tr>\n",
       "      <th>50%</th>\n",
       "      <td>120.0</td>\n",
       "      <td>3000.0</td>\n",
       "    </tr>\n",
       "    <tr>\n",
       "      <th>75%</th>\n",
       "      <td>1350.0</td>\n",
       "      <td>17000.0</td>\n",
       "    </tr>\n",
       "    <tr>\n",
       "      <th>max</th>\n",
       "      <td>308000.0</td>\n",
       "      <td>3190000.0</td>\n",
       "    </tr>\n",
       "  </tbody>\n",
       "</table>\n",
       "</div>"
      ],
      "text/plain": [
       "       e_inc_tbhiv_num  e_inc_num\n",
       "count           3531.0     3850.0\n",
       "mean            6510.0    49457.0\n",
       "std            26063.0   235495.0\n",
       "min                0.0        0.0\n",
       "25%                7.0      220.0\n",
       "50%              120.0     3000.0\n",
       "75%             1350.0    17000.0\n",
       "max           308000.0  3190000.0"
      ]
     },
     "execution_count": 16,
     "metadata": {},
     "output_type": "execute_result"
    }
   ],
   "source": [
    "# Select the necessary columns and do a describe\n",
    "tb_hiv_all = all_tb.copy()\n",
    "\n",
    "tb_hiv_all[['country','e_inc_tbhiv_num','e_inc_num']].describe().round()"
   ]
  },
  {
   "cell_type": "markdown",
   "metadata": {},
   "source": [
    "Outrightly we can already tell that there are null values in the e_inc_tbhiv_num column. Keeping in mind that a null value != 0 (zero). Let's drop columns with null values in order for us to get a more accurate analysis"
   ]
  },
  {
   "cell_type": "code",
   "execution_count": 17,
   "metadata": {},
   "outputs": [
    {
     "data": {
      "text/plain": [
       "index              3531\n",
       "country            3531\n",
       "year               3531\n",
       "e_inc_num          3531\n",
       "e_pop_num          3531\n",
       "e_inc_tbhiv_num    3531\n",
       "iso3               3531\n",
       "g_whoregion        3531\n",
       "perc_rate_tb       3531\n",
       "dtype: int64"
      ]
     },
     "execution_count": 17,
     "metadata": {},
     "output_type": "execute_result"
    }
   ],
   "source": [
    "#drop null values and reset index\n",
    "\n",
    "tb_hiv_all = tb_hiv_all.dropna().reset_index()\n",
    "tb_hiv_all.count()"
   ]
  },
  {
   "cell_type": "markdown",
   "metadata": {},
   "source": [
    "For us to be able to compare the rate of people with TB living with HIV and those who don't live with HIV, we will need to create a new column for those living without HIV. Which is simply;\n",
    "\n",
    "                    e_inc_num - e_inc_tbhiv_num "
   ]
  },
  {
   "cell_type": "code",
   "execution_count": 18,
   "metadata": {},
   "outputs": [],
   "source": [
    "# create a new column with people with TB without HIV \n",
    "\n",
    "tb_hiv_all['tb_hiv_neg'] = tb_hiv_all['e_inc_num'] - tb_hiv_all['e_inc_tbhiv_num']"
   ]
  },
  {
   "cell_type": "code",
   "execution_count": 19,
   "metadata": {},
   "outputs": [
    {
     "data": {
      "text/html": [
       "<div>\n",
       "<style scoped>\n",
       "    .dataframe tbody tr th:only-of-type {\n",
       "        vertical-align: middle;\n",
       "    }\n",
       "\n",
       "    .dataframe tbody tr th {\n",
       "        vertical-align: top;\n",
       "    }\n",
       "\n",
       "    .dataframe thead th {\n",
       "        text-align: right;\n",
       "    }\n",
       "</style>\n",
       "<table border=\"1\" class=\"dataframe\">\n",
       "  <thead>\n",
       "    <tr style=\"text-align: right;\">\n",
       "      <th></th>\n",
       "      <th>index</th>\n",
       "      <th>country</th>\n",
       "      <th>year</th>\n",
       "      <th>e_inc_num</th>\n",
       "      <th>e_pop_num</th>\n",
       "      <th>e_inc_tbhiv_num</th>\n",
       "      <th>iso3</th>\n",
       "      <th>g_whoregion</th>\n",
       "      <th>perc_rate_tb</th>\n",
       "      <th>tb_hiv_neg</th>\n",
       "    </tr>\n",
       "  </thead>\n",
       "  <tbody>\n",
       "    <tr>\n",
       "      <th>0</th>\n",
       "      <td>0</td>\n",
       "      <td>Afghanistan</td>\n",
       "      <td>2000</td>\n",
       "      <td>38000</td>\n",
       "      <td>20093756</td>\n",
       "      <td>110.0</td>\n",
       "      <td>AFG</td>\n",
       "      <td>EMR</td>\n",
       "      <td>0.19</td>\n",
       "      <td>37890.0</td>\n",
       "    </tr>\n",
       "    <tr>\n",
       "      <th>1</th>\n",
       "      <td>1</td>\n",
       "      <td>Afghanistan</td>\n",
       "      <td>2001</td>\n",
       "      <td>40000</td>\n",
       "      <td>20966463</td>\n",
       "      <td>100.0</td>\n",
       "      <td>AFG</td>\n",
       "      <td>EMR</td>\n",
       "      <td>0.19</td>\n",
       "      <td>39900.0</td>\n",
       "    </tr>\n",
       "    <tr>\n",
       "      <th>2</th>\n",
       "      <td>2</td>\n",
       "      <td>Afghanistan</td>\n",
       "      <td>2002</td>\n",
       "      <td>42000</td>\n",
       "      <td>21979923</td>\n",
       "      <td>95.0</td>\n",
       "      <td>AFG</td>\n",
       "      <td>EMR</td>\n",
       "      <td>0.19</td>\n",
       "      <td>41905.0</td>\n",
       "    </tr>\n",
       "    <tr>\n",
       "      <th>3</th>\n",
       "      <td>3</td>\n",
       "      <td>Afghanistan</td>\n",
       "      <td>2003</td>\n",
       "      <td>44000</td>\n",
       "      <td>23064851</td>\n",
       "      <td>92.0</td>\n",
       "      <td>AFG</td>\n",
       "      <td>EMR</td>\n",
       "      <td>0.19</td>\n",
       "      <td>43908.0</td>\n",
       "    </tr>\n",
       "    <tr>\n",
       "      <th>4</th>\n",
       "      <td>4</td>\n",
       "      <td>Afghanistan</td>\n",
       "      <td>2004</td>\n",
       "      <td>46000</td>\n",
       "      <td>24118979</td>\n",
       "      <td>95.0</td>\n",
       "      <td>AFG</td>\n",
       "      <td>EMR</td>\n",
       "      <td>0.19</td>\n",
       "      <td>45905.0</td>\n",
       "    </tr>\n",
       "  </tbody>\n",
       "</table>\n",
       "</div>"
      ],
      "text/plain": [
       "   index      country  year  e_inc_num  e_pop_num  e_inc_tbhiv_num iso3  \\\n",
       "0      0  Afghanistan  2000      38000   20093756            110.0  AFG   \n",
       "1      1  Afghanistan  2001      40000   20966463            100.0  AFG   \n",
       "2      2  Afghanistan  2002      42000   21979923             95.0  AFG   \n",
       "3      3  Afghanistan  2003      44000   23064851             92.0  AFG   \n",
       "4      4  Afghanistan  2004      46000   24118979             95.0  AFG   \n",
       "\n",
       "  g_whoregion  perc_rate_tb  tb_hiv_neg  \n",
       "0         EMR          0.19     37890.0  \n",
       "1         EMR          0.19     39900.0  \n",
       "2         EMR          0.19     41905.0  \n",
       "3         EMR          0.19     43908.0  \n",
       "4         EMR          0.19     45905.0  "
      ]
     },
     "execution_count": 19,
     "metadata": {},
     "output_type": "execute_result"
    }
   ],
   "source": [
    "tb_hiv_all.head()"
   ]
  },
  {
   "cell_type": "markdown",
   "metadata": {},
   "source": [
    "###### Plotting our results to compare TB with HIV and those without HIV"
   ]
  },
  {
   "cell_type": "code",
   "execution_count": 20,
   "metadata": {},
   "outputs": [
    {
     "data": {
      "text/html": [
       "<div>\n",
       "<style scoped>\n",
       "    .dataframe tbody tr th:only-of-type {\n",
       "        vertical-align: middle;\n",
       "    }\n",
       "\n",
       "    .dataframe tbody tr th {\n",
       "        vertical-align: top;\n",
       "    }\n",
       "\n",
       "    .dataframe thead th {\n",
       "        text-align: right;\n",
       "    }\n",
       "</style>\n",
       "<table border=\"1\" class=\"dataframe\">\n",
       "  <thead>\n",
       "    <tr style=\"text-align: right;\">\n",
       "      <th></th>\n",
       "      <th>adjusted_hiv_pos</th>\n",
       "    </tr>\n",
       "  </thead>\n",
       "  <tbody>\n",
       "    <tr>\n",
       "      <th>0</th>\n",
       "      <td>0.000547</td>\n",
       "    </tr>\n",
       "    <tr>\n",
       "      <th>1</th>\n",
       "      <td>0.000477</td>\n",
       "    </tr>\n",
       "    <tr>\n",
       "      <th>2</th>\n",
       "      <td>0.000432</td>\n",
       "    </tr>\n",
       "    <tr>\n",
       "      <th>3</th>\n",
       "      <td>0.000399</td>\n",
       "    </tr>\n",
       "    <tr>\n",
       "      <th>4</th>\n",
       "      <td>0.000394</td>\n",
       "    </tr>\n",
       "  </tbody>\n",
       "</table>\n",
       "</div>"
      ],
      "text/plain": [
       "   adjusted_hiv_pos\n",
       "0          0.000547\n",
       "1          0.000477\n",
       "2          0.000432\n",
       "3          0.000399\n",
       "4          0.000394"
      ]
     },
     "execution_count": 20,
     "metadata": {},
     "output_type": "execute_result"
    }
   ],
   "source": [
    "tb_hiv_all_plot = tb_hiv_all[['e_inc_tbhiv_num']]\n",
    "tb_hiv_all_plot.insert(1, \"adjusted_hiv_pos\", ((tb_hiv_all['e_inc_tbhiv_num']/tb_hiv_all['e_pop_num'])*100)) \n",
    "tb_hiv_all_plot[['adjusted_hiv_pos']].head()"
   ]
  },
  {
   "cell_type": "code",
   "execution_count": 21,
   "metadata": {},
   "outputs": [
    {
     "data": {
      "image/png": "[encoded data removed]",
      "text/plain": [
       "<Figure size 432x288 with 1 Axes>"
      ]
     },
     "metadata": {
      "needs_background": "light"
     },
     "output_type": "display_data"
    }
   ],
   "source": [
    "tb_hiv_all_plot[['adjusted_hiv_pos']].plot.box()\n",
    "plt.show()"
   ]
  },
  {
   "cell_type": "markdown",
   "metadata": {},
   "source": [
    "\n",
    "While the plot above is informative, we can compare two different countries to get a much better, closer comparison. let's take Kenya and Uganda in our example"
   ]
  },
  {
   "cell_type": "code",
   "execution_count": 22,
   "metadata": {},
   "outputs": [],
   "source": [
    "# box plot for two countries, same variable\n",
    "\n",
    "box_plot_kenya = tb_hiv_all.loc[tb_hiv_all['country'] == \"Kenya\", ['e_inc_num','year']]\n",
    "\n",
    "box_plot_ug = tb_hiv_all.loc[tb_hiv_all['country'] == \"Uganda\", ['e_inc_num', 'year']]"
   ]
  },
  {
   "cell_type": "code",
   "execution_count": 23,
   "metadata": {},
   "outputs": [
    {
     "data": {
      "text/html": [
       "<div>\n",
       "<style scoped>\n",
       "    .dataframe tbody tr th:only-of-type {\n",
       "        vertical-align: middle;\n",
       "    }\n",
       "\n",
       "    .dataframe tbody tr th {\n",
       "        vertical-align: top;\n",
       "    }\n",
       "\n",
       "    .dataframe thead th {\n",
       "        text-align: right;\n",
       "    }\n",
       "</style>\n",
       "<table border=\"1\" class=\"dataframe\">\n",
       "  <thead>\n",
       "    <tr style=\"text-align: right;\">\n",
       "      <th></th>\n",
       "      <th>e_inc_num_x</th>\n",
       "      <th>year</th>\n",
       "      <th>e_inc_num_y</th>\n",
       "    </tr>\n",
       "  </thead>\n",
       "  <tbody>\n",
       "    <tr>\n",
       "      <th>0</th>\n",
       "      <td>142000</td>\n",
       "      <td>2000</td>\n",
       "      <td>66000</td>\n",
       "    </tr>\n",
       "    <tr>\n",
       "      <th>1</th>\n",
       "      <td>161000</td>\n",
       "      <td>2001</td>\n",
       "      <td>66000</td>\n",
       "    </tr>\n",
       "    <tr>\n",
       "      <th>2</th>\n",
       "      <td>177000</td>\n",
       "      <td>2002</td>\n",
       "      <td>66000</td>\n",
       "    </tr>\n",
       "    <tr>\n",
       "      <th>3</th>\n",
       "      <td>208000</td>\n",
       "      <td>2003</td>\n",
       "      <td>66000</td>\n",
       "    </tr>\n",
       "    <tr>\n",
       "      <th>4</th>\n",
       "      <td>222000</td>\n",
       "      <td>2004</td>\n",
       "      <td>66000</td>\n",
       "    </tr>\n",
       "  </tbody>\n",
       "</table>\n",
       "</div>"
      ],
      "text/plain": [
       "   e_inc_num_x  year  e_inc_num_y\n",
       "0       142000  2000        66000\n",
       "1       161000  2001        66000\n",
       "2       177000  2002        66000\n",
       "3       208000  2003        66000\n",
       "4       222000  2004        66000"
      ]
     },
     "execution_count": 23,
     "metadata": {},
     "output_type": "execute_result"
    }
   ],
   "source": [
    "# combined dataset\n",
    "combine_dataset = pd.merge(box_plot_kenya, box_plot_ug, on = ['year'], how = 'inner')\n",
    "combine_dataset.head()"
   ]
  },
  {
   "cell_type": "code",
   "execution_count": 24,
   "metadata": {},
   "outputs": [
    {
     "data": {
      "text/html": [
       "<div>\n",
       "<style scoped>\n",
       "    .dataframe tbody tr th:only-of-type {\n",
       "        vertical-align: middle;\n",
       "    }\n",
       "\n",
       "    .dataframe tbody tr th {\n",
       "        vertical-align: top;\n",
       "    }\n",
       "\n",
       "    .dataframe thead th {\n",
       "        text-align: right;\n",
       "    }\n",
       "</style>\n",
       "<table border=\"1\" class=\"dataframe\">\n",
       "  <thead>\n",
       "    <tr style=\"text-align: right;\">\n",
       "      <th></th>\n",
       "      <th>Kenya</th>\n",
       "      <th>year</th>\n",
       "      <th>Uganda</th>\n",
       "    </tr>\n",
       "  </thead>\n",
       "  <tbody>\n",
       "    <tr>\n",
       "      <th>13</th>\n",
       "      <td>199000</td>\n",
       "      <td>2013</td>\n",
       "      <td>76000</td>\n",
       "    </tr>\n",
       "    <tr>\n",
       "      <th>14</th>\n",
       "      <td>195000</td>\n",
       "      <td>2014</td>\n",
       "      <td>79000</td>\n",
       "    </tr>\n",
       "    <tr>\n",
       "      <th>15</th>\n",
       "      <td>180000</td>\n",
       "      <td>2015</td>\n",
       "      <td>81000</td>\n",
       "    </tr>\n",
       "    <tr>\n",
       "      <th>16</th>\n",
       "      <td>169000</td>\n",
       "      <td>2016</td>\n",
       "      <td>83000</td>\n",
       "    </tr>\n",
       "    <tr>\n",
       "      <th>17</th>\n",
       "      <td>158000</td>\n",
       "      <td>2017</td>\n",
       "      <td>86000</td>\n",
       "    </tr>\n",
       "  </tbody>\n",
       "</table>\n",
       "</div>"
      ],
      "text/plain": [
       "     Kenya  year  Uganda\n",
       "13  199000  2013   76000\n",
       "14  195000  2014   79000\n",
       "15  180000  2015   81000\n",
       "16  169000  2016   83000\n",
       "17  158000  2017   86000"
      ]
     },
     "execution_count": 24,
     "metadata": {},
     "output_type": "execute_result"
    }
   ],
   "source": [
    "#Rename series\n",
    "combine_dataset.rename(columns = {\"e_inc_num_x\":\"Kenya\", \"e_inc_num_y\":\"Uganda\"}, inplace = True)\n",
    "combine_dataset.tail()"
   ]
  },
  {
   "cell_type": "code",
   "execution_count": 25,
   "metadata": {},
   "outputs": [
    {
     "data": {
      "image/png": "[encoded data removed]",
      "text/plain": [
       "<Figure size 432x288 with 1 Axes>"
      ]
     },
     "metadata": {
      "needs_background": "light"
     },
     "output_type": "display_data"
    }
   ],
   "source": [
    "combine_dataset.plot(x = 'year', kind='bar')\n",
    "plt.ylabel('TB incurrence')\n",
    "plt.xlabel('Year')\n",
    "plt.show()"
   ]
  },
  {
   "cell_type": "code",
   "execution_count": 26,
   "metadata": {},
   "outputs": [
    {
     "data": {
      "text/html": [
       "<div>\n",
       "<style scoped>\n",
       "    .dataframe tbody tr th:only-of-type {\n",
       "        vertical-align: middle;\n",
       "    }\n",
       "\n",
       "    .dataframe tbody tr th {\n",
       "        vertical-align: top;\n",
       "    }\n",
       "\n",
       "    .dataframe thead th {\n",
       "        text-align: right;\n",
       "    }\n",
       "</style>\n",
       "<table border=\"1\" class=\"dataframe\">\n",
       "  <thead>\n",
       "    <tr style=\"text-align: right;\">\n",
       "      <th></th>\n",
       "      <th>Kenya</th>\n",
       "      <th>Uganda</th>\n",
       "    </tr>\n",
       "  </thead>\n",
       "  <tbody>\n",
       "    <tr>\n",
       "      <th>0</th>\n",
       "      <td>142000</td>\n",
       "      <td>66000</td>\n",
       "    </tr>\n",
       "    <tr>\n",
       "      <th>1</th>\n",
       "      <td>161000</td>\n",
       "      <td>66000</td>\n",
       "    </tr>\n",
       "    <tr>\n",
       "      <th>2</th>\n",
       "      <td>177000</td>\n",
       "      <td>66000</td>\n",
       "    </tr>\n",
       "    <tr>\n",
       "      <th>3</th>\n",
       "      <td>208000</td>\n",
       "      <td>66000</td>\n",
       "    </tr>\n",
       "    <tr>\n",
       "      <th>4</th>\n",
       "      <td>222000</td>\n",
       "      <td>66000</td>\n",
       "    </tr>\n",
       "  </tbody>\n",
       "</table>\n",
       "</div>"
      ],
      "text/plain": [
       "    Kenya  Uganda\n",
       "0  142000   66000\n",
       "1  161000   66000\n",
       "2  177000   66000\n",
       "3  208000   66000\n",
       "4  222000   66000"
      ]
     },
     "execution_count": 26,
     "metadata": {},
     "output_type": "execute_result"
    }
   ],
   "source": [
    "# drop year column\n",
    "combine_dataset = combine_dataset.drop(\"year\", axis = 1)\n",
    "combine_dataset.head()"
   ]
  },
  {
   "cell_type": "code",
   "execution_count": 27,
   "metadata": {},
   "outputs": [
    {
     "data": {
      "image/png": "[encoded data removed]",
      "text/plain": [
       "<Figure size 432x288 with 1 Axes>"
      ]
     },
     "metadata": {
      "needs_background": "light"
     },
     "output_type": "display_data"
    }
   ],
   "source": [
    "#plot box plot\n",
    "combine_dataset.plot.box()\n",
    "plt.show()"
   ]
  },
  {
   "cell_type": "markdown",
   "metadata": {},
   "source": [
    "That looks much better. We can easily see the variance between Kenya and Uganda . However, plotting the entire data seemed completely crammed when viewing the comparison for all 218 countries in our dataset. it's our objective to show these comparisons either way. Therefore, that will be our next objective."
   ]
  },
  {
   "cell_type": "markdown",
   "metadata": {},
   "source": [
    "### 5. Analyzing the incurrence of TB on the world's different income classes\n",
    "\n",
    "First we need to import the current GDP data that's on a seperate table and then merge it to our initial TB dataset for us to get the income groups."
   ]
  },
  {
   "cell_type": "code",
   "execution_count": 28,
   "metadata": {},
   "outputs": [],
   "source": [
    "# Importing numpy\n",
    "\n",
    "import numpy as np \n",
    "all_gdp_data = pd.read_csv ('https://raw.githubusercontent.com/waithiegeni/python_analysis/master/Metadata_Country_API_NY.GDP.PCAP.CD_DS2_en_csv_v2_10515199.csv', encoding = 'utf-8')"
   ]
  },
  {
   "cell_type": "code",
   "execution_count": 29,
   "metadata": {},
   "outputs": [
    {
     "data": {
      "text/html": [
       "<div>\n",
       "<style scoped>\n",
       "    .dataframe tbody tr th:only-of-type {\n",
       "        vertical-align: middle;\n",
       "    }\n",
       "\n",
       "    .dataframe tbody tr th {\n",
       "        vertical-align: top;\n",
       "    }\n",
       "\n",
       "    .dataframe thead th {\n",
       "        text-align: right;\n",
       "    }\n",
       "</style>\n",
       "<table border=\"1\" class=\"dataframe\">\n",
       "  <thead>\n",
       "    <tr style=\"text-align: right;\">\n",
       "      <th></th>\n",
       "      <th>country</th>\n",
       "      <th>iso3</th>\n",
       "      <th>e_inc_num</th>\n",
       "    </tr>\n",
       "  </thead>\n",
       "  <tbody>\n",
       "    <tr>\n",
       "      <th>0</th>\n",
       "      <td>Afghanistan</td>\n",
       "      <td>AFG</td>\n",
       "      <td>38000</td>\n",
       "    </tr>\n",
       "    <tr>\n",
       "      <th>1</th>\n",
       "      <td>Afghanistan</td>\n",
       "      <td>AFG</td>\n",
       "      <td>40000</td>\n",
       "    </tr>\n",
       "    <tr>\n",
       "      <th>2</th>\n",
       "      <td>Afghanistan</td>\n",
       "      <td>AFG</td>\n",
       "      <td>42000</td>\n",
       "    </tr>\n",
       "    <tr>\n",
       "      <th>3</th>\n",
       "      <td>Afghanistan</td>\n",
       "      <td>AFG</td>\n",
       "      <td>44000</td>\n",
       "    </tr>\n",
       "    <tr>\n",
       "      <th>4</th>\n",
       "      <td>Afghanistan</td>\n",
       "      <td>AFG</td>\n",
       "      <td>46000</td>\n",
       "    </tr>\n",
       "  </tbody>\n",
       "</table>\n",
       "</div>"
      ],
      "text/plain": [
       "       country iso3  e_inc_num\n",
       "0  Afghanistan  AFG      38000\n",
       "1  Afghanistan  AFG      40000\n",
       "2  Afghanistan  AFG      42000\n",
       "3  Afghanistan  AFG      44000\n",
       "4  Afghanistan  AFG      46000"
      ]
     },
     "execution_count": 29,
     "metadata": {},
     "output_type": "execute_result"
    }
   ],
   "source": [
    "# Select only the necessary columns needed on the TB dataset\n",
    "\n",
    "all_tb_data = all_tb[['country','iso3', 'e_inc_num']]\n",
    "all_tb_data.head()"
   ]
  },
  {
   "cell_type": "code",
   "execution_count": 30,
   "metadata": {},
   "outputs": [
    {
     "data": {
      "text/plain": [
       "country      218\n",
       "iso3         218\n",
       "e_inc_num    218\n",
       "dtype: int64"
      ]
     },
     "execution_count": 30,
     "metadata": {},
     "output_type": "execute_result"
    }
   ],
   "source": [
    "# Drop duplicates on the TB data\n",
    "\n",
    "all_tb_data = all_tb_data.drop_duplicates(subset = ['country'])\n",
    "all_tb_data.count()"
   ]
  },
  {
   "cell_type": "code",
   "execution_count": 31,
   "metadata": {},
   "outputs": [
    {
     "data": {
      "text/html": [
       "<div>\n",
       "<style scoped>\n",
       "    .dataframe tbody tr th:only-of-type {\n",
       "        vertical-align: middle;\n",
       "    }\n",
       "\n",
       "    .dataframe tbody tr th {\n",
       "        vertical-align: top;\n",
       "    }\n",
       "\n",
       "    .dataframe thead th {\n",
       "        text-align: right;\n",
       "    }\n",
       "</style>\n",
       "<table border=\"1\" class=\"dataframe\">\n",
       "  <thead>\n",
       "    <tr style=\"text-align: right;\">\n",
       "      <th></th>\n",
       "      <th>Country Code</th>\n",
       "      <th>IncomeGroup</th>\n",
       "    </tr>\n",
       "  </thead>\n",
       "  <tbody>\n",
       "    <tr>\n",
       "      <th>0</th>\n",
       "      <td>ABW</td>\n",
       "      <td>High income</td>\n",
       "    </tr>\n",
       "    <tr>\n",
       "      <th>1</th>\n",
       "      <td>AFG</td>\n",
       "      <td>Low income</td>\n",
       "    </tr>\n",
       "    <tr>\n",
       "      <th>2</th>\n",
       "      <td>AGO</td>\n",
       "      <td>Lower middle income</td>\n",
       "    </tr>\n",
       "    <tr>\n",
       "      <th>3</th>\n",
       "      <td>ALB</td>\n",
       "      <td>Upper middle income</td>\n",
       "    </tr>\n",
       "    <tr>\n",
       "      <th>4</th>\n",
       "      <td>AND</td>\n",
       "      <td>High income</td>\n",
       "    </tr>\n",
       "  </tbody>\n",
       "</table>\n",
       "</div>"
      ],
      "text/plain": [
       "  Country Code          IncomeGroup\n",
       "0          ABW          High income\n",
       "1          AFG           Low income\n",
       "2          AGO  Lower middle income\n",
       "3          ALB  Upper middle income\n",
       "4          AND          High income"
      ]
     },
     "execution_count": 31,
     "metadata": {},
     "output_type": "execute_result"
    }
   ],
   "source": [
    "# Selecting necessary columns from the gdp dataset\n",
    "\n",
    "all_gdp_data = all_gdp_data[['Country Code','IncomeGroup']]\n",
    "all_gdp_data.head()"
   ]
  },
  {
   "cell_type": "markdown",
   "metadata": {},
   "source": [
    "So in our GDP dataset you'll notice that the data in the \"country code\" is the same as that in the \"iso3\" column on the tb dataset. This is the key column that we'll use to help us merge the data to one table."
   ]
  },
  {
   "cell_type": "code",
   "execution_count": 32,
   "metadata": {},
   "outputs": [
    {
     "data": {
      "text/html": [
       "<div>\n",
       "<style scoped>\n",
       "    .dataframe tbody tr th:only-of-type {\n",
       "        vertical-align: middle;\n",
       "    }\n",
       "\n",
       "    .dataframe tbody tr th {\n",
       "        vertical-align: top;\n",
       "    }\n",
       "\n",
       "    .dataframe thead th {\n",
       "        text-align: right;\n",
       "    }\n",
       "</style>\n",
       "<table border=\"1\" class=\"dataframe\">\n",
       "  <thead>\n",
       "    <tr style=\"text-align: right;\">\n",
       "      <th></th>\n",
       "      <th>iso3</th>\n",
       "      <th>IncomeGroup</th>\n",
       "    </tr>\n",
       "  </thead>\n",
       "  <tbody>\n",
       "    <tr>\n",
       "      <th>0</th>\n",
       "      <td>ABW</td>\n",
       "      <td>High income</td>\n",
       "    </tr>\n",
       "    <tr>\n",
       "      <th>1</th>\n",
       "      <td>AFG</td>\n",
       "      <td>Low income</td>\n",
       "    </tr>\n",
       "    <tr>\n",
       "      <th>2</th>\n",
       "      <td>AGO</td>\n",
       "      <td>Lower middle income</td>\n",
       "    </tr>\n",
       "    <tr>\n",
       "      <th>3</th>\n",
       "      <td>ALB</td>\n",
       "      <td>Upper middle income</td>\n",
       "    </tr>\n",
       "    <tr>\n",
       "      <th>4</th>\n",
       "      <td>AND</td>\n",
       "      <td>High income</td>\n",
       "    </tr>\n",
       "  </tbody>\n",
       "</table>\n",
       "</div>"
      ],
      "text/plain": [
       "  iso3          IncomeGroup\n",
       "0  ABW          High income\n",
       "1  AFG           Low income\n",
       "2  AGO  Lower middle income\n",
       "3  ALB  Upper middle income\n",
       "4  AND          High income"
      ]
     },
     "execution_count": 32,
     "metadata": {},
     "output_type": "execute_result"
    }
   ],
   "source": [
    "# renaming country code \n",
    "\n",
    "all_gdp_data.rename(columns = {\"Country Code\": \"iso3\"}, inplace = True )\n",
    "all_gdp_data.head()"
   ]
  },
  {
   "cell_type": "code",
   "execution_count": 33,
   "metadata": {},
   "outputs": [
    {
     "data": {
      "text/plain": [
       "country        209\n",
       "iso3           209\n",
       "e_inc_num      209\n",
       "IncomeGroup    209\n",
       "dtype: int64"
      ]
     },
     "execution_count": 33,
     "metadata": {},
     "output_type": "execute_result"
    }
   ],
   "source": [
    "# merging TB data with GDP data\n",
    "\n",
    "merged_data = pd.merge(all_tb_data,all_gdp_data, on = ['iso3'])\n",
    "merged_data.count()"
   ]
  },
  {
   "cell_type": "markdown",
   "metadata": {},
   "source": [
    "We notice after merging the data that the count has dropped from 218 to 209, we need to find out which of the 9 countries were omitted during the merge."
   ]
  },
  {
   "cell_type": "code",
   "execution_count": 34,
   "metadata": {},
   "outputs": [
    {
     "data": {
      "text/html": [
       "<div>\n",
       "<style scoped>\n",
       "    .dataframe tbody tr th:only-of-type {\n",
       "        vertical-align: middle;\n",
       "    }\n",
       "\n",
       "    .dataframe tbody tr th {\n",
       "        vertical-align: top;\n",
       "    }\n",
       "\n",
       "    .dataframe thead th {\n",
       "        text-align: right;\n",
       "    }\n",
       "</style>\n",
       "<table border=\"1\" class=\"dataframe\">\n",
       "  <thead>\n",
       "    <tr style=\"text-align: right;\">\n",
       "      <th></th>\n",
       "      <th>country_x</th>\n",
       "      <th>iso3</th>\n",
       "      <th>e_inc_num_x</th>\n",
       "      <th>country_y</th>\n",
       "      <th>e_inc_num_y</th>\n",
       "      <th>IncomeGroup</th>\n",
       "      <th>_merge</th>\n",
       "    </tr>\n",
       "  </thead>\n",
       "  <tbody>\n",
       "    <tr>\n",
       "      <th>6</th>\n",
       "      <td>Anguilla</td>\n",
       "      <td>AIA</td>\n",
       "      <td>2</td>\n",
       "      <td>NaN</td>\n",
       "      <td>NaN</td>\n",
       "      <td>NaN</td>\n",
       "      <td>left_only</td>\n",
       "    </tr>\n",
       "    <tr>\n",
       "      <th>25</th>\n",
       "      <td>Bonaire, Saint Eustatius and Saba</td>\n",
       "      <td>BES</td>\n",
       "      <td>0</td>\n",
       "      <td>NaN</td>\n",
       "      <td>NaN</td>\n",
       "      <td>NaN</td>\n",
       "      <td>left_only</td>\n",
       "    </tr>\n",
       "    <tr>\n",
       "      <th>48</th>\n",
       "      <td>Cook Islands</td>\n",
       "      <td>COK</td>\n",
       "      <td>1</td>\n",
       "      <td>NaN</td>\n",
       "      <td>NaN</td>\n",
       "      <td>NaN</td>\n",
       "      <td>left_only</td>\n",
       "    </tr>\n",
       "    <tr>\n",
       "      <th>128</th>\n",
       "      <td>Montserrat</td>\n",
       "      <td>MSR</td>\n",
       "      <td>0</td>\n",
       "      <td>NaN</td>\n",
       "      <td>NaN</td>\n",
       "      <td>NaN</td>\n",
       "      <td>left_only</td>\n",
       "    </tr>\n",
       "    <tr>\n",
       "      <th>135</th>\n",
       "      <td>Netherlands Antilles</td>\n",
       "      <td>ANT</td>\n",
       "      <td>6</td>\n",
       "      <td>NaN</td>\n",
       "      <td>NaN</td>\n",
       "      <td>NaN</td>\n",
       "      <td>left_only</td>\n",
       "    </tr>\n",
       "    <tr>\n",
       "      <th>142</th>\n",
       "      <td>Niue</td>\n",
       "      <td>NIU</td>\n",
       "      <td>0</td>\n",
       "      <td>NaN</td>\n",
       "      <td>NaN</td>\n",
       "      <td>NaN</td>\n",
       "      <td>left_only</td>\n",
       "    </tr>\n",
       "    <tr>\n",
       "      <th>170</th>\n",
       "      <td>Serbia &amp; Montenegro</td>\n",
       "      <td>SCG</td>\n",
       "      <td>3300</td>\n",
       "      <td>NaN</td>\n",
       "      <td>NaN</td>\n",
       "      <td>NaN</td>\n",
       "      <td>left_only</td>\n",
       "    </tr>\n",
       "    <tr>\n",
       "      <th>194</th>\n",
       "      <td>Tokelau</td>\n",
       "      <td>TKL</td>\n",
       "      <td>0</td>\n",
       "      <td>NaN</td>\n",
       "      <td>NaN</td>\n",
       "      <td>NaN</td>\n",
       "      <td>left_only</td>\n",
       "    </tr>\n",
       "    <tr>\n",
       "      <th>213</th>\n",
       "      <td>Wallis and Futuna Islands</td>\n",
       "      <td>WLF</td>\n",
       "      <td>2</td>\n",
       "      <td>NaN</td>\n",
       "      <td>NaN</td>\n",
       "      <td>NaN</td>\n",
       "      <td>left_only</td>\n",
       "    </tr>\n",
       "  </tbody>\n",
       "</table>\n",
       "</div>"
      ],
      "text/plain": [
       "                             country_x iso3  e_inc_num_x country_y  \\\n",
       "6                             Anguilla  AIA            2       NaN   \n",
       "25   Bonaire, Saint Eustatius and Saba  BES            0       NaN   \n",
       "48                        Cook Islands  COK            1       NaN   \n",
       "128                         Montserrat  MSR            0       NaN   \n",
       "135               Netherlands Antilles  ANT            6       NaN   \n",
       "142                               Niue  NIU            0       NaN   \n",
       "170                Serbia & Montenegro  SCG         3300       NaN   \n",
       "194                            Tokelau  TKL            0       NaN   \n",
       "213          Wallis and Futuna Islands  WLF            2       NaN   \n",
       "\n",
       "     e_inc_num_y IncomeGroup     _merge  \n",
       "6            NaN         NaN  left_only  \n",
       "25           NaN         NaN  left_only  \n",
       "48           NaN         NaN  left_only  \n",
       "128          NaN         NaN  left_only  \n",
       "135          NaN         NaN  left_only  \n",
       "142          NaN         NaN  left_only  \n",
       "170          NaN         NaN  left_only  \n",
       "194          NaN         NaN  left_only  \n",
       "213          NaN         NaN  left_only  "
      ]
     },
     "execution_count": 34,
     "metadata": {},
     "output_type": "execute_result"
    }
   ],
   "source": [
    "#countries not included on income data\n",
    "not_included = pd.merge(all_tb_data, merged_data, on = ['iso3'], how = \"left\", indicator = True)\n",
    "\n",
    "not_included = not_included.loc[not_included[\"_merge\"] == \"left_only\"]\n",
    "not_included"
   ]
  },
  {
   "cell_type": "code",
   "execution_count": 35,
   "metadata": {},
   "outputs": [
    {
     "data": {
      "text/plain": [
       "9"
      ]
     },
     "execution_count": 35,
     "metadata": {},
     "output_type": "execute_result"
    }
   ],
   "source": [
    "len(not_included)"
   ]
  },
  {
   "cell_type": "code",
   "execution_count": 36,
   "metadata": {},
   "outputs": [
    {
     "data": {
      "text/html": [
       "<div>\n",
       "<style scoped>\n",
       "    .dataframe tbody tr th:only-of-type {\n",
       "        vertical-align: middle;\n",
       "    }\n",
       "\n",
       "    .dataframe tbody tr th {\n",
       "        vertical-align: top;\n",
       "    }\n",
       "\n",
       "    .dataframe thead th {\n",
       "        text-align: right;\n",
       "    }\n",
       "</style>\n",
       "<table border=\"1\" class=\"dataframe\">\n",
       "  <thead>\n",
       "    <tr style=\"text-align: right;\">\n",
       "      <th></th>\n",
       "      <th>country</th>\n",
       "      <th>iso3</th>\n",
       "      <th>e_inc_num</th>\n",
       "      <th>IncomeGroup</th>\n",
       "    </tr>\n",
       "  </thead>\n",
       "  <tbody>\n",
       "    <tr>\n",
       "      <th>0</th>\n",
       "      <td>Afghanistan</td>\n",
       "      <td>AFG</td>\n",
       "      <td>38000</td>\n",
       "      <td>Low income</td>\n",
       "    </tr>\n",
       "    <tr>\n",
       "      <th>1</th>\n",
       "      <td>Albania</td>\n",
       "      <td>ALB</td>\n",
       "      <td>690</td>\n",
       "      <td>Upper middle income</td>\n",
       "    </tr>\n",
       "    <tr>\n",
       "      <th>2</th>\n",
       "      <td>Algeria</td>\n",
       "      <td>DZA</td>\n",
       "      <td>23000</td>\n",
       "      <td>Upper middle income</td>\n",
       "    </tr>\n",
       "    <tr>\n",
       "      <th>3</th>\n",
       "      <td>American Samoa</td>\n",
       "      <td>ASM</td>\n",
       "      <td>3</td>\n",
       "      <td>Upper middle income</td>\n",
       "    </tr>\n",
       "    <tr>\n",
       "      <th>4</th>\n",
       "      <td>Andorra</td>\n",
       "      <td>AND</td>\n",
       "      <td>14</td>\n",
       "      <td>High income</td>\n",
       "    </tr>\n",
       "  </tbody>\n",
       "</table>\n",
       "</div>"
      ],
      "text/plain": [
       "          country iso3  e_inc_num          IncomeGroup\n",
       "0     Afghanistan  AFG      38000           Low income\n",
       "1         Albania  ALB        690  Upper middle income\n",
       "2         Algeria  DZA      23000  Upper middle income\n",
       "3  American Samoa  ASM          3  Upper middle income\n",
       "4         Andorra  AND         14          High income"
      ]
     },
     "execution_count": 36,
     "metadata": {},
     "output_type": "execute_result"
    }
   ],
   "source": [
    "# looking at our merged data\n",
    "\n",
    "merged_data.head()"
   ]
  },
  {
   "cell_type": "code",
   "execution_count": 37,
   "metadata": {},
   "outputs": [
    {
     "data": {
      "image/png": "[encoded data removed]",
      "text/plain": [
       "<Figure size 432x288 with 1 Axes>"
      ]
     },
     "metadata": {
      "needs_background": "light"
     },
     "output_type": "display_data"
    }
   ],
   "source": [
    "# plotting the data\n",
    "merged_data.groupby('IncomeGroup')['e_inc_num'].sum().plot(kind='bar')\n",
    "plt.show()"
   ]
  },
  {
   "cell_type": "markdown",
   "metadata": {},
   "source": [
    "Well, this is interesting, i expected the low income group to record a higher incurrence in TB, so let's do an aggregate and confirm whether our analysis is accurate"
   ]
  },
  {
   "cell_type": "code",
   "execution_count": 38,
   "metadata": {},
   "outputs": [
    {
     "data": {
      "text/plain": [
       "IncomeGroup\n",
       "High income             206171\n",
       "Low income             1425410\n",
       "Lower middle income    6414870\n",
       "Upper middle income    2387278\n",
       "Name: e_inc_num, dtype: int64"
      ]
     },
     "execution_count": 38,
     "metadata": {},
     "output_type": "execute_result"
    }
   ],
   "source": [
    "# Grouping by IncomeGroup\n",
    "\n",
    "merged_data_grouped = merged_data.groupby('IncomeGroup').e_inc_num.sum()\n",
    "merged_data_grouped"
   ]
  },
  {
   "cell_type": "markdown",
   "metadata": {},
   "source": [
    "Let's get the rate of incurrence per continent. We will need to group the countries to continets"
   ]
  },
  {
   "cell_type": "markdown",
   "metadata": {},
   "source": [
    "###### Rate of Incurrence per WHO Region"
   ]
  },
  {
   "cell_type": "code",
   "execution_count": 39,
   "metadata": {},
   "outputs": [
    {
     "data": {
      "text/html": [
       "<div>\n",
       "<style scoped>\n",
       "    .dataframe tbody tr th:only-of-type {\n",
       "        vertical-align: middle;\n",
       "    }\n",
       "\n",
       "    .dataframe tbody tr th {\n",
       "        vertical-align: top;\n",
       "    }\n",
       "\n",
       "    .dataframe thead th {\n",
       "        text-align: right;\n",
       "    }\n",
       "</style>\n",
       "<table border=\"1\" class=\"dataframe\">\n",
       "  <thead>\n",
       "    <tr style=\"text-align: right;\">\n",
       "      <th></th>\n",
       "      <th>country</th>\n",
       "      <th>year</th>\n",
       "      <th>g_whoregion</th>\n",
       "      <th>e_inc_num</th>\n",
       "      <th>e_pop_num</th>\n",
       "      <th>perc_rate_tb</th>\n",
       "    </tr>\n",
       "  </thead>\n",
       "  <tbody>\n",
       "    <tr>\n",
       "      <th>0</th>\n",
       "      <td>Afghanistan</td>\n",
       "      <td>2000</td>\n",
       "      <td>EMR</td>\n",
       "      <td>38000</td>\n",
       "      <td>20093756</td>\n",
       "      <td>0.19</td>\n",
       "    </tr>\n",
       "    <tr>\n",
       "      <th>1</th>\n",
       "      <td>Afghanistan</td>\n",
       "      <td>2001</td>\n",
       "      <td>EMR</td>\n",
       "      <td>40000</td>\n",
       "      <td>20966463</td>\n",
       "      <td>0.19</td>\n",
       "    </tr>\n",
       "    <tr>\n",
       "      <th>2</th>\n",
       "      <td>Afghanistan</td>\n",
       "      <td>2002</td>\n",
       "      <td>EMR</td>\n",
       "      <td>42000</td>\n",
       "      <td>21979923</td>\n",
       "      <td>0.19</td>\n",
       "    </tr>\n",
       "    <tr>\n",
       "      <th>3</th>\n",
       "      <td>Afghanistan</td>\n",
       "      <td>2003</td>\n",
       "      <td>EMR</td>\n",
       "      <td>44000</td>\n",
       "      <td>23064851</td>\n",
       "      <td>0.19</td>\n",
       "    </tr>\n",
       "    <tr>\n",
       "      <th>4</th>\n",
       "      <td>Afghanistan</td>\n",
       "      <td>2004</td>\n",
       "      <td>EMR</td>\n",
       "      <td>46000</td>\n",
       "      <td>24118979</td>\n",
       "      <td>0.19</td>\n",
       "    </tr>\n",
       "  </tbody>\n",
       "</table>\n",
       "</div>"
      ],
      "text/plain": [
       "       country  year g_whoregion  e_inc_num  e_pop_num  perc_rate_tb\n",
       "0  Afghanistan  2000         EMR      38000   20093756          0.19\n",
       "1  Afghanistan  2001         EMR      40000   20966463          0.19\n",
       "2  Afghanistan  2002         EMR      42000   21979923          0.19\n",
       "3  Afghanistan  2003         EMR      44000   23064851          0.19\n",
       "4  Afghanistan  2004         EMR      46000   24118979          0.19"
      ]
     },
     "execution_count": 39,
     "metadata": {},
     "output_type": "execute_result"
    }
   ],
   "source": [
    "# selecting necessary columns\n",
    "all_tb = all_tb[['country', 'year' , 'g_whoregion', 'e_inc_num', 'e_pop_num', 'perc_rate_tb']]\n",
    "all_tb.head()"
   ]
  },
  {
   "cell_type": "code",
   "execution_count": 40,
   "metadata": {},
   "outputs": [
    {
     "data": {
      "text/html": [
       "<div>\n",
       "<style scoped>\n",
       "    .dataframe tbody tr th:only-of-type {\n",
       "        vertical-align: middle;\n",
       "    }\n",
       "\n",
       "    .dataframe tbody tr th {\n",
       "        vertical-align: top;\n",
       "    }\n",
       "\n",
       "    .dataframe thead th {\n",
       "        text-align: right;\n",
       "    }\n",
       "</style>\n",
       "<table border=\"1\" class=\"dataframe\">\n",
       "  <thead>\n",
       "    <tr style=\"text-align: right;\">\n",
       "      <th></th>\n",
       "      <th>country</th>\n",
       "      <th>g_whoregion</th>\n",
       "      <th>perc_rate_tb</th>\n",
       "    </tr>\n",
       "  </thead>\n",
       "  <tbody>\n",
       "    <tr>\n",
       "      <th>0</th>\n",
       "      <td>Afghanistan</td>\n",
       "      <td>EMR</td>\n",
       "      <td>0.190000</td>\n",
       "    </tr>\n",
       "    <tr>\n",
       "      <th>1</th>\n",
       "      <td>Albania</td>\n",
       "      <td>EUR</td>\n",
       "      <td>0.020000</td>\n",
       "    </tr>\n",
       "    <tr>\n",
       "      <th>2</th>\n",
       "      <td>Algeria</td>\n",
       "      <td>AFR</td>\n",
       "      <td>0.075000</td>\n",
       "    </tr>\n",
       "    <tr>\n",
       "      <th>3</th>\n",
       "      <td>American Samoa</td>\n",
       "      <td>WPR</td>\n",
       "      <td>0.009444</td>\n",
       "    </tr>\n",
       "    <tr>\n",
       "      <th>4</th>\n",
       "      <td>Andorra</td>\n",
       "      <td>EUR</td>\n",
       "      <td>0.011667</td>\n",
       "    </tr>\n",
       "  </tbody>\n",
       "</table>\n",
       "</div>"
      ],
      "text/plain": [
       "          country g_whoregion  perc_rate_tb\n",
       "0     Afghanistan         EMR      0.190000\n",
       "1         Albania         EUR      0.020000\n",
       "2         Algeria         AFR      0.075000\n",
       "3  American Samoa         WPR      0.009444\n",
       "4         Andorra         EUR      0.011667"
      ]
     },
     "execution_count": 40,
     "metadata": {},
     "output_type": "execute_result"
    }
   ],
   "source": [
    "# Grouping by country\n",
    "all_tb_group = all_tb.groupby(['country', 'g_whoregion'] ).perc_rate_tb.mean().reset_index()\n",
    "all_tb_group.head()"
   ]
  },
  {
   "cell_type": "code",
   "execution_count": 41,
   "metadata": {},
   "outputs": [
    {
     "data": {
      "text/html": [
       "<div>\n",
       "<style scoped>\n",
       "    .dataframe tbody tr th:only-of-type {\n",
       "        vertical-align: middle;\n",
       "    }\n",
       "\n",
       "    .dataframe tbody tr th {\n",
       "        vertical-align: top;\n",
       "    }\n",
       "\n",
       "    .dataframe thead th {\n",
       "        text-align: right;\n",
       "    }\n",
       "</style>\n",
       "<table border=\"1\" class=\"dataframe\">\n",
       "  <thead>\n",
       "    <tr style=\"text-align: right;\">\n",
       "      <th></th>\n",
       "      <th>country</th>\n",
       "      <th>WHO_Regions</th>\n",
       "      <th>perc_rate_tb</th>\n",
       "    </tr>\n",
       "  </thead>\n",
       "  <tbody>\n",
       "    <tr>\n",
       "      <th>0</th>\n",
       "      <td>Afghanistan</td>\n",
       "      <td>EMR</td>\n",
       "      <td>0.190000</td>\n",
       "    </tr>\n",
       "    <tr>\n",
       "      <th>1</th>\n",
       "      <td>Albania</td>\n",
       "      <td>EUR</td>\n",
       "      <td>0.020000</td>\n",
       "    </tr>\n",
       "    <tr>\n",
       "      <th>2</th>\n",
       "      <td>Algeria</td>\n",
       "      <td>AFR</td>\n",
       "      <td>0.075000</td>\n",
       "    </tr>\n",
       "    <tr>\n",
       "      <th>3</th>\n",
       "      <td>American Samoa</td>\n",
       "      <td>WPR</td>\n",
       "      <td>0.009444</td>\n",
       "    </tr>\n",
       "    <tr>\n",
       "      <th>4</th>\n",
       "      <td>Andorra</td>\n",
       "      <td>EUR</td>\n",
       "      <td>0.011667</td>\n",
       "    </tr>\n",
       "  </tbody>\n",
       "</table>\n",
       "</div>"
      ],
      "text/plain": [
       "          country WHO_Regions  perc_rate_tb\n",
       "0     Afghanistan         EMR      0.190000\n",
       "1         Albania         EUR      0.020000\n",
       "2         Algeria         AFR      0.075000\n",
       "3  American Samoa         WPR      0.009444\n",
       "4         Andorra         EUR      0.011667"
      ]
     },
     "execution_count": 41,
     "metadata": {},
     "output_type": "execute_result"
    }
   ],
   "source": [
    "#rename columns \n",
    "\n",
    "all_tb_group.rename(columns = {\"g_whoregion\": \"WHO_Regions\"}, inplace = True )\n",
    "all_tb_group.head()"
   ]
  },
  {
   "cell_type": "code",
   "execution_count": 42,
   "metadata": {},
   "outputs": [
    {
     "data": {
      "text/plain": [
       "WHO_Regions\n",
       "AFR    13.875397\n",
       "AMR     1.460972\n",
       "EMR     1.843889\n",
       "EUR     2.366009\n",
       "SEA     2.877014\n",
       "WPR     4.535000\n",
       "Name: perc_rate_tb, dtype: float64"
      ]
     },
     "execution_count": 42,
     "metadata": {},
     "output_type": "execute_result"
    }
   ],
   "source": [
    "# Grouping by Regions\n",
    "\n",
    "summary = all_tb_group.groupby('WHO_Regions')['perc_rate_tb'].sum()\n",
    "summary"
   ]
  },
  {
   "cell_type": "code",
   "execution_count": 43,
   "metadata": {},
   "outputs": [],
   "source": [
    "#Import matplotlib patches \n",
    "\n",
    "import matplotlib.patches as mpatches"
   ]
  },
  {
   "cell_type": "code",
   "execution_count": 44,
   "metadata": {},
   "outputs": [
    {
     "data": {
      "image/png": "[encoded data removed]",
      "text/plain": [
       "<Figure size 432x288 with 1 Axes>"
      ]
     },
     "metadata": {
      "needs_background": "light"
     },
     "output_type": "display_data"
    }
   ],
   "source": [
    "# Plotting the results\n",
    "\n",
    "summary.plot(kind='bar', rot = 0)\n",
    "AFR = mpatches.Patch(color = 'orangered',label='Africa')\n",
    "AMR = mpatches.Patch(label='America')\n",
    "EMR = mpatches.Patch(color = 'mediumpurple',label='Eastern Mediterranean Region')\n",
    "EUR = mpatches.Patch(color = 'grey', label='Europe')\n",
    "SEA = mpatches.Patch(color = 'gold',label='South East Asia')\n",
    "WPR = mpatches.Patch(color = 'yellowgreen',label='West Pacific Region')\n",
    "plt.legend(handles=[AFR,AMR,EMR,EUR,SEA,WPR], loc=1)\n",
    "plt.show()"
   ]
  },
  {
   "cell_type": "markdown",
   "metadata": {},
   "source": [
    "Let's find out the incurrence of TB in these regions per country"
   ]
  },
  {
   "cell_type": "markdown",
   "metadata": {},
   "source": [
    "### Rate of Incurrence per country in each region"
   ]
  },
  {
   "cell_type": "code",
   "execution_count": 45,
   "metadata": {},
   "outputs": [
    {
     "data": {
      "text/plain": [
       "year            835\n",
       "country         835\n",
       "perc_rate_tb    835\n",
       "dtype: int64"
      ]
     },
     "execution_count": 45,
     "metadata": {},
     "output_type": "execute_result"
    }
   ],
   "source": [
    "#select countries in Africa region\n",
    "\n",
    "all_afr = all_tb.loc[all_tb['g_whoregion'] == 'AFR', ['year', 'country', 'perc_rate_tb']]\n",
    "all_afr.count()"
   ]
  },
  {
   "cell_type": "code",
   "execution_count": 46,
   "metadata": {},
   "outputs": [
    {
     "data": {
      "text/plain": [
       "47"
      ]
     },
     "execution_count": 46,
     "metadata": {},
     "output_type": "execute_result"
    }
   ],
   "source": [
    "#group by country\n",
    "\n",
    "afr_summary = all_afr.groupby('country')['perc_rate_tb'].mean().sort_values()\n",
    "afr_summary.count()"
   ]
  },
  {
   "cell_type": "code",
   "execution_count": 47,
   "metadata": {
    "scrolled": false
   },
   "outputs": [
    {
     "data": {
      "image/png": "[encoded data removed]",
      "text/plain": [
       "<Figure size 720x720 with 1 Axes>"
      ]
     },
     "metadata": {
      "needs_background": "light"
     },
     "output_type": "display_data"
    }
   ],
   "source": [
    "# Plotting the countries \n",
    "\n",
    "afr_summary.plot(kind='barh', figsize=(10,10))\n",
    "plt.xlabel('Rate of Incurrence')\n",
    "plt.title('Rate of TB Incurrence in Africa')\n",
    "plt.show()"
   ]
  },
  {
   "cell_type": "code",
   "execution_count": 48,
   "metadata": {},
   "outputs": [],
   "source": [
    "#select countries in West Pacific region\n",
    "\n",
    "all_wpr = all_tb.loc[all_tb['g_whoregion']=='WPR',['year', 'country', 'perc_rate_tb']]"
   ]
  },
  {
   "cell_type": "code",
   "execution_count": 49,
   "metadata": {},
   "outputs": [
    {
     "data": {
      "image/png": "[encoded data removed]",
      "text/plain": [
       "<Figure size 720x720 with 1 Axes>"
      ]
     },
     "metadata": {
      "needs_background": "light"
     },
     "output_type": "display_data"
    }
   ],
   "source": [
    "# Plotting the figures\n",
    "\n",
    "all_wpr.groupby('country')['perc_rate_tb'].mean().sort_values().plot(kind='barh', figsize=(10,10))\n",
    "plt.xlabel('Rate of Incurrence')\n",
    "plt.title('Rate of TB Incurrence in West Pacific')\n",
    "plt.show()\n"
   ]
  },
  {
   "cell_type": "code",
   "execution_count": 50,
   "metadata": {},
   "outputs": [],
   "source": [
    "#select countries in South East Asia region\n",
    "\n",
    "all_sea = all_tb.loc[all_tb['g_whoregion']=='SEA',['year', 'country', 'perc_rate_tb']]\n"
   ]
  },
  {
   "cell_type": "code",
   "execution_count": 51,
   "metadata": {},
   "outputs": [
    {
     "data": {
      "image/png": "[encoded data removed]",
      "text/plain": [
       "<Figure size 720x360 with 1 Axes>"
      ]
     },
     "metadata": {
      "needs_background": "light"
     },
     "output_type": "display_data"
    }
   ],
   "source": [
    "# Plotting the figures \n",
    "\n",
    "all_sea.groupby('country')['perc_rate_tb'].mean().sort_values().plot(kind='barh', figsize=(10,5))\n",
    "plt.xlabel('Rate of Incurrence')\n",
    "plt.title('Rate of TB Incurrence in South East Asia')\n",
    "plt.show()"
   ]
  },
  {
   "cell_type": "code",
   "execution_count": 52,
   "metadata": {},
   "outputs": [],
   "source": [
    "#select countries in Europe region\n",
    "\n",
    "all_eur = all_tb.loc[all_tb['g_whoregion']=='EUR',['year', 'country', 'perc_rate_tb']]"
   ]
  },
  {
   "cell_type": "code",
   "execution_count": 53,
   "metadata": {},
   "outputs": [
    {
     "data": {
      "image/png": "[encoded data removed]",
      "text/plain": [
       "<Figure size 720x936 with 1 Axes>"
      ]
     },
     "metadata": {
      "needs_background": "light"
     },
     "output_type": "display_data"
    }
   ],
   "source": [
    "# Plotting the figures \n",
    "\n",
    "all_eur.groupby('country')['perc_rate_tb'].mean().sort_values().plot(kind='barh', figsize=(10,13))\n",
    "plt.xlabel('Rate of Incurrence')\n",
    "plt.title('Rate of TB Incurrence in Europe')\n",
    "plt.show()\n"
   ]
  },
  {
   "cell_type": "code",
   "execution_count": 54,
   "metadata": {},
   "outputs": [],
   "source": [
    "#select countries in Eastern Mediterranean Region region\n",
    "\n",
    "all_emr = all_tb.loc[all_tb['g_whoregion']=='EMR',['year', 'country', 'perc_rate_tb']]\n"
   ]
  },
  {
   "cell_type": "code",
   "execution_count": 55,
   "metadata": {},
   "outputs": [
    {
     "data": {
      "image/png": "[encoded data removed]",
      "text/plain": [
       "<Figure size 720x360 with 1 Axes>"
      ]
     },
     "metadata": {
      "needs_background": "light"
     },
     "output_type": "display_data"
    }
   ],
   "source": [
    "#Plotting the figures \n",
    "\n",
    "all_emr.groupby('country')['perc_rate_tb'].mean().sort_values().plot(kind='barh', figsize=(10,5))\n",
    "plt.xlabel('Rate of Incurrence')\n",
    "plt.title('Rate of TB Incurrence in Eastern Mediterranean')\n",
    "plt.show()\n"
   ]
  },
  {
   "cell_type": "code",
   "execution_count": 56,
   "metadata": {},
   "outputs": [],
   "source": [
    "#select countries in America region\n",
    "\n",
    "all_amr = all_tb.loc[all_tb['g_whoregion']=='AMR',['year', 'country', 'perc_rate_tb']]"
   ]
  },
  {
   "cell_type": "code",
   "execution_count": 57,
   "metadata": {},
   "outputs": [
    {
     "data": {
      "image/png": "[encoded data removed]",
      "text/plain": [
       "<Figure size 720x720 with 1 Axes>"
      ]
     },
     "metadata": {
      "needs_background": "light"
     },
     "output_type": "display_data"
    }
   ],
   "source": [
    "# plotting the figures\n",
    "\n",
    "all_amr.groupby('country')['perc_rate_tb'].mean().sort_values().plot(kind='barh', figsize=(10,10))\n",
    "plt.xlabel('Rate of Incurrence')\n",
    "plt.title('Rate of TB Incurrence in America')\n",
    "plt.show()\n"
   ]
  },
  {
   "cell_type": "code",
   "execution_count": null,
   "metadata": {},
   "outputs": [],
   "source": []
  }
 ],
 "metadata": {
  "kernelspec": {
   "display_name": "Python 3",
   "language": "python",
   "name": "python3"
  },
  "language_info": {
   "codemirror_mode": {
    "name": "ipython",
    "version": 3
   },
   "file_extension": ".py",
   "mimetype": "text/x-python",
   "name": "python",
   "nbconvert_exporter": "python",
   "pygments_lexer": "ipython3",
   "version": "3.7.2"
  }
 },
 "nbformat": 4,
 "nbformat_minor": 2
}
